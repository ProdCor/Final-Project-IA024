{
 "cells": [
  {
   "cell_type": "code",
   "execution_count": 5,
   "metadata": {},
   "outputs": [],
   "source": [
    "'''!pip install Groq -q\n",
    "!pip install groq -q'''"
   ]
  },
  {
   "cell_type": "code",
   "execution_count": 25,
   "metadata": {},
   "outputs": [],
   "source": [
    "TEST_PATH = '../input/Raw Text/FAQ/faq.json'\n",
    "TEXT_PATH = '../input/Raw Text/Legislation/output_legislation.json'"
   ]
  },
  {
   "cell_type": "code",
   "execution_count": 27,
   "metadata": {},
   "outputs": [],
   "source": [
    "import json\n",
    "\n",
    "test_set = json.load(open(TEST_PATH, 'r'))\n",
    "legis_set = json.load(open(TEXT_PATH, 'r'))"
   ]
  },
  {
   "cell_type": "code",
   "execution_count": 7,
   "metadata": {},
   "outputs": [],
   "source": [
    "from groq import Groq\n",
    "\n",
    "client = Groq(api_key='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')\n",
    "\n",
    "def groq_chat(content):\n",
    "    chat_completion = client.chat.completions.create(\n",
    "        messages=[\n",
    "            {\n",
    "                \"role\": \"user\",\n",
    "                \"content\": content,\n",
    "            }\n",
    "        ],\n",
    "        model=\"llama3-70b-8192\",\n",
    "    )\n",
    "    return chat_completion.choices[0].message.content"
   ]
  },
  {
   "cell_type": "code",
   "execution_count": 36,
   "metadata": {},
   "outputs": [
    {
     "name": "stdout",
     "output_type": "stream",
     "text": [
      "0: Em quais hipóteses a Procuradoria Geral pode exercer a representação judicial e extrajudicial de servidores da UNICAMP?\n",
      "A Procuradoria Geral da UNICAMP integra a Advocacia Pública e está vinculada à Procuradoria Geral do Estado, para fins de atuação uniforme e coordenada, nos termos do artigo 101 da Constituição Estadual. Além disso, é o órgão de representação jurídica da Universidade e de assessoramento jurídico da Reitoria, consoante prevê o artigo 95 do Regimento Geral da UNICAMP. Desta forma, conforme previsão regimental, a Procuradoria Geral tem a função institucional de defender os interesses da universidade, enquanto autarquia estadual, estritamente vinculada ao atendimento do interesse público. A representação judicial ou extrajudicial de servidor com vínculo funcional permanente poderá ocorrer em caráter excepcional, nas hipóteses em que o ato impugnado decorrer do exercício de suas atribuições constitucionais, legais ou regulamentares, quando o ato praticado tiver seguido a orientação jurídica da Procuradoria e desde que não haja conflito de interesses, sempre com autorização expressa do Reitor.\n",
      "----------------------------------------------------------------------\n",
      "1: Como ocorrem as atividades de cooperação, pesquisa, ensino, extensão e prestação de serviços entre a Unicamp e terceiros, pessoas físicas ou jurídicas?\n",
      "Nos termos do art. 1° da Deliberação CONSU-A-016/2022, a atuação da Universidade em atividades de cooperação, pesquisa, ensino, extensão e prestação de serviços junto a terceiros, pessoas físicas ou jurídicas, deve ocorrer mediante prévia celebração de convênios, contratos e instrumentos similares.\n",
      "----------------------------------------------------------------------\n",
      "2: Qual é o procedimento para a celebração de convênios, contratos e instrumentos similares relativos às atividades de cooperação, pesquisa, ensino, extensão e prestação de serviços pela Unicamp?\n",
      "Na Unicamp, a celebração de convênios, contratos e instrumentos similares (aqui sempre referidos como “convênios”) é regulamentada pela Deliberação CONSU-A-016/2022. O servidor responsável pela proposta de convênio deve providenciar a abertura de um processo administrativo na Unidade ou Órgão onde a atividade principal será realizada, instruí-lo com os documentos indicados e tramitá-lo conforme o disposto na Deliberação CONSU-A-016/2022. Ao final da tramitação, se devidamente aprovado em todas as instâncias, o convênio será encaminhado para assinatura da autoridade competente.\n",
      "----------------------------------------------------------------------\n",
      "3: Qual é o sistema utilizado para a tramitação dos convênios?\n",
      "Os documentos essenciais estão elencados no art. 2º da Deliberação CONSU-A-016/2022. É importante que o Executor tenha em mente que estes são os documentos mínimos necessários, mas dependendo do objeto do convênio, outros documentos podem ser demandados. O processo do convênio deve se iniciar com o documento de apresentação da proposta elaborado por seu Executor, com a indicação dos motivos pelos quais apresenta a proposta e por que entende que sua celebração é conveniente e oportuna para a Universidade. A apresentação da proposta deve ser seguida dos demais documentos elencados no mencionado artigo 2º, além de outros documentos que forem pertinentes ao seu objeto. É importante que no sistema SIAD os documentos sejam incluídos separadamente e não num único arquivo. Sempre que o convênio fizer referência a um documento, este documento deverá ser incluído no processo, para que possa ser consultado. Quanto mais completa for a instrução do processo, mais célere será sua tramitação nas instâncias da Universidade.\n",
      "----------------------------------------------------------------------\n",
      "4: O que é o Plano de Aplicação de Recursos?\n",
      "O Plano de Aplicação de Recursos é o documento que indica as rubricas de despesas em que os recursos recebidos para a execução do convênio serão aplicados. Ele costuma ser apresentado no formato de uma planilha, que contém todas as rubricas e os valores (ou percentuais, no caso de convênios celebrados sem valor fixo). O Plano de Aplicação de Recursos deve ser o mais completo possível e além das rubricas principais (recursos humanos, aquisição de materiais, contratação de serviços, etc.), deve conter desmembramentos, como, por exemplo: em caso de pagamento de recursos humanos, essa rubrica deve ser desmembrada para indicar quem serão os beneficiários dos recursos, em caso de aquisição de materiais, para indicação dos bens que serão adquiridos, em caso de contração de serviços, para indicação dos tipos de serviços que serão contratados, e assim por diante.\n",
      "----------------------------------------------------------------------\n"
     ]
    }
   ],
   "source": [
    "# Inspirado no código do Leandro Carísio\n",
    "\n",
    "perg_resposta_esperada = []\n",
    "\n",
    "for i in range(len(test_set)):\n",
    "  pr = test_set[i]\n",
    "\n",
    "  pergunta = pr['question']\n",
    "  resposta = pr['answer']\n",
    "  #contexto = [item['text'] for item in pr['context']]\n",
    "  #contexto = ', '.join(contexto)\n",
    " \n",
    "  perg_resposta_esperada.append({\"pergunta\": pergunta, \"resposta\": resposta})\n",
    "\n",
    "  if i < 5:\n",
    "    print(f\"{i}: {pergunta}\\n{resposta}\")\n",
    "    print('----------------------------------------------------------------------')"
   ]
  },
  {
   "cell_type": "code",
   "execution_count": 53,
   "metadata": {},
   "outputs": [],
   "source": [
    "QAC_generator_prompt = \"\"\"You are a program that generates questions, answers to those questions, and context you used to answer those questions.\n",
    "You will receive many text documents in .json format with \"title\" and \"text\". For each document, you will generate a question, an answer and the context\n",
    "for this answer, that is, where in the text you can check the veracity of that answer.\n",
    "\n",
    "Your response will be in .json format, translated to Brazillian Portuguese,\n",
    "\n",
    "\n",
    "title: {title}\n",
    "text: {text}\n",
    "\"\"\""
   ]
  },
  {
   "cell_type": "code",
   "execution_count": 52,
   "metadata": {},
   "outputs": [
    {
     "data": {
      "text/plain": [
       "'DECRETO Nº 29.598, DE 02 DE FEVEREIRO DE 1989'"
      ]
     },
     "execution_count": 52,
     "metadata": {},
     "output_type": "execute_result"
    }
   ],
   "source": [
    "legis_set[3]['titulo']"
   ]
  },
  {
   "cell_type": "code",
   "execution_count": 54,
   "metadata": {},
   "outputs": [],
   "source": [
    "texto_teste = legis_set[3]\n",
    "\n",
    "title = texto_teste['titulo']\n",
    "text = texto_teste['texto']\n",
    "\n",
    "prompt = QAC_generator_prompt.format(title=title, text=text)\n",
    "response = groq_chat(prompt)  # groq_chat simulates sending prompt and getting a response"
   ]
  },
  {
   "cell_type": "code",
   "execution_count": 55,
   "metadata": {},
   "outputs": [
    {
     "data": {
      "text/plain": [
       "'Here is the generated question, answer, and context in Brazilian Portuguese:\\n\\n```\\n{\\n  \"questão\": \"Quem é o Governador do Estado de São Paulo que assinou o Decreto nº 29.598?\",\\n  \"resposta\": \"ORESTES QUÉRCIA\",\\n  \"contexto\": \"ORESTES QUÉRCIA, Governador do Estado de São Paulo no uso de suas atribuições legais...\"\\n}\\n```\\n\\nTranslation to English:\\n\\n```\\n{\\n  \"question\": \"Who is the Governor of the State of São Paulo who signed Decree No. 29.598?\",\\n  \"answer\": \"ORESTES QUÉRCIA\",\\n  \"context\": \"ORESTES QUÉRCIA, Governor of the State of São Paulo in the exercise of his legal powers...\"\\n}\\n```'"
      ]
     },
     "execution_count": 55,
     "metadata": {},
     "output_type": "execute_result"
    }
   ],
   "source": [
    "response"
   ]
  },
  {
   "cell_type": "code",
   "execution_count": null,
   "metadata": {},
   "outputs": [],
   "source": [
    "import re\n",
    "from tqdm import tqdm\n",
    "\n",
    "faithfulness_values = []\n",
    "\n",
    "# Use tqdm to wrap your loop, displaying progress as items are processed\n",
    "for item in tqdm(legis_set, desc=\"Processing items\", total=50):  # 'total' explicitly sets the expected count\n",
    "    # question = item['pergunta']  # Access 'pergunta' field\n",
    "    # context = item['contexto']   # Access 'contexto' field\n",
    "    # answer = item['resposta']    # Access 'resposta' field\n",
    "    title = item['titulo']\n",
    "    text = item['texto']\n",
    "\n",
    "    # Assume faithfulness is a formatted string that needs the question, answer, and context inserted\n",
    "    prompt = QAC_generator_prompt.format(title=title, text=text)\n",
    "    response = groq_chat(prompt)  # groq_chat simulates sending prompt and getting a response"
   ]
  },
  {
   "cell_type": "code",
   "execution_count": null,
   "metadata": {},
   "outputs": [],
   "source": [
    "%%time\n",
    "documents = []\n",
    "all_titles = []\n",
    "\n",
    "for item in test_set:\n",
    "    for link in item[\"question_links\"]:\n",
    "        link_title = link.lower()\n",
    "        if link_title in context_articles and link_title.lower() not in all_titles:\n",
    "            documents.append({\n",
    "                \"title\": link_title,\n",
    "                \"content\": context_articles[link_title]\n",
    "            })\n",
    "            all_titles.append(link_title)"
   ]
  }
 ],
 "metadata": {
  "kernelspec": {
   "display_name": "Python 3",
   "language": "python",
   "name": "python3"
  },
  "language_info": {
   "codemirror_mode": {
    "name": "ipython",
    "version": 3
   },
   "file_extension": ".py",
   "mimetype": "text/x-python",
   "name": "python",
   "nbconvert_exporter": "python",
   "pygments_lexer": "ipython3",
   "version": "3.9.1"
  }
 },
 "nbformat": 4,
 "nbformat_minor": 2
}
