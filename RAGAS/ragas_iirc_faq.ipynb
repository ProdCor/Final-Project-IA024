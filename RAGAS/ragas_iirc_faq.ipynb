{
 "cells": [
  {
   "cell_type": "code",
   "execution_count": 1,
   "metadata": {},
   "outputs": [
    {
     "name": "stderr",
     "output_type": "stream",
     "text": [
      "/Users/victorgmoreno/miniconda3/envs/ia024/lib/python3.12/site-packages/tqdm/auto.py:21: TqdmWarning: IProgress not found. Please update jupyter and ipywidgets. See https://ipywidgets.readthedocs.io/en/stable/user_install.html\n",
      "  from .autonotebook import tqdm as notebook_tqdm\n"
     ]
    }
   ],
   "source": [
    "import requests\n",
    "import gdown\n",
    "import tarfile\n",
    "from bs4 import BeautifulSoup\n",
    "import json\n",
    "import time\n",
    "import random\n",
    "from tqdm import tqdm\n",
    "from rich.pretty import pprint\n",
    "import os\n",
    "\n",
    "import collections\n",
    "import re\n",
    "import string\n",
    "import unicodedata\n",
    "\n",
    "from datasets import Dataset\n",
    "from langchain_groq import ChatGroq\n",
    "from langchain_community.embeddings import HuggingFaceEmbeddings\n",
    "\n",
    "from ragas.metrics import (\n",
    "    answer_relevancy,\n",
    "    faithfulness,\n",
    "    context_recall,\n",
    "    context_precision,\n",
    "    context_relevancy,\n",
    "    answer_correctness,\n",
    "    answer_similarity\n",
    ")\n",
    "\n",
    "from ragas.metrics.critique import harmfulness\n",
    "import ragas.evaluation as ragas_eval\n",
    "\n",
    "from IPython.display import Markdown, display\n",
    "import pickle\n",
    "import pandas as pd\n",
    "\n",
    "GROQ_API_KEY = os.getenv(\"GROQ_API_KEY\")\n",
    "llm = ChatGroq(temperature=0, groq_api_key=GROQ_API_KEY, model_name=\"llama3-70b-8192\")\n",
    "embedder = HuggingFaceEmbeddings()"
   ]
  },
  {
   "cell_type": "markdown",
   "metadata": {},
   "source": [
    "# 1. Dataset Format"
   ]
  },
  {
   "cell_type": "code",
   "execution_count": 2,
   "metadata": {},
   "outputs": [],
   "source": [
    "def extract_evidence_and_answer(text):\n",
    "    try:\n",
    "        # Ajustando a expressão regular para ser mais flexível com espaços e quebras de linha\n",
    "        pattern = r\"Evidence:\\s*(.*?)\\s*\\n+\\s*Answer:\\s*(.*?)(?=.', ChatCompletion)\"\n",
    "        matches = re.search(pattern, text, re.DOTALL)\n",
    "\n",
    "        if not matches:\n",
    "            # Se não encontrar, tentar uma abordagem menos específica\n",
    "            pattern_loose = r\"Evidence:\\s*(.*?)\\s*Answer:\\s*(.*)\"\n",
    "            matches = re.search(pattern_loose, text, re.DOTALL)\n",
    "            if not matches:\n",
    "                raise ValueError(\"As seções 'Evidence' e 'Answer' não puderam ser encontradas no texto fornecido.\")\n",
    "\n",
    "        evidence = matches.group(1)\n",
    "        answer = matches.group(2)\n",
    "\n",
    "        return {\n",
    "            \"evidence\": evidence.strip(),\n",
    "            \"answer\": answer.strip()\n",
    "        }\n",
    "\n",
    "    except Exception as e:\n",
    "        print(f\"Erro ao extrair os componentes: {e}\")\n",
    "        return None"
   ]
  },
  {
   "cell_type": "code",
   "execution_count": 3,
   "metadata": {},
   "outputs": [],
   "source": [
    "# opens the pickle file\n",
    "with open(\"../input/Raw Text/Rag Data Experiments/experiment_7/respostas_obtidas.pickle_9\", 'rb') as input_file:\n",
    "    # loads the pickle file into a pandas DataFrame\n",
    "    dataset = pd.read_pickle(input_file)"
   ]
  },
  {
   "cell_type": "code",
   "execution_count": 4,
   "metadata": {},
   "outputs": [
    {
     "data": {
      "text/plain": [
       "{'pergunta': 'Em quais hipóteses a Procuradoria Geral pode exercer a representação judicial e extrajudicial de servidores da UNICAMP?',\n",
       " 'resposta_esperada': 'A Procuradoria Geral da UNICAMP integra a Advocacia Pública e está vinculada à Procuradoria Geral do Estado, para fins de atuação uniforme e coordenada, nos termos do artigo 101 da Constituição Estadual. Além disso, é o órgão de representação jurídica da Universidade e de assessoramento jurídico da Reitoria, consoante prevê o artigo 95 do Regimento Geral da UNICAMP. Desta forma, conforme previsão regimental, a Procuradoria Geral tem a função institucional de defender os interesses da universidade, enquanto autarquia estadual, estritamente vinculada ao atendimento do interesse público. A representação judicial ou extrajudicial de servidor com vínculo funcional permanente poderá ocorrer em caráter excepcional, nas hipóteses em que o ato impugnado decorrer do exercício de suas atribuições constitucionais, legais ou regulamentares, quando o ato praticado tiver seguido a orientação jurídica da Procuradoria e desde que não haja conflito de interesses, sempre com autorização expressa do Reitor.',\n",
       " 'resposta_obtida': ('Evidence: Não há menção à UNICAMP ou à Procuradoria Geral exercendo a representação judicial e extrajudicial de servidores da UNICAMP nos documentos apresentados.\\n\\nAnswer: Não há resposta, pois não há menção à UNICAMP ou à Procuradoria Geral exercendo a representação judicial e extrajudicial de servidores da UNICAMP nos documentos apresentados.',\n",
       "  ChatCompletion(choices=[Choice(finish_reason='stop', index=0, logprobs=None, message=ChoiceMessage(content='Evidence: Não há menção à UNICAMP ou à Procuradoria Geral exercendo a representação judicial e extrajudicial de servidores da UNICAMP nos documentos apresentados.\\n\\nAnswer: Não há resposta, pois não há menção à UNICAMP ou à Procuradoria Geral exercendo a representação judicial e extrajudicial de servidores da UNICAMP nos documentos apresentados.', role='assistant', tool_calls=None))], id='chatcmpl-501770bb-2938-443d-8600-b139362353a8', created=1719441630, model='llama3-70b-8192', object='chat.completion', system_fingerprint='fp_87cbfbbc4d', usage=Usage(completion_time=0.251428571, completion_tokens=88, prompt_time=1.416564632, prompt_tokens=4347, queue_time=None, total_time=1.667993203, total_tokens=4435), x_groq={'id': 'req_01j1bba7amehdrp4kfgdvzkc92'}))}"
      ]
     },
     "execution_count": 4,
     "metadata": {},
     "output_type": "execute_result"
    }
   ],
   "source": [
    "dataset[0]"
   ]
  },
  {
   "cell_type": "code",
   "execution_count": 5,
   "metadata": {},
   "outputs": [],
   "source": [
    "import pandas as pd\n",
    "\n",
    "# Supondo que 'dataset' é uma lista de dicionários, conforme carregado do arquivo pickle\n",
    "dataset_df = pd.DataFrame(dataset)\n",
    "\n",
    "# Agora você pode salvar o DataFrame em um arquivo JSON\n",
    "dataset_df.to_json('../input/Raw Text/Rag Data Experiments/experiment_7respostas_obtidas.json', orient='records', lines=True, force_ascii=False)\n"
   ]
  },
  {
   "cell_type": "code",
   "execution_count": 6,
   "metadata": {},
   "outputs": [],
   "source": [
    "# iterando sobre todos os dados do FAQ atualizado para formatá-los\n",
    "dataset_organized = []\n",
    "for sample in dataset:\n",
    "    if 'resposta_obtida' in sample and isinstance(sample['resposta_obtida'], tuple):\n",
    "        \n",
    "        text = sample['resposta_obtida'][0]  # pegando Evidence e Answer das respostas do RAG - pega so o primeiro elemento da tupla, pra nao pegar o ChatCompletion\n",
    "        extracted_data = extract_evidence_and_answer(text)  # segmentando Evidence e Answer em formato dict \n",
    "        \n",
    "        if extracted_data:\n",
    "            organized_sample = {\n",
    "                'question': sample['pergunta'],  # pergunta do FAQ\n",
    "                'ground_truths': [sample['resposta_esperada']],  # resposta esperada do FAQ\n",
    "                'answer': extracted_data['answer'],  # resposta obtida, segmentada answer\n",
    "                'contexts': [extracted_data['evidence']]\n",
    "            }\n",
    "            dataset_organized.append(organized_sample)  # novo dataset organizado"
   ]
  },
  {
   "cell_type": "code",
   "execution_count": 7,
   "metadata": {},
   "outputs": [
    {
     "name": "stdout",
     "output_type": "stream",
     "text": [
      "Dataset organizado salvo com sucesso em ../input/Raw Text/Rag Data Experiments/experiment_7/RAG_dataset_IIRCformat.json!\n"
     ]
    }
   ],
   "source": [
    "# Salvando o dataset organizado em formato JSON\n",
    "file_path = '../input/Raw Text/Rag Data Experiments/experiment_7/RAG_dataset_IIRCformat.json'\n",
    "with open(file_path, 'w', encoding='utf-8') as file:\n",
    "    json.dump(dataset_organized, file, ensure_ascii=False, indent=4)\n",
    "\n",
    "print(f'Dataset organizado salvo com sucesso em {file_path}!')"
   ]
  },
  {
   "cell_type": "markdown",
   "metadata": {},
   "source": [
    "# RAGAS Implementation"
   ]
  },
  {
   "cell_type": "code",
   "execution_count": 8,
   "metadata": {},
   "outputs": [],
   "source": [
    "from datasets import Dataset\n",
    "import time\n",
    "\n",
    "def evaluate_per_sample(dataset_organized):\n",
    "    # Cria um Dataset para uso com a biblioteca 'ragas'\n",
    "    formated_dataset = Dataset.from_list(dataset_organized)\n",
    "\n",
    "    for i, sample in enumerate(dataset_organized):\n",
    "        # Seleciona cada amostra individualmente para avaliação\n",
    "        chunk = formated_dataset.select([i])\n",
    "        \n",
    "        # Avalia a amostra com as métricas definidas\n",
    "        result = ragas_eval.evaluate(dataset=chunk, metrics=[answer_relevancy, faithfulness, context_recall, context_precision], llm=llm, embeddings=embedder)\n",
    "        \n",
    "        # Atualiza o dicionário da amostra com os resultados das métricas\n",
    "        sample.update({\n",
    "            'answer_relevancy': result['answer_relevancy'],\n",
    "            'faithfulness': result['faithfulness'],\n",
    "            'context_recall': result['context_recall'],\n",
    "            'context_precision': result['context_precision']\n",
    "        })\n",
    "        \n",
    "        print(f\"Evaluating sample {i + 1}/{len(dataset_organized)}: {result}\")\n",
    "        time.sleep(60)  # Sleep 60 seconds after each sample evaluation to avoid overloading the system\n",
    "\n",
    "    return dataset_organized"
   ]
  },
  {
   "cell_type": "code",
   "execution_count": 9,
   "metadata": {},
   "outputs": [
    {
     "name": "stderr",
     "output_type": "stream",
     "text": [
      "passing column names as 'ground_truths' is deprecated and will be removed in the next version, please use 'ground_truth' instead. Note that `ground_truth` should be of type string and not Sequence[string] like `ground_truths`\n",
      "Evaluating: 100%|██████████| 4/4 [00:02<00:00,  1.69it/s]\n"
     ]
    },
    {
     "name": "stdout",
     "output_type": "stream",
     "text": [
      "Evaluating sample 1/50: {'answer_relevancy': 0.0000, 'faithfulness': 0.5000, 'context_recall': 0.0000, 'context_precision': 0.0000}\n"
     ]
    },
    {
     "name": "stderr",
     "output_type": "stream",
     "text": [
      "passing column names as 'ground_truths' is deprecated and will be removed in the next version, please use 'ground_truth' instead. Note that `ground_truth` should be of type string and not Sequence[string] like `ground_truths`\n",
      "Evaluating: 100%|██████████| 4/4 [00:03<00:00,  1.02it/s]\n"
     ]
    },
    {
     "name": "stdout",
     "output_type": "stream",
     "text": [
      "Evaluating sample 2/50: {'answer_relevancy': 0.4912, 'faithfulness': 1.0000, 'context_recall': 1.0000, 'context_precision': 1.0000}\n"
     ]
    },
    {
     "name": "stderr",
     "output_type": "stream",
     "text": [
      "passing column names as 'ground_truths' is deprecated and will be removed in the next version, please use 'ground_truth' instead. Note that `ground_truth` should be of type string and not Sequence[string] like `ground_truths`\n",
      "Evaluating: 100%|██████████| 4/4 [00:02<00:00,  1.53it/s]\n"
     ]
    },
    {
     "name": "stdout",
     "output_type": "stream",
     "text": [
      "Evaluating sample 3/50: {'answer_relevancy': 0.3963, 'faithfulness': 1.0000, 'context_recall': 0.6667, 'context_precision': 1.0000}\n"
     ]
    },
    {
     "name": "stderr",
     "output_type": "stream",
     "text": [
      "passing column names as 'ground_truths' is deprecated and will be removed in the next version, please use 'ground_truth' instead. Note that `ground_truth` should be of type string and not Sequence[string] like `ground_truths`\n",
      "Evaluating: 100%|██████████| 4/4 [00:03<00:00,  1.01it/s]\n"
     ]
    },
    {
     "name": "stdout",
     "output_type": "stream",
     "text": [
      "Evaluating sample 4/50: {'answer_relevancy': 0.2495, 'faithfulness': 1.0000, 'context_recall': 0.1250, 'context_precision': 1.0000}\n"
     ]
    },
    {
     "name": "stderr",
     "output_type": "stream",
     "text": [
      "passing column names as 'ground_truths' is deprecated and will be removed in the next version, please use 'ground_truth' instead. Note that `ground_truth` should be of type string and not Sequence[string] like `ground_truths`\n",
      "Evaluating: 100%|██████████| 4/4 [00:02<00:00,  1.81it/s]\n"
     ]
    },
    {
     "name": "stdout",
     "output_type": "stream",
     "text": [
      "Evaluating sample 5/50: {'answer_relevancy': 0.7201, 'faithfulness': 1.0000, 'context_recall': 0.3333, 'context_precision': 1.0000}\n"
     ]
    },
    {
     "name": "stderr",
     "output_type": "stream",
     "text": [
      "passing column names as 'ground_truths' is deprecated and will be removed in the next version, please use 'ground_truth' instead. Note that `ground_truth` should be of type string and not Sequence[string] like `ground_truths`\n",
      "Evaluating: 100%|██████████| 4/4 [00:40<00:00, 10.21s/it]\n"
     ]
    },
    {
     "name": "stdout",
     "output_type": "stream",
     "text": [
      "Evaluating sample 6/50: {'answer_relevancy': 0.5569, 'faithfulness': 0.8750, 'context_recall': 1.0000, 'context_precision': 1.0000}\n"
     ]
    },
    {
     "name": "stderr",
     "output_type": "stream",
     "text": [
      "passing column names as 'ground_truths' is deprecated and will be removed in the next version, please use 'ground_truth' instead. Note that `ground_truth` should be of type string and not Sequence[string] like `ground_truths`\n",
      "Evaluating: 100%|██████████| 4/4 [00:31<00:00,  7.77s/it]\n"
     ]
    },
    {
     "name": "stdout",
     "output_type": "stream",
     "text": [
      "Evaluating sample 7/50: {'answer_relevancy': 0.3452, 'faithfulness': 1.0000, 'context_recall': 0.6667, 'context_precision': 0.0000}\n"
     ]
    },
    {
     "name": "stderr",
     "output_type": "stream",
     "text": [
      "passing column names as 'ground_truths' is deprecated and will be removed in the next version, please use 'ground_truth' instead. Note that `ground_truth` should be of type string and not Sequence[string] like `ground_truths`\n",
      "Evaluating: 100%|██████████| 4/4 [00:03<00:00,  1.19it/s]\n"
     ]
    },
    {
     "name": "stdout",
     "output_type": "stream",
     "text": [
      "Evaluating sample 8/50: {'answer_relevancy': 0.3004, 'faithfulness': 1.0000, 'context_recall': 1.0000, 'context_precision': 1.0000}\n"
     ]
    },
    {
     "name": "stderr",
     "output_type": "stream",
     "text": [
      "passing column names as 'ground_truths' is deprecated and will be removed in the next version, please use 'ground_truth' instead. Note that `ground_truth` should be of type string and not Sequence[string] like `ground_truths`\n",
      "Evaluating: 100%|██████████| 4/4 [00:03<00:00,  1.33it/s]\n"
     ]
    },
    {
     "name": "stdout",
     "output_type": "stream",
     "text": [
      "Evaluating sample 9/50: {'answer_relevancy': 0.6970, 'faithfulness': 1.0000, 'context_recall': 0.3333, 'context_precision': 1.0000}\n"
     ]
    },
    {
     "name": "stderr",
     "output_type": "stream",
     "text": [
      "passing column names as 'ground_truths' is deprecated and will be removed in the next version, please use 'ground_truth' instead. Note that `ground_truth` should be of type string and not Sequence[string] like `ground_truths`\n",
      "Evaluating: 100%|██████████| 4/4 [00:02<00:00,  1.39it/s]\n"
     ]
    },
    {
     "name": "stdout",
     "output_type": "stream",
     "text": [
      "Evaluating sample 10/50: {'answer_relevancy': 0.0405, 'faithfulness': 1.0000, 'context_recall': 1.0000, 'context_precision': 1.0000}\n"
     ]
    },
    {
     "name": "stderr",
     "output_type": "stream",
     "text": [
      "passing column names as 'ground_truths' is deprecated and will be removed in the next version, please use 'ground_truth' instead. Note that `ground_truth` should be of type string and not Sequence[string] like `ground_truths`\n",
      "Evaluating: 100%|██████████| 4/4 [00:20<00:00,  5.10s/it]\n"
     ]
    },
    {
     "name": "stdout",
     "output_type": "stream",
     "text": [
      "Evaluating sample 11/50: {'answer_relevancy': 0.3388, 'faithfulness': 1.0000, 'context_recall': 0.5000, 'context_precision': 1.0000}\n"
     ]
    },
    {
     "name": "stderr",
     "output_type": "stream",
     "text": [
      "passing column names as 'ground_truths' is deprecated and will be removed in the next version, please use 'ground_truth' instead. Note that `ground_truth` should be of type string and not Sequence[string] like `ground_truths`\n",
      "Evaluating: 100%|██████████| 4/4 [00:02<00:00,  1.62it/s]\n"
     ]
    },
    {
     "name": "stdout",
     "output_type": "stream",
     "text": [
      "Evaluating sample 12/50: {'answer_relevancy': 0.5157, 'faithfulness': 1.0000, 'context_recall': 1.0000, 'context_precision': 1.0000}\n"
     ]
    },
    {
     "name": "stderr",
     "output_type": "stream",
     "text": [
      "passing column names as 'ground_truths' is deprecated and will be removed in the next version, please use 'ground_truth' instead. Note that `ground_truth` should be of type string and not Sequence[string] like `ground_truths`\n",
      "Evaluating: 100%|██████████| 4/4 [00:02<00:00,  1.82it/s]\n"
     ]
    },
    {
     "name": "stdout",
     "output_type": "stream",
     "text": [
      "Evaluating sample 13/50: {'answer_relevancy': 0.5700, 'faithfulness': 1.0000, 'context_recall': 1.0000, 'context_precision': 1.0000}\n"
     ]
    },
    {
     "name": "stderr",
     "output_type": "stream",
     "text": [
      "passing column names as 'ground_truths' is deprecated and will be removed in the next version, please use 'ground_truth' instead. Note that `ground_truth` should be of type string and not Sequence[string] like `ground_truths`\n",
      "Evaluating: 100%|██████████| 4/4 [00:21<00:00,  5.31s/it]\n"
     ]
    },
    {
     "name": "stdout",
     "output_type": "stream",
     "text": [
      "Evaluating sample 14/50: {'answer_relevancy': 0.5006, 'faithfulness': 1.0000, 'context_recall': 0.0000, 'context_precision': 0.0000}\n"
     ]
    },
    {
     "name": "stderr",
     "output_type": "stream",
     "text": [
      "passing column names as 'ground_truths' is deprecated and will be removed in the next version, please use 'ground_truth' instead. Note that `ground_truth` should be of type string and not Sequence[string] like `ground_truths`\n",
      "Evaluating: 100%|██████████| 4/4 [00:14<00:00,  3.74s/it]\n"
     ]
    },
    {
     "name": "stdout",
     "output_type": "stream",
     "text": [
      "Evaluating sample 15/50: {'answer_relevancy': 0.4162, 'faithfulness': 1.0000, 'context_recall': 1.0000, 'context_precision': 1.0000}\n"
     ]
    },
    {
     "name": "stderr",
     "output_type": "stream",
     "text": [
      "passing column names as 'ground_truths' is deprecated and will be removed in the next version, please use 'ground_truth' instead. Note that `ground_truth` should be of type string and not Sequence[string] like `ground_truths`\n",
      "Evaluating: 100%|██████████| 4/4 [00:01<00:00,  2.90it/s]\n"
     ]
    },
    {
     "name": "stdout",
     "output_type": "stream",
     "text": [
      "Evaluating sample 16/50: {'answer_relevancy': 0.0000, 'faithfulness': 1.0000, 'context_recall': 0.5000, 'context_precision': 0.0000}\n"
     ]
    },
    {
     "name": "stderr",
     "output_type": "stream",
     "text": [
      "passing column names as 'ground_truths' is deprecated and will be removed in the next version, please use 'ground_truth' instead. Note that `ground_truth` should be of type string and not Sequence[string] like `ground_truths`\n",
      "Evaluating: 100%|██████████| 4/4 [00:02<00:00,  1.91it/s]\n"
     ]
    },
    {
     "name": "stdout",
     "output_type": "stream",
     "text": [
      "Evaluating sample 17/50: {'answer_relevancy': 0.4655, 'faithfulness': 1.0000, 'context_recall': 1.0000, 'context_precision': 1.0000}\n"
     ]
    },
    {
     "name": "stderr",
     "output_type": "stream",
     "text": [
      "passing column names as 'ground_truths' is deprecated and will be removed in the next version, please use 'ground_truth' instead. Note that `ground_truth` should be of type string and not Sequence[string] like `ground_truths`\n",
      "Evaluating: 100%|██████████| 4/4 [00:02<00:00,  1.94it/s]\n"
     ]
    },
    {
     "name": "stdout",
     "output_type": "stream",
     "text": [
      "Evaluating sample 18/50: {'answer_relevancy': 0.2182, 'faithfulness': 1.0000, 'context_recall': 0.2000, 'context_precision': 1.0000}\n"
     ]
    },
    {
     "name": "stderr",
     "output_type": "stream",
     "text": [
      "passing column names as 'ground_truths' is deprecated and will be removed in the next version, please use 'ground_truth' instead. Note that `ground_truth` should be of type string and not Sequence[string] like `ground_truths`\n",
      "Evaluating: 100%|██████████| 4/4 [00:02<00:00,  1.48it/s]\n"
     ]
    },
    {
     "name": "stdout",
     "output_type": "stream",
     "text": [
      "Evaluating sample 19/50: {'answer_relevancy': 0.0108, 'faithfulness': 1.0000, 'context_recall': 1.0000, 'context_precision': 1.0000}\n"
     ]
    },
    {
     "name": "stderr",
     "output_type": "stream",
     "text": [
      "passing column names as 'ground_truths' is deprecated and will be removed in the next version, please use 'ground_truth' instead. Note that `ground_truth` should be of type string and not Sequence[string] like `ground_truths`\n",
      "Evaluating: 100%|██████████| 4/4 [00:02<00:00,  1.58it/s]\n"
     ]
    },
    {
     "name": "stdout",
     "output_type": "stream",
     "text": [
      "Evaluating sample 20/50: {'answer_relevancy': 0.2575, 'faithfulness': 1.0000, 'context_recall': 0.0000, 'context_precision': 0.0000}\n"
     ]
    },
    {
     "name": "stderr",
     "output_type": "stream",
     "text": [
      "passing column names as 'ground_truths' is deprecated and will be removed in the next version, please use 'ground_truth' instead. Note that `ground_truth` should be of type string and not Sequence[string] like `ground_truths`\n",
      "Evaluating: 100%|██████████| 4/4 [00:32<00:00,  8.18s/it]\n"
     ]
    },
    {
     "name": "stdout",
     "output_type": "stream",
     "text": [
      "Evaluating sample 21/50: {'answer_relevancy': 0.3720, 'faithfulness': 0.7500, 'context_recall': 1.0000, 'context_precision': 1.0000}\n"
     ]
    },
    {
     "name": "stderr",
     "output_type": "stream",
     "text": [
      "passing column names as 'ground_truths' is deprecated and will be removed in the next version, please use 'ground_truth' instead. Note that `ground_truth` should be of type string and not Sequence[string] like `ground_truths`\n",
      "Evaluating: 100%|██████████| 4/4 [00:03<00:00,  1.13it/s]\n"
     ]
    },
    {
     "name": "stdout",
     "output_type": "stream",
     "text": [
      "Evaluating sample 22/50: {'answer_relevancy': 0.3152, 'faithfulness': 0.5000, 'context_recall': 1.0000, 'context_precision': 1.0000}\n"
     ]
    },
    {
     "name": "stderr",
     "output_type": "stream",
     "text": [
      "passing column names as 'ground_truths' is deprecated and will be removed in the next version, please use 'ground_truth' instead. Note that `ground_truth` should be of type string and not Sequence[string] like `ground_truths`\n",
      "Evaluating: 100%|██████████| 4/4 [00:02<00:00,  1.55it/s]\n"
     ]
    },
    {
     "name": "stdout",
     "output_type": "stream",
     "text": [
      "Evaluating sample 23/50: {'answer_relevancy': 0.4271, 'faithfulness': 1.0000, 'context_recall': 0.0000, 'context_precision': 0.0000}\n"
     ]
    },
    {
     "name": "stderr",
     "output_type": "stream",
     "text": [
      "passing column names as 'ground_truths' is deprecated and will be removed in the next version, please use 'ground_truth' instead. Note that `ground_truth` should be of type string and not Sequence[string] like `ground_truths`\n",
      "Evaluating: 100%|██████████| 4/4 [00:02<00:00,  1.95it/s]\n"
     ]
    },
    {
     "name": "stdout",
     "output_type": "stream",
     "text": [
      "Evaluating sample 24/50: {'answer_relevancy': 0.0748, 'faithfulness': 1.0000, 'context_recall': 0.2500, 'context_precision': 1.0000}\n"
     ]
    },
    {
     "name": "stderr",
     "output_type": "stream",
     "text": [
      "passing column names as 'ground_truths' is deprecated and will be removed in the next version, please use 'ground_truth' instead. Note that `ground_truth` should be of type string and not Sequence[string] like `ground_truths`\n",
      "Evaluating: 100%|██████████| 4/4 [00:05<00:00,  1.26s/it]\n"
     ]
    },
    {
     "name": "stdout",
     "output_type": "stream",
     "text": [
      "Evaluating sample 25/50: {'answer_relevancy': 0.3708, 'faithfulness': 1.0000, 'context_recall': 0.0000, 'context_precision': 1.0000}\n"
     ]
    },
    {
     "name": "stderr",
     "output_type": "stream",
     "text": [
      "passing column names as 'ground_truths' is deprecated and will be removed in the next version, please use 'ground_truth' instead. Note that `ground_truth` should be of type string and not Sequence[string] like `ground_truths`\n",
      "Evaluating: 100%|██████████| 4/4 [00:01<00:00,  2.21it/s]\n"
     ]
    },
    {
     "name": "stdout",
     "output_type": "stream",
     "text": [
      "Evaluating sample 26/50: {'answer_relevancy': 0.4940, 'faithfulness': 1.0000, 'context_recall': 0.0000, 'context_precision': 0.0000}\n"
     ]
    },
    {
     "name": "stderr",
     "output_type": "stream",
     "text": [
      "passing column names as 'ground_truths' is deprecated and will be removed in the next version, please use 'ground_truth' instead. Note that `ground_truth` should be of type string and not Sequence[string] like `ground_truths`\n",
      "Evaluating: 100%|██████████| 4/4 [00:04<00:00,  1.13s/it]\n"
     ]
    },
    {
     "name": "stdout",
     "output_type": "stream",
     "text": [
      "Evaluating sample 27/50: {'answer_relevancy': 0.1639, 'faithfulness': 1.0000, 'context_recall': 0.0000, 'context_precision': 0.0000}\n"
     ]
    },
    {
     "name": "stderr",
     "output_type": "stream",
     "text": [
      "passing column names as 'ground_truths' is deprecated and will be removed in the next version, please use 'ground_truth' instead. Note that `ground_truth` should be of type string and not Sequence[string] like `ground_truths`\n",
      "Evaluating: 100%|██████████| 4/4 [00:11<00:00,  2.86s/it]\n"
     ]
    },
    {
     "name": "stdout",
     "output_type": "stream",
     "text": [
      "Evaluating sample 28/50: {'answer_relevancy': 0.2403, 'faithfulness': 1.0000, 'context_recall': 0.6667, 'context_precision': 1.0000}\n"
     ]
    },
    {
     "name": "stderr",
     "output_type": "stream",
     "text": [
      "passing column names as 'ground_truths' is deprecated and will be removed in the next version, please use 'ground_truth' instead. Note that `ground_truth` should be of type string and not Sequence[string] like `ground_truths`\n",
      "Evaluating: 100%|██████████| 4/4 [00:02<00:00,  1.64it/s]\n"
     ]
    },
    {
     "name": "stdout",
     "output_type": "stream",
     "text": [
      "Evaluating sample 29/50: {'answer_relevancy': 0.3816, 'faithfulness': 1.0000, 'context_recall': 0.3333, 'context_precision': 1.0000}\n"
     ]
    },
    {
     "name": "stderr",
     "output_type": "stream",
     "text": [
      "passing column names as 'ground_truths' is deprecated and will be removed in the next version, please use 'ground_truth' instead. Note that `ground_truth` should be of type string and not Sequence[string] like `ground_truths`\n",
      "Evaluating: 100%|██████████| 4/4 [00:02<00:00,  1.84it/s]\n"
     ]
    },
    {
     "name": "stdout",
     "output_type": "stream",
     "text": [
      "Evaluating sample 30/50: {'answer_relevancy': 0.3945, 'faithfulness': 1.0000, 'context_recall': 1.0000, 'context_precision': 1.0000}\n"
     ]
    },
    {
     "name": "stderr",
     "output_type": "stream",
     "text": [
      "passing column names as 'ground_truths' is deprecated and will be removed in the next version, please use 'ground_truth' instead. Note that `ground_truth` should be of type string and not Sequence[string] like `ground_truths`\n",
      "Evaluating: 100%|██████████| 4/4 [00:16<00:00,  4.21s/it]\n"
     ]
    },
    {
     "name": "stdout",
     "output_type": "stream",
     "text": [
      "Evaluating sample 31/50: {'answer_relevancy': 0.3803, 'faithfulness': 1.0000, 'context_recall': 0.5000, 'context_precision': 1.0000}\n"
     ]
    },
    {
     "name": "stderr",
     "output_type": "stream",
     "text": [
      "passing column names as 'ground_truths' is deprecated and will be removed in the next version, please use 'ground_truth' instead. Note that `ground_truth` should be of type string and not Sequence[string] like `ground_truths`\n",
      "Evaluating: 100%|██████████| 4/4 [00:02<00:00,  1.99it/s]\n"
     ]
    },
    {
     "name": "stdout",
     "output_type": "stream",
     "text": [
      "Evaluating sample 32/50: {'answer_relevancy': 0.1661, 'faithfulness': 0.3333, 'context_recall': 0.3333, 'context_precision': 0.0000}\n"
     ]
    },
    {
     "name": "stderr",
     "output_type": "stream",
     "text": [
      "passing column names as 'ground_truths' is deprecated and will be removed in the next version, please use 'ground_truth' instead. Note that `ground_truth` should be of type string and not Sequence[string] like `ground_truths`\n",
      "Evaluating: 100%|██████████| 4/4 [00:25<00:00,  6.44s/it]\n"
     ]
    },
    {
     "name": "stdout",
     "output_type": "stream",
     "text": [
      "Evaluating sample 33/50: {'answer_relevancy': 0.6626, 'faithfulness': 1.0000, 'context_recall': 0.5000, 'context_precision': 1.0000}\n"
     ]
    },
    {
     "name": "stderr",
     "output_type": "stream",
     "text": [
      "passing column names as 'ground_truths' is deprecated and will be removed in the next version, please use 'ground_truth' instead. Note that `ground_truth` should be of type string and not Sequence[string] like `ground_truths`\n",
      "Evaluating: 100%|██████████| 4/4 [00:06<00:00,  1.56s/it]\n"
     ]
    },
    {
     "name": "stdout",
     "output_type": "stream",
     "text": [
      "Evaluating sample 34/50: {'answer_relevancy': 0.3498, 'faithfulness': 1.0000, 'context_recall': 1.0000, 'context_precision': 1.0000}\n"
     ]
    },
    {
     "name": "stderr",
     "output_type": "stream",
     "text": [
      "passing column names as 'ground_truths' is deprecated and will be removed in the next version, please use 'ground_truth' instead. Note that `ground_truth` should be of type string and not Sequence[string] like `ground_truths`\n",
      "Evaluating: 100%|██████████| 4/4 [00:12<00:00,  3.13s/it]\n"
     ]
    },
    {
     "name": "stdout",
     "output_type": "stream",
     "text": [
      "Evaluating sample 35/50: {'answer_relevancy': 0.1040, 'faithfulness': 1.0000, 'context_recall': 1.0000, 'context_precision': 1.0000}\n"
     ]
    },
    {
     "name": "stderr",
     "output_type": "stream",
     "text": [
      "passing column names as 'ground_truths' is deprecated and will be removed in the next version, please use 'ground_truth' instead. Note that `ground_truth` should be of type string and not Sequence[string] like `ground_truths`\n",
      "Evaluating: 100%|██████████| 4/4 [00:02<00:00,  1.35it/s]\n"
     ]
    },
    {
     "name": "stdout",
     "output_type": "stream",
     "text": [
      "Evaluating sample 36/50: {'answer_relevancy': 0.3922, 'faithfulness': 1.0000, 'context_recall': 0.5000, 'context_precision': 1.0000}\n"
     ]
    },
    {
     "name": "stderr",
     "output_type": "stream",
     "text": [
      "passing column names as 'ground_truths' is deprecated and will be removed in the next version, please use 'ground_truth' instead. Note that `ground_truth` should be of type string and not Sequence[string] like `ground_truths`\n",
      "Evaluating: 100%|██████████| 4/4 [00:11<00:00,  2.97s/it]\n"
     ]
    },
    {
     "name": "stdout",
     "output_type": "stream",
     "text": [
      "Evaluating sample 37/50: {'answer_relevancy': 0.5935, 'faithfulness': 0.6667, 'context_recall': 1.0000, 'context_precision': 1.0000}\n"
     ]
    },
    {
     "name": "stderr",
     "output_type": "stream",
     "text": [
      "passing column names as 'ground_truths' is deprecated and will be removed in the next version, please use 'ground_truth' instead. Note that `ground_truth` should be of type string and not Sequence[string] like `ground_truths`\n",
      "Evaluating: 100%|██████████| 4/4 [00:38<00:00,  9.54s/it]\n"
     ]
    },
    {
     "name": "stdout",
     "output_type": "stream",
     "text": [
      "Evaluating sample 38/50: {'answer_relevancy': 0.6761, 'faithfulness': 1.0000, 'context_recall': 1.0000, 'context_precision': 1.0000}\n"
     ]
    },
    {
     "name": "stderr",
     "output_type": "stream",
     "text": [
      "passing column names as 'ground_truths' is deprecated and will be removed in the next version, please use 'ground_truth' instead. Note that `ground_truth` should be of type string and not Sequence[string] like `ground_truths`\n",
      "Evaluating: 100%|██████████| 4/4 [00:01<00:00,  2.64it/s]\n"
     ]
    },
    {
     "name": "stdout",
     "output_type": "stream",
     "text": [
      "Evaluating sample 39/50: {'answer_relevancy': 0.4407, 'faithfulness': 1.0000, 'context_recall': 1.0000, 'context_precision': 1.0000}\n"
     ]
    },
    {
     "name": "stderr",
     "output_type": "stream",
     "text": [
      "passing column names as 'ground_truths' is deprecated and will be removed in the next version, please use 'ground_truth' instead. Note that `ground_truth` should be of type string and not Sequence[string] like `ground_truths`\n",
      "Evaluating: 100%|██████████| 4/4 [00:19<00:00,  4.83s/it]\n"
     ]
    },
    {
     "name": "stdout",
     "output_type": "stream",
     "text": [
      "Evaluating sample 40/50: {'answer_relevancy': 0.0000, 'faithfulness': 0.6667, 'context_recall': 1.0000, 'context_precision': 1.0000}\n"
     ]
    },
    {
     "name": "stderr",
     "output_type": "stream",
     "text": [
      "passing column names as 'ground_truths' is deprecated and will be removed in the next version, please use 'ground_truth' instead. Note that `ground_truth` should be of type string and not Sequence[string] like `ground_truths`\n",
      "Evaluating: 100%|██████████| 4/4 [00:01<00:00,  2.68it/s]\n"
     ]
    },
    {
     "name": "stdout",
     "output_type": "stream",
     "text": [
      "Evaluating sample 41/50: {'answer_relevancy': 0.1986, 'faithfulness': 1.0000, 'context_recall': 0.5000, 'context_precision': 1.0000}\n"
     ]
    },
    {
     "name": "stderr",
     "output_type": "stream",
     "text": [
      "passing column names as 'ground_truths' is deprecated and will be removed in the next version, please use 'ground_truth' instead. Note that `ground_truth` should be of type string and not Sequence[string] like `ground_truths`\n",
      "Evaluating: 100%|██████████| 4/4 [00:23<00:00,  5.81s/it]\n"
     ]
    },
    {
     "name": "stdout",
     "output_type": "stream",
     "text": [
      "Evaluating sample 42/50: {'answer_relevancy': 0.4673, 'faithfulness': 0.2000, 'context_recall': 0.5000, 'context_precision': 1.0000}\n"
     ]
    },
    {
     "name": "stderr",
     "output_type": "stream",
     "text": [
      "passing column names as 'ground_truths' is deprecated and will be removed in the next version, please use 'ground_truth' instead. Note that `ground_truth` should be of type string and not Sequence[string] like `ground_truths`\n",
      "Evaluating: 100%|██████████| 4/4 [00:03<00:00,  1.20it/s]\n"
     ]
    },
    {
     "name": "stdout",
     "output_type": "stream",
     "text": [
      "Evaluating sample 43/50: {'answer_relevancy': 0.7721, 'faithfulness': 1.0000, 'context_recall': 0.1250, 'context_precision': 0.0000}\n"
     ]
    },
    {
     "name": "stderr",
     "output_type": "stream",
     "text": [
      "passing column names as 'ground_truths' is deprecated and will be removed in the next version, please use 'ground_truth' instead. Note that `ground_truth` should be of type string and not Sequence[string] like `ground_truths`\n",
      "Evaluating: 100%|██████████| 4/4 [00:03<00:00,  1.17it/s]\n"
     ]
    },
    {
     "name": "stdout",
     "output_type": "stream",
     "text": [
      "Evaluating sample 44/50: {'answer_relevancy': 0.5053, 'faithfulness': 1.0000, 'context_recall': 1.0000, 'context_precision': 1.0000}\n"
     ]
    },
    {
     "name": "stderr",
     "output_type": "stream",
     "text": [
      "passing column names as 'ground_truths' is deprecated and will be removed in the next version, please use 'ground_truth' instead. Note that `ground_truth` should be of type string and not Sequence[string] like `ground_truths`\n",
      "Evaluating: 100%|██████████| 4/4 [00:33<00:00,  8.31s/it]\n"
     ]
    },
    {
     "name": "stdout",
     "output_type": "stream",
     "text": [
      "Evaluating sample 45/50: {'answer_relevancy': 0.6470, 'faithfulness': 1.0000, 'context_recall': 0.5000, 'context_precision': 1.0000}\n"
     ]
    },
    {
     "name": "stderr",
     "output_type": "stream",
     "text": [
      "passing column names as 'ground_truths' is deprecated and will be removed in the next version, please use 'ground_truth' instead. Note that `ground_truth` should be of type string and not Sequence[string] like `ground_truths`\n",
      "Evaluating: 100%|██████████| 4/4 [00:02<00:00,  1.90it/s]\n"
     ]
    },
    {
     "name": "stdout",
     "output_type": "stream",
     "text": [
      "Evaluating sample 46/50: {'answer_relevancy': 0.7374, 'faithfulness': 0.5000, 'context_recall': 1.0000, 'context_precision': 1.0000}\n"
     ]
    },
    {
     "name": "stderr",
     "output_type": "stream",
     "text": [
      "passing column names as 'ground_truths' is deprecated and will be removed in the next version, please use 'ground_truth' instead. Note that `ground_truth` should be of type string and not Sequence[string] like `ground_truths`\n",
      "Evaluating: 100%|██████████| 4/4 [00:02<00:00,  1.41it/s]\n"
     ]
    },
    {
     "name": "stdout",
     "output_type": "stream",
     "text": [
      "Evaluating sample 47/50: {'answer_relevancy': 0.3158, 'faithfulness': 1.0000, 'context_recall': 0.5000, 'context_precision': 0.0000}\n"
     ]
    },
    {
     "name": "stderr",
     "output_type": "stream",
     "text": [
      "passing column names as 'ground_truths' is deprecated and will be removed in the next version, please use 'ground_truth' instead. Note that `ground_truth` should be of type string and not Sequence[string] like `ground_truths`\n",
      "Evaluating: 100%|██████████| 4/4 [00:26<00:00,  6.55s/it]\n"
     ]
    },
    {
     "name": "stdout",
     "output_type": "stream",
     "text": [
      "Evaluating sample 48/50: {'answer_relevancy': 0.7102, 'faithfulness': 1.0000, 'context_recall': 1.0000, 'context_precision': 1.0000}\n"
     ]
    },
    {
     "name": "stderr",
     "output_type": "stream",
     "text": [
      "passing column names as 'ground_truths' is deprecated and will be removed in the next version, please use 'ground_truth' instead. Note that `ground_truth` should be of type string and not Sequence[string] like `ground_truths`\n",
      "Evaluating: 100%|██████████| 4/4 [00:26<00:00,  6.66s/it]\n"
     ]
    },
    {
     "name": "stdout",
     "output_type": "stream",
     "text": [
      "Evaluating sample 49/50: {'answer_relevancy': 0.3072, 'faithfulness': 1.0000, 'context_recall': 0.6667, 'context_precision': 1.0000}\n"
     ]
    },
    {
     "name": "stderr",
     "output_type": "stream",
     "text": [
      "passing column names as 'ground_truths' is deprecated and will be removed in the next version, please use 'ground_truth' instead. Note that `ground_truth` should be of type string and not Sequence[string] like `ground_truths`\n",
      "Evaluating: 100%|██████████| 4/4 [00:02<00:00,  1.62it/s]\n"
     ]
    },
    {
     "name": "stdout",
     "output_type": "stream",
     "text": [
      "Evaluating sample 50/50: {'answer_relevancy': 0.3195, 'faithfulness': 1.0000, 'context_recall': 0.2500, 'context_precision': 1.0000}\n"
     ]
    }
   ],
   "source": [
    "# dataset_organized should be defined and filled with the required data before calling this function\n",
    "updated_dataset = evaluate_per_sample(dataset_organized)"
   ]
  },
  {
   "cell_type": "code",
   "execution_count": 10,
   "metadata": {},
   "outputs": [
    {
     "name": "stdout",
     "output_type": "stream",
     "text": [
      "Dataset organizado salvo com sucesso em ../input/Raw Text/dataset/RAG_FinalDataset_experiment_7.json!\n"
     ]
    }
   ],
   "source": [
    "# Salvando o dataset organizado em formato JSON\n",
    "file_path = '../input/Raw Text/dataset/RAG_FinalDataset_experiment_7.json'\n",
    "with open(file_path, 'w', encoding='utf-8') as file:\n",
    "    json.dump(updated_dataset, file, ensure_ascii=False, indent=5)\n",
    "\n",
    "print(f'Dataset organizado salvo com sucesso em {file_path}!')"
   ]
  },
  {
   "cell_type": "code",
   "execution_count": 11,
   "metadata": {},
   "outputs": [
    {
     "data": {
      "text/html": [
       "<div>\n",
       "<style scoped>\n",
       "    .dataframe tbody tr th:only-of-type {\n",
       "        vertical-align: middle;\n",
       "    }\n",
       "\n",
       "    .dataframe tbody tr th {\n",
       "        vertical-align: top;\n",
       "    }\n",
       "\n",
       "    .dataframe thead th {\n",
       "        text-align: right;\n",
       "    }\n",
       "</style>\n",
       "<table border=\"1\" class=\"dataframe\">\n",
       "  <thead>\n",
       "    <tr style=\"text-align: right;\">\n",
       "      <th></th>\n",
       "      <th>question</th>\n",
       "      <th>ground_truths</th>\n",
       "      <th>answer</th>\n",
       "      <th>contexts</th>\n",
       "      <th>answer_relevancy</th>\n",
       "      <th>faithfulness</th>\n",
       "      <th>context_recall</th>\n",
       "      <th>context_precision</th>\n",
       "    </tr>\n",
       "  </thead>\n",
       "  <tbody>\n",
       "    <tr>\n",
       "      <th>0</th>\n",
       "      <td>Em quais hipóteses a Procuradoria Geral pode e...</td>\n",
       "      <td>[A Procuradoria Geral da UNICAMP integra a Adv...</td>\n",
       "      <td>Não há resposta, pois não há menção à UNICAMP ...</td>\n",
       "      <td>[Não há menção à UNICAMP ou à Procuradoria Ger...</td>\n",
       "      <td>0.000000</td>\n",
       "      <td>0.500000</td>\n",
       "      <td>0.000000</td>\n",
       "      <td>0.0</td>\n",
       "    </tr>\n",
       "    <tr>\n",
       "      <th>1</th>\n",
       "      <td>Como ocorrem as atividades de cooperação, pesq...</td>\n",
       "      <td>[Nos termos do art. 1° da Deliberação CONSU-A-...</td>\n",
       "      <td>mediante a celebração de convênios, contratos ...</td>\n",
       "      <td>[De acordo com o trecho 'A atuação da Universi...</td>\n",
       "      <td>0.491248</td>\n",
       "      <td>1.000000</td>\n",
       "      <td>1.000000</td>\n",
       "      <td>1.0</td>\n",
       "    </tr>\n",
       "    <tr>\n",
       "      <th>2</th>\n",
       "      <td>Qual é o procedimento para a celebração de con...</td>\n",
       "      <td>[Na Unicamp, a celebração de convênios, contra...</td>\n",
       "      <td>O procedimento para a celebração de convênios,...</td>\n",
       "      <td>[De acordo com o trecho 'CAPÍTULO I – DISPOSIÇ...</td>\n",
       "      <td>0.396338</td>\n",
       "      <td>1.000000</td>\n",
       "      <td>0.666667</td>\n",
       "      <td>1.0</td>\n",
       "    </tr>\n",
       "    <tr>\n",
       "      <th>3</th>\n",
       "      <td>Qual é o sistema utilizado para a tramitação d...</td>\n",
       "      <td>[Os documentos essenciais estão elencados no a...</td>\n",
       "      <td>Processos administrativos eletrônicos.</td>\n",
       "      <td>[De acordo com o trecho 'As propostas de convê...</td>\n",
       "      <td>0.249516</td>\n",
       "      <td>1.000000</td>\n",
       "      <td>0.125000</td>\n",
       "      <td>1.0</td>\n",
       "    </tr>\n",
       "    <tr>\n",
       "      <th>4</th>\n",
       "      <td>O que é o Plano de Aplicação de Recursos?</td>\n",
       "      <td>[O Plano de Aplicação de Recursos é o document...</td>\n",
       "      <td>O Plano de Aplicação de Recursos é o documento...</td>\n",
       "      <td>[De acordo com o trecho '[nan1]: O Plano de Ap...</td>\n",
       "      <td>0.720123</td>\n",
       "      <td>1.000000</td>\n",
       "      <td>0.333333</td>\n",
       "      <td>1.0</td>\n",
       "    </tr>\n",
       "    <tr>\n",
       "      <th>5</th>\n",
       "      <td>Quem pode ser executor de um convênio e quais ...</td>\n",
       "      <td>[Nos termos do art. 18, §1° da Deliberação CON...</td>\n",
       "      <td>Os servidores ativos da Unicamp, de qualquer c...</td>\n",
       "      <td>[De acordo com o trecho '§ 1º  – Poderão figur...</td>\n",
       "      <td>0.556921</td>\n",
       "      <td>0.875000</td>\n",
       "      <td>1.000000</td>\n",
       "      <td>1.0</td>\n",
       "    </tr>\n",
       "    <tr>\n",
       "      <th>6</th>\n",
       "      <td>Quem é a autoridade competente para assinatura...</td>\n",
       "      <td>[Como regra, a autoridade competente para assi...</td>\n",
       "      <td>As autoridades competentes para assinatura dos...</td>\n",
       "      <td>[De acordo com o trecho 'Artigo 9º  – Fica del...</td>\n",
       "      <td>0.345204</td>\n",
       "      <td>1.000000</td>\n",
       "      <td>0.666667</td>\n",
       "      <td>0.0</td>\n",
       "    </tr>\n",
       "    <tr>\n",
       "      <th>7</th>\n",
       "      <td>Existe uma tramitação simplificada para aprova...</td>\n",
       "      <td>[Sim, o art. 7º da Deliberação CONSU-A-016/202...</td>\n",
       "      <td>Sim</td>\n",
       "      <td>[Sim, de acordo com o trecho 'Seção III – Das ...</td>\n",
       "      <td>0.300432</td>\n",
       "      <td>1.000000</td>\n",
       "      <td>1.000000</td>\n",
       "      <td>1.0</td>\n",
       "    </tr>\n",
       "    <tr>\n",
       "      <th>8</th>\n",
       "      <td>Quando se deve utilizar um Termo Aditivo a um ...</td>\n",
       "      <td>[Em razão da inexistência de uma única lei ou ...</td>\n",
       "      <td>Quando se deseja alterar os termos do convênio...</td>\n",
       "      <td>[De acordo com o trecho 'se ele tiver por fina...</td>\n",
       "      <td>0.696983</td>\n",
       "      <td>1.000000</td>\n",
       "      <td>0.333333</td>\n",
       "      <td>1.0</td>\n",
       "    </tr>\n",
       "    <tr>\n",
       "      <th>9</th>\n",
       "      <td>É possível que o convênio preveja o pagamento ...</td>\n",
       "      <td>[Sim, a concessão de bolsas estímulo à inovaçã...</td>\n",
       "      <td>sim</td>\n",
       "      <td>[De acordo com o trecho 'Artigo 8º  - As bolsa...</td>\n",
       "      <td>0.040484</td>\n",
       "      <td>1.000000</td>\n",
       "      <td>1.000000</td>\n",
       "      <td>1.0</td>\n",
       "    </tr>\n",
       "    <tr>\n",
       "      <th>10</th>\n",
       "      <td>Como ocorre a tramitação de convênio com insti...</td>\n",
       "      <td>[A tramitação de convênio que só tenha a funda...</td>\n",
       "      <td>A tramitação de convênio com instituição inter...</td>\n",
       "      <td>[De acordo com o trecho 'O processo de convêni...</td>\n",
       "      <td>0.338794</td>\n",
       "      <td>1.000000</td>\n",
       "      <td>0.500000</td>\n",
       "      <td>1.0</td>\n",
       "    </tr>\n",
       "    <tr>\n",
       "      <th>11</th>\n",
       "      <td>A execução foi concluída. Como se encerra o pr...</td>\n",
       "      <td>[O encerramento do processo deverá ocorrer apó...</td>\n",
       "      <td>O processo de convênio é encerrado com o encam...</td>\n",
       "      <td>[De acordo com o trecho 'Artigo 6º  – Concluíd...</td>\n",
       "      <td>0.515740</td>\n",
       "      <td>1.000000</td>\n",
       "      <td>1.000000</td>\n",
       "      <td>1.0</td>\n",
       "    </tr>\n",
       "    <tr>\n",
       "      <th>12</th>\n",
       "      <td>As manifestações emitidas por servidores, doce...</td>\n",
       "      <td>[Não. Nos termos da Deliberação CAD-A-04/2003 ...</td>\n",
       "      <td>Não</td>\n",
       "      <td>[De acordo com o trecho 'Não. Nos termos da De...</td>\n",
       "      <td>0.570028</td>\n",
       "      <td>1.000000</td>\n",
       "      <td>1.000000</td>\n",
       "      <td>1.0</td>\n",
       "    </tr>\n",
       "    <tr>\n",
       "      <th>13</th>\n",
       "      <td>Qual procedimento deve ser adotado para utiliz...</td>\n",
       "      <td>[A Resolução GR-028/2004 condiciona o uso da m...</td>\n",
       "      <td>A utilização do logotipo da UNICAMP deve obede...</td>\n",
       "      <td>[De acordo com o trecho 'Artigo 1º - A inserçã...</td>\n",
       "      <td>0.500607</td>\n",
       "      <td>1.000000</td>\n",
       "      <td>0.000000</td>\n",
       "      <td>0.0</td>\n",
       "    </tr>\n",
       "    <tr>\n",
       "      <th>14</th>\n",
       "      <td>Quais as condições e a forma de utilização da ...</td>\n",
       "      <td>[A Portaria GR-034/1995 dispõe sobre as condiç...</td>\n",
       "      <td>As condições e forma de utilização da marca UN...</td>\n",
       "      <td>[De acordo com a [Portaria GR-034/1995], as co...</td>\n",
       "      <td>0.416182</td>\n",
       "      <td>1.000000</td>\n",
       "      <td>1.000000</td>\n",
       "      <td>1.0</td>\n",
       "    </tr>\n",
       "    <tr>\n",
       "      <th>15</th>\n",
       "      <td>É possível estilizar o logo da UNICAMP?</td>\n",
       "      <td>[Não. Nos termos da Portaria GR-034/1995, a ma...</td>\n",
       "      <td>Não há informação suficiente para responder à ...</td>\n",
       "      <td>[Não há menção à estilização do logo da UNICAM...</td>\n",
       "      <td>0.000000</td>\n",
       "      <td>1.000000</td>\n",
       "      <td>0.500000</td>\n",
       "      <td>0.0</td>\n",
       "    </tr>\n",
       "    <tr>\n",
       "      <th>16</th>\n",
       "      <td>As unidades e órgãos universitários podem util...</td>\n",
       "      <td>[Nos termos do artigo 4º da Portaria GR-034/19...</td>\n",
       "      <td>Sim, mas apenas em caráter excepcional e após ...</td>\n",
       "      <td>[De acordo com o trecho 'Artigo 4º - As unidad...</td>\n",
       "      <td>0.465461</td>\n",
       "      <td>1.000000</td>\n",
       "      <td>1.000000</td>\n",
       "      <td>1.0</td>\n",
       "    </tr>\n",
       "    <tr>\n",
       "      <th>17</th>\n",
       "      <td>As reuniões de órgãos colegiados da UNICAMP po...</td>\n",
       "      <td>[As gravações das reuniões de órgãos colegiado...</td>\n",
       "      <td>sim</td>\n",
       "      <td>[De acordo com o trecho 'Artigo 7º  - Os áudio...</td>\n",
       "      <td>0.218160</td>\n",
       "      <td>1.000000</td>\n",
       "      <td>0.200000</td>\n",
       "      <td>1.0</td>\n",
       "    </tr>\n",
       "    <tr>\n",
       "      <th>18</th>\n",
       "      <td>As gravações podem ser disponibilizadas a terc...</td>\n",
       "      <td>[Quanto à divulgação dos áudios e vídeos das r...</td>\n",
       "      <td>Não, as gravações não podem ser disponibilizad...</td>\n",
       "      <td>[De acordo com a Cláusula 7.3 da [Deliberação ...</td>\n",
       "      <td>0.010751</td>\n",
       "      <td>1.000000</td>\n",
       "      <td>1.000000</td>\n",
       "      <td>1.0</td>\n",
       "    </tr>\n",
       "    <tr>\n",
       "      <th>19</th>\n",
       "      <td>As pautas, atas e deliberações dos órgãos cole...</td>\n",
       "      <td>[Nos termos da Lei Federal nº 12.527/2011, pau...</td>\n",
       "      <td>Não há evidência de que as pautas, atas e deli...</td>\n",
       "      <td>[De acordo com o trecho '§ 4º.  A Secretaria G...</td>\n",
       "      <td>0.257461</td>\n",
       "      <td>1.000000</td>\n",
       "      <td>0.000000</td>\n",
       "      <td>0.0</td>\n",
       "    </tr>\n",
       "    <tr>\n",
       "      <th>20</th>\n",
       "      <td>Servidor técnico-administrativo da UNICAMP pod...</td>\n",
       "      <td>[O servidor técnico administrativo da UNICAMP ...</td>\n",
       "      <td>Sim, desde que não haja relação com a finalida...</td>\n",
       "      <td>[De acordo com o trecho 'é proibido ao servido...</td>\n",
       "      <td>0.371979</td>\n",
       "      <td>0.750000</td>\n",
       "      <td>1.000000</td>\n",
       "      <td>1.0</td>\n",
       "    </tr>\n",
       "    <tr>\n",
       "      <th>21</th>\n",
       "      <td>Docente da UNICAMP em RDIDP ou regime de dedic...</td>\n",
       "      <td>[O docente da UNICAMP em RDIDP ou em regime de...</td>\n",
       "      <td>Não</td>\n",
       "      <td>[De acordo com o trecho '§ 1º. No Regime de De...</td>\n",
       "      <td>0.315214</td>\n",
       "      <td>0.500000</td>\n",
       "      <td>1.000000</td>\n",
       "      <td>1.0</td>\n",
       "    </tr>\n",
       "    <tr>\n",
       "      <th>22</th>\n",
       "      <td>Como tramitam as sindicâncias administrativas ...</td>\n",
       "      <td>[As sindicâncias administrativas deverão trami...</td>\n",
       "      <td>As sindicâncias administrativas no âmbito da U...</td>\n",
       "      <td>[De acordo com o trecho 'A sindicância adminis...</td>\n",
       "      <td>0.427073</td>\n",
       "      <td>1.000000</td>\n",
       "      <td>0.000000</td>\n",
       "      <td>0.0</td>\n",
       "    </tr>\n",
       "    <tr>\n",
       "      <th>23</th>\n",
       "      <td>Em quais hipóteses deve ser instaurada sindicâ...</td>\n",
       "      <td>[Sindicância Administrativa é o meio de apuraç...</td>\n",
       "      <td>Quando um docente infringe qualquer das dispos...</td>\n",
       "      <td>[De acordo com o trecho 'Artigo 20 - O docente...</td>\n",
       "      <td>0.074813</td>\n",
       "      <td>1.000000</td>\n",
       "      <td>0.250000</td>\n",
       "      <td>1.0</td>\n",
       "    </tr>\n",
       "    <tr>\n",
       "      <th>24</th>\n",
       "      <td>Quem tem competência para instaurar sindicânci...</td>\n",
       "      <td>[Podem instaurar sindicância administrativa, n...</td>\n",
       "      <td>A autoridade competente que determinou a insta...</td>\n",
       "      <td>[De acordo com o trecho 'A sindicância adminis...</td>\n",
       "      <td>0.370781</td>\n",
       "      <td>1.000000</td>\n",
       "      <td>0.000000</td>\n",
       "      <td>1.0</td>\n",
       "    </tr>\n",
       "    <tr>\n",
       "      <th>25</th>\n",
       "      <td>Como deve ser a composição da Comissão?</td>\n",
       "      <td>[A Sindicância deverá ser instaurada mediante ...</td>\n",
       "      <td>A composição da Comissão de Legislação e Norma...</td>\n",
       "      <td>[De acordo com o trecho 'Artigo 11 – O Conselh...</td>\n",
       "      <td>0.493961</td>\n",
       "      <td>1.000000</td>\n",
       "      <td>0.000000</td>\n",
       "      <td>0.0</td>\n",
       "    </tr>\n",
       "    <tr>\n",
       "      <th>26</th>\n",
       "      <td>Qual o prazo de funcionamento da Comissão?</td>\n",
       "      <td>[A sindicância deverá ser concluída em 30 (tri...</td>\n",
       "      <td>Não há um prazo de funcionamento da Comissão e...</td>\n",
       "      <td>[Não há um prazo de funcionamento da Comissão ...</td>\n",
       "      <td>0.163863</td>\n",
       "      <td>1.000000</td>\n",
       "      <td>0.000000</td>\n",
       "      <td>0.0</td>\n",
       "    </tr>\n",
       "    <tr>\n",
       "      <th>27</th>\n",
       "      <td>Há ordem específica para oitiva dos investigad...</td>\n",
       "      <td>[Em geral, a ordem de convocação dos depoentes...</td>\n",
       "      <td>Sim, há uma recomendação para que o sindicado ...</td>\n",
       "      <td>[De acordo com o trecho 'Em geral, a ordem de ...</td>\n",
       "      <td>0.240252</td>\n",
       "      <td>1.000000</td>\n",
       "      <td>0.666667</td>\n",
       "      <td>1.0</td>\n",
       "    </tr>\n",
       "    <tr>\n",
       "      <th>28</th>\n",
       "      <td>Ao final da apuração, como deve proceder a Com...</td>\n",
       "      <td>[Ao final da apuração, a Comissão de Sindicânc...</td>\n",
       "      <td>Elaborar um Relatório Final.</td>\n",
       "      <td>[De acordo com o trecho 'Ao final da apuração,...</td>\n",
       "      <td>0.381572</td>\n",
       "      <td>1.000000</td>\n",
       "      <td>0.333333</td>\n",
       "      <td>1.0</td>\n",
       "    </tr>\n",
       "    <tr>\n",
       "      <th>29</th>\n",
       "      <td>Durante o período de suspensão das atividades ...</td>\n",
       "      <td>[Sim. Nesse momento de suspensão das atividade...</td>\n",
       "      <td>Sim</td>\n",
       "      <td>[De acordo com o trecho 'Sim. Nesse momento de...</td>\n",
       "      <td>0.394479</td>\n",
       "      <td>1.000000</td>\n",
       "      <td>1.000000</td>\n",
       "      <td>1.0</td>\n",
       "    </tr>\n",
       "    <tr>\n",
       "      <th>30</th>\n",
       "      <td>No caso de apuração de faltas disciplinares at...</td>\n",
       "      <td>[Em se tratando de infrações disciplinares atr...</td>\n",
       "      <td>A apuração das infrações disciplinares do corp...</td>\n",
       "      <td>[De acordo com o trecho 'Os processos de apura...</td>\n",
       "      <td>0.380287</td>\n",
       "      <td>1.000000</td>\n",
       "      <td>0.500000</td>\n",
       "      <td>1.0</td>\n",
       "    </tr>\n",
       "    <tr>\n",
       "      <th>31</th>\n",
       "      <td>Como saber qual procedimento deve ser instaurado?</td>\n",
       "      <td>[Conforme previsto no artigo 235 do Regimento ...</td>\n",
       "      <td>Se houver dúvida sobre a natureza e gravidade ...</td>\n",
       "      <td>[De acordo com o trecho '§ 5º. Havendo dúvida ...</td>\n",
       "      <td>0.166103</td>\n",
       "      <td>0.333333</td>\n",
       "      <td>0.333333</td>\n",
       "      <td>0.0</td>\n",
       "    </tr>\n",
       "    <tr>\n",
       "      <th>32</th>\n",
       "      <td>Em se tratando de Sindicância Investigativa, c...</td>\n",
       "      <td>[Tratando-se de Sindicância Investigativa (art...</td>\n",
       "      <td>A Sindicância Investigativa é conduzida median...</td>\n",
       "      <td>[De acordo com o trecho 'A Sindicância Investi...</td>\n",
       "      <td>0.662571</td>\n",
       "      <td>1.000000</td>\n",
       "      <td>0.500000</td>\n",
       "      <td>1.0</td>\n",
       "    </tr>\n",
       "    <tr>\n",
       "      <th>33</th>\n",
       "      <td>Quem coordenará o Grupo de Trabalho responsáve...</td>\n",
       "      <td>[O coordenador do Grupo de Trabalho designado ...</td>\n",
       "      <td>Prof. Drª. Emília Wanda Rutkowski</td>\n",
       "      <td>[De acordo com o trecho 'Fica constituído o Gr...</td>\n",
       "      <td>0.349767</td>\n",
       "      <td>1.000000</td>\n",
       "      <td>1.000000</td>\n",
       "      <td>1.0</td>\n",
       "    </tr>\n",
       "    <tr>\n",
       "      <th>34</th>\n",
       "      <td>Quem é o responsável por decidir os recursos i...</td>\n",
       "      <td>[Baseado na informação retirada do Resolução G...</td>\n",
       "      <td>Diretor Executivo de Administração.</td>\n",
       "      <td>[De acordo com o trecho 'j) conhecer e decidir...</td>\n",
       "      <td>0.103951</td>\n",
       "      <td>1.000000</td>\n",
       "      <td>1.000000</td>\n",
       "      <td>1.0</td>\n",
       "    </tr>\n",
       "    <tr>\n",
       "      <th>35</th>\n",
       "      <td>Quem são os responsáveis pela coordenação das ...</td>\n",
       "      <td>[O documento [Deliberação CAD-A-005/2023] menc...</td>\n",
       "      <td>Presidente da Comissão de Graduação, Coordenad...</td>\n",
       "      <td>[De acordo com o trecho 'Artigo 1º  - Fica alt...</td>\n",
       "      <td>0.392205</td>\n",
       "      <td>1.000000</td>\n",
       "      <td>0.500000</td>\n",
       "      <td>1.0</td>\n",
       "    </tr>\n",
       "    <tr>\n",
       "      <th>36</th>\n",
       "      <td>Qual é o objetivo principal do 'Prêmio Tese De...</td>\n",
       "      <td>[O objetivo principal do 'Prêmio Tese Destaque...</td>\n",
       "      <td>Reconhecer e premiar as teses de doutorado de ...</td>\n",
       "      <td>[De acordo com o trecho 'Artigo 1º  – Fica ins...</td>\n",
       "      <td>0.593544</td>\n",
       "      <td>0.666667</td>\n",
       "      <td>1.000000</td>\n",
       "      <td>1.0</td>\n",
       "    </tr>\n",
       "    <tr>\n",
       "      <th>37</th>\n",
       "      <td>Quais são as competências atribuídas ao Escrit...</td>\n",
       "      <td>[Regulação, manutenção de licenças, normatizaç...</td>\n",
       "      <td>As competências do Escritório de Produtos Cont...</td>\n",
       "      <td>[De acordo com o trecho 'Artigo 1º  - Fica cri...</td>\n",
       "      <td>0.676066</td>\n",
       "      <td>1.000000</td>\n",
       "      <td>1.000000</td>\n",
       "      <td>1.0</td>\n",
       "    </tr>\n",
       "    <tr>\n",
       "      <th>38</th>\n",
       "      <td>Quem pode admitir servidores na UNICAMP?</td>\n",
       "      <td>[As admissões, dispensas e demais atos referen...</td>\n",
       "      <td>O Reitor da UNICAMP.</td>\n",
       "      <td>[De acordo com o trecho 'admitir e dar posse a...</td>\n",
       "      <td>0.440680</td>\n",
       "      <td>1.000000</td>\n",
       "      <td>1.000000</td>\n",
       "      <td>1.0</td>\n",
       "    </tr>\n",
       "    <tr>\n",
       "      <th>39</th>\n",
       "      <td>Quem são os novos membros designados para a Co...</td>\n",
       "      <td>[De acordo com a [Portaria GR-027/2021], 'o Re...</td>\n",
       "      <td>Dra. Patrícia Regina Kitaka e outros membros n...</td>\n",
       "      <td>[De acordo com o trecho 'Artigo 1º - Ficam des...</td>\n",
       "      <td>0.000000</td>\n",
       "      <td>0.666667</td>\n",
       "      <td>1.000000</td>\n",
       "      <td>1.0</td>\n",
       "    </tr>\n",
       "    <tr>\n",
       "      <th>40</th>\n",
       "      <td>Quais são os requisitos formais para que profe...</td>\n",
       "      <td>[De acordo com a [Resolução GR-017/2004], Os r...</td>\n",
       "      <td>A concessão de autorização pelo Diretor da Uni...</td>\n",
       "      <td>[De acordo com o Artigo 1º da [Resolução GR-01...</td>\n",
       "      <td>0.198592</td>\n",
       "      <td>1.000000</td>\n",
       "      <td>0.500000</td>\n",
       "      <td>1.0</td>\n",
       "    </tr>\n",
       "    <tr>\n",
       "      <th>41</th>\n",
       "      <td>Quais são os membros constituintes do Conselho...</td>\n",
       "      <td>[O Conselho de Orientação para Incubadoras de ...</td>\n",
       "      <td>Os membros constituintes do Conselho de Orient...</td>\n",
       "      <td>[De acordo com o trecho 'Artigo 1º- a Incamp s...</td>\n",
       "      <td>0.467288</td>\n",
       "      <td>0.200000</td>\n",
       "      <td>0.500000</td>\n",
       "      <td>1.0</td>\n",
       "    </tr>\n",
       "    <tr>\n",
       "      <th>42</th>\n",
       "      <td>Quais são as principais funções do Conselho Su...</td>\n",
       "      <td>[As principais funções do Conselho Superior do...</td>\n",
       "      <td>Aprovar projetos de pesquisa detalhados aprese...</td>\n",
       "      <td>[De acordo com o trecho 'Artigo 13  - Para par...</td>\n",
       "      <td>0.772105</td>\n",
       "      <td>1.000000</td>\n",
       "      <td>0.125000</td>\n",
       "      <td>0.0</td>\n",
       "    </tr>\n",
       "    <tr>\n",
       "      <th>43</th>\n",
       "      <td>Quais são as condições e restrições impostas a...</td>\n",
       "      <td>[De acordo com a [Deliberação CONSU-A-015/2024...</td>\n",
       "      <td>As condições e restrições impostas aos partici...</td>\n",
       "      <td>[De acordo com a [Deliberação CONSU-A-015/2024...</td>\n",
       "      <td>0.505261</td>\n",
       "      <td>1.000000</td>\n",
       "      <td>1.000000</td>\n",
       "      <td>1.0</td>\n",
       "    </tr>\n",
       "    <tr>\n",
       "      <th>44</th>\n",
       "      <td>Qual é a estrutura de duração e os requisitos ...</td>\n",
       "      <td>[Os cursos de Mestrado e Doutorado no Programa...</td>\n",
       "      <td>A estrutura de duração e os requisitos de conc...</td>\n",
       "      <td>[De acordo com o trecho 'Artigo 9º  - Os Curso...</td>\n",
       "      <td>0.647018</td>\n",
       "      <td>1.000000</td>\n",
       "      <td>0.500000</td>\n",
       "      <td>1.0</td>\n",
       "    </tr>\n",
       "    <tr>\n",
       "      <th>45</th>\n",
       "      <td>Quais são os órgãos superiores de administraçã...</td>\n",
       "      <td>[Os órgãos superiores de administração da Univ...</td>\n",
       "      <td>Os órgãos superiores de administração da Unive...</td>\n",
       "      <td>[De acordo com o trecho 'Artigo 79. São órgãos...</td>\n",
       "      <td>0.737385</td>\n",
       "      <td>0.500000</td>\n",
       "      <td>1.000000</td>\n",
       "      <td>1.0</td>\n",
       "    </tr>\n",
       "    <tr>\n",
       "      <th>46</th>\n",
       "      <td>Como é composto o Conselho Universitário da Un...</td>\n",
       "      <td>[O Conselho Universitário, que é o órgão delib...</td>\n",
       "      <td>A composição e os mandatos dos membros do Cons...</td>\n",
       "      <td>[Não há um documento que especifique explicita...</td>\n",
       "      <td>0.315772</td>\n",
       "      <td>1.000000</td>\n",
       "      <td>0.500000</td>\n",
       "      <td>0.0</td>\n",
       "    </tr>\n",
       "    <tr>\n",
       "      <th>47</th>\n",
       "      <td>Como é estruturada a administração financeira ...</td>\n",
       "      <td>[A administração financeira e orçamentária da ...</td>\n",
       "      <td>A administração financeira e orçamentária da U...</td>\n",
       "      <td>[De acordo com o trecho 'A administração finan...</td>\n",
       "      <td>0.710183</td>\n",
       "      <td>1.000000</td>\n",
       "      <td>1.000000</td>\n",
       "      <td>1.0</td>\n",
       "    </tr>\n",
       "    <tr>\n",
       "      <th>48</th>\n",
       "      <td>Quais são os objetivos e requisitos do Program...</td>\n",
       "      <td>[O Programa Formativo Intercultural para Ingre...</td>\n",
       "      <td>Os objetivos do ProFIIVI são aprimorar a polít...</td>\n",
       "      <td>[De acordo com a Deliberação CEPE-A-005/2024, ...</td>\n",
       "      <td>0.307237</td>\n",
       "      <td>1.000000</td>\n",
       "      <td>0.666667</td>\n",
       "      <td>1.0</td>\n",
       "    </tr>\n",
       "    <tr>\n",
       "      <th>49</th>\n",
       "      <td>Qual é a estrutura do Perfil Quantitativo Míni...</td>\n",
       "      <td>[A Deliberação CAD-A-009/2023 da Universidade ...</td>\n",
       "      <td>O Perfil Quantitativo Mínimo para a ascensão a...</td>\n",
       "      <td>[De acordo com o trecho 'Dispõe sobre o Perfil...</td>\n",
       "      <td>0.319517</td>\n",
       "      <td>1.000000</td>\n",
       "      <td>0.250000</td>\n",
       "      <td>1.0</td>\n",
       "    </tr>\n",
       "  </tbody>\n",
       "</table>\n",
       "</div>"
      ],
      "text/plain": [
       "                                             question  \\\n",
       "0   Em quais hipóteses a Procuradoria Geral pode e...   \n",
       "1   Como ocorrem as atividades de cooperação, pesq...   \n",
       "2   Qual é o procedimento para a celebração de con...   \n",
       "3   Qual é o sistema utilizado para a tramitação d...   \n",
       "4           O que é o Plano de Aplicação de Recursos?   \n",
       "5   Quem pode ser executor de um convênio e quais ...   \n",
       "6   Quem é a autoridade competente para assinatura...   \n",
       "7   Existe uma tramitação simplificada para aprova...   \n",
       "8   Quando se deve utilizar um Termo Aditivo a um ...   \n",
       "9   É possível que o convênio preveja o pagamento ...   \n",
       "10  Como ocorre a tramitação de convênio com insti...   \n",
       "11  A execução foi concluída. Como se encerra o pr...   \n",
       "12  As manifestações emitidas por servidores, doce...   \n",
       "13  Qual procedimento deve ser adotado para utiliz...   \n",
       "14  Quais as condições e a forma de utilização da ...   \n",
       "15            É possível estilizar o logo da UNICAMP?   \n",
       "16  As unidades e órgãos universitários podem util...   \n",
       "17  As reuniões de órgãos colegiados da UNICAMP po...   \n",
       "18  As gravações podem ser disponibilizadas a terc...   \n",
       "19  As pautas, atas e deliberações dos órgãos cole...   \n",
       "20  Servidor técnico-administrativo da UNICAMP pod...   \n",
       "21  Docente da UNICAMP em RDIDP ou regime de dedic...   \n",
       "22  Como tramitam as sindicâncias administrativas ...   \n",
       "23  Em quais hipóteses deve ser instaurada sindicâ...   \n",
       "24  Quem tem competência para instaurar sindicânci...   \n",
       "25            Como deve ser a composição da Comissão?   \n",
       "26         Qual o prazo de funcionamento da Comissão?   \n",
       "27  Há ordem específica para oitiva dos investigad...   \n",
       "28  Ao final da apuração, como deve proceder a Com...   \n",
       "29  Durante o período de suspensão das atividades ...   \n",
       "30  No caso de apuração de faltas disciplinares at...   \n",
       "31  Como saber qual procedimento deve ser instaurado?   \n",
       "32  Em se tratando de Sindicância Investigativa, c...   \n",
       "33  Quem coordenará o Grupo de Trabalho responsáve...   \n",
       "34  Quem é o responsável por decidir os recursos i...   \n",
       "35  Quem são os responsáveis pela coordenação das ...   \n",
       "36  Qual é o objetivo principal do 'Prêmio Tese De...   \n",
       "37  Quais são as competências atribuídas ao Escrit...   \n",
       "38           Quem pode admitir servidores na UNICAMP?   \n",
       "39  Quem são os novos membros designados para a Co...   \n",
       "40  Quais são os requisitos formais para que profe...   \n",
       "41  Quais são os membros constituintes do Conselho...   \n",
       "42  Quais são as principais funções do Conselho Su...   \n",
       "43  Quais são as condições e restrições impostas a...   \n",
       "44  Qual é a estrutura de duração e os requisitos ...   \n",
       "45  Quais são os órgãos superiores de administraçã...   \n",
       "46  Como é composto o Conselho Universitário da Un...   \n",
       "47  Como é estruturada a administração financeira ...   \n",
       "48  Quais são os objetivos e requisitos do Program...   \n",
       "49  Qual é a estrutura do Perfil Quantitativo Míni...   \n",
       "\n",
       "                                        ground_truths  \\\n",
       "0   [A Procuradoria Geral da UNICAMP integra a Adv...   \n",
       "1   [Nos termos do art. 1° da Deliberação CONSU-A-...   \n",
       "2   [Na Unicamp, a celebração de convênios, contra...   \n",
       "3   [Os documentos essenciais estão elencados no a...   \n",
       "4   [O Plano de Aplicação de Recursos é o document...   \n",
       "5   [Nos termos do art. 18, §1° da Deliberação CON...   \n",
       "6   [Como regra, a autoridade competente para assi...   \n",
       "7   [Sim, o art. 7º da Deliberação CONSU-A-016/202...   \n",
       "8   [Em razão da inexistência de uma única lei ou ...   \n",
       "9   [Sim, a concessão de bolsas estímulo à inovaçã...   \n",
       "10  [A tramitação de convênio que só tenha a funda...   \n",
       "11  [O encerramento do processo deverá ocorrer apó...   \n",
       "12  [Não. Nos termos da Deliberação CAD-A-04/2003 ...   \n",
       "13  [A Resolução GR-028/2004 condiciona o uso da m...   \n",
       "14  [A Portaria GR-034/1995 dispõe sobre as condiç...   \n",
       "15  [Não. Nos termos da Portaria GR-034/1995, a ma...   \n",
       "16  [Nos termos do artigo 4º da Portaria GR-034/19...   \n",
       "17  [As gravações das reuniões de órgãos colegiado...   \n",
       "18  [Quanto à divulgação dos áudios e vídeos das r...   \n",
       "19  [Nos termos da Lei Federal nº 12.527/2011, pau...   \n",
       "20  [O servidor técnico administrativo da UNICAMP ...   \n",
       "21  [O docente da UNICAMP em RDIDP ou em regime de...   \n",
       "22  [As sindicâncias administrativas deverão trami...   \n",
       "23  [Sindicância Administrativa é o meio de apuraç...   \n",
       "24  [Podem instaurar sindicância administrativa, n...   \n",
       "25  [A Sindicância deverá ser instaurada mediante ...   \n",
       "26  [A sindicância deverá ser concluída em 30 (tri...   \n",
       "27  [Em geral, a ordem de convocação dos depoentes...   \n",
       "28  [Ao final da apuração, a Comissão de Sindicânc...   \n",
       "29  [Sim. Nesse momento de suspensão das atividade...   \n",
       "30  [Em se tratando de infrações disciplinares atr...   \n",
       "31  [Conforme previsto no artigo 235 do Regimento ...   \n",
       "32  [Tratando-se de Sindicância Investigativa (art...   \n",
       "33  [O coordenador do Grupo de Trabalho designado ...   \n",
       "34  [Baseado na informação retirada do Resolução G...   \n",
       "35  [O documento [Deliberação CAD-A-005/2023] menc...   \n",
       "36  [O objetivo principal do 'Prêmio Tese Destaque...   \n",
       "37  [Regulação, manutenção de licenças, normatizaç...   \n",
       "38  [As admissões, dispensas e demais atos referen...   \n",
       "39  [De acordo com a [Portaria GR-027/2021], 'o Re...   \n",
       "40  [De acordo com a [Resolução GR-017/2004], Os r...   \n",
       "41  [O Conselho de Orientação para Incubadoras de ...   \n",
       "42  [As principais funções do Conselho Superior do...   \n",
       "43  [De acordo com a [Deliberação CONSU-A-015/2024...   \n",
       "44  [Os cursos de Mestrado e Doutorado no Programa...   \n",
       "45  [Os órgãos superiores de administração da Univ...   \n",
       "46  [O Conselho Universitário, que é o órgão delib...   \n",
       "47  [A administração financeira e orçamentária da ...   \n",
       "48  [O Programa Formativo Intercultural para Ingre...   \n",
       "49  [A Deliberação CAD-A-009/2023 da Universidade ...   \n",
       "\n",
       "                                               answer  \\\n",
       "0   Não há resposta, pois não há menção à UNICAMP ...   \n",
       "1   mediante a celebração de convênios, contratos ...   \n",
       "2   O procedimento para a celebração de convênios,...   \n",
       "3              Processos administrativos eletrônicos.   \n",
       "4   O Plano de Aplicação de Recursos é o documento...   \n",
       "5   Os servidores ativos da Unicamp, de qualquer c...   \n",
       "6   As autoridades competentes para assinatura dos...   \n",
       "7                                                 Sim   \n",
       "8   Quando se deseja alterar os termos do convênio...   \n",
       "9                                                 sim   \n",
       "10  A tramitação de convênio com instituição inter...   \n",
       "11  O processo de convênio é encerrado com o encam...   \n",
       "12                                                Não   \n",
       "13  A utilização do logotipo da UNICAMP deve obede...   \n",
       "14  As condições e forma de utilização da marca UN...   \n",
       "15  Não há informação suficiente para responder à ...   \n",
       "16  Sim, mas apenas em caráter excepcional e após ...   \n",
       "17                                                sim   \n",
       "18  Não, as gravações não podem ser disponibilizad...   \n",
       "19  Não há evidência de que as pautas, atas e deli...   \n",
       "20  Sim, desde que não haja relação com a finalida...   \n",
       "21                                                Não   \n",
       "22  As sindicâncias administrativas no âmbito da U...   \n",
       "23  Quando um docente infringe qualquer das dispos...   \n",
       "24  A autoridade competente que determinou a insta...   \n",
       "25  A composição da Comissão de Legislação e Norma...   \n",
       "26  Não há um prazo de funcionamento da Comissão e...   \n",
       "27  Sim, há uma recomendação para que o sindicado ...   \n",
       "28                       Elaborar um Relatório Final.   \n",
       "29                                                Sim   \n",
       "30  A apuração das infrações disciplinares do corp...   \n",
       "31  Se houver dúvida sobre a natureza e gravidade ...   \n",
       "32  A Sindicância Investigativa é conduzida median...   \n",
       "33                  Prof. Drª. Emília Wanda Rutkowski   \n",
       "34                Diretor Executivo de Administração.   \n",
       "35  Presidente da Comissão de Graduação, Coordenad...   \n",
       "36  Reconhecer e premiar as teses de doutorado de ...   \n",
       "37  As competências do Escritório de Produtos Cont...   \n",
       "38                               O Reitor da UNICAMP.   \n",
       "39  Dra. Patrícia Regina Kitaka e outros membros n...   \n",
       "40  A concessão de autorização pelo Diretor da Uni...   \n",
       "41  Os membros constituintes do Conselho de Orient...   \n",
       "42  Aprovar projetos de pesquisa detalhados aprese...   \n",
       "43  As condições e restrições impostas aos partici...   \n",
       "44  A estrutura de duração e os requisitos de conc...   \n",
       "45  Os órgãos superiores de administração da Unive...   \n",
       "46  A composição e os mandatos dos membros do Cons...   \n",
       "47  A administração financeira e orçamentária da U...   \n",
       "48  Os objetivos do ProFIIVI são aprimorar a polít...   \n",
       "49  O Perfil Quantitativo Mínimo para a ascensão a...   \n",
       "\n",
       "                                             contexts  answer_relevancy  \\\n",
       "0   [Não há menção à UNICAMP ou à Procuradoria Ger...          0.000000   \n",
       "1   [De acordo com o trecho 'A atuação da Universi...          0.491248   \n",
       "2   [De acordo com o trecho 'CAPÍTULO I – DISPOSIÇ...          0.396338   \n",
       "3   [De acordo com o trecho 'As propostas de convê...          0.249516   \n",
       "4   [De acordo com o trecho '[nan1]: O Plano de Ap...          0.720123   \n",
       "5   [De acordo com o trecho '§ 1º  – Poderão figur...          0.556921   \n",
       "6   [De acordo com o trecho 'Artigo 9º  – Fica del...          0.345204   \n",
       "7   [Sim, de acordo com o trecho 'Seção III – Das ...          0.300432   \n",
       "8   [De acordo com o trecho 'se ele tiver por fina...          0.696983   \n",
       "9   [De acordo com o trecho 'Artigo 8º  - As bolsa...          0.040484   \n",
       "10  [De acordo com o trecho 'O processo de convêni...          0.338794   \n",
       "11  [De acordo com o trecho 'Artigo 6º  – Concluíd...          0.515740   \n",
       "12  [De acordo com o trecho 'Não. Nos termos da De...          0.570028   \n",
       "13  [De acordo com o trecho 'Artigo 1º - A inserçã...          0.500607   \n",
       "14  [De acordo com a [Portaria GR-034/1995], as co...          0.416182   \n",
       "15  [Não há menção à estilização do logo da UNICAM...          0.000000   \n",
       "16  [De acordo com o trecho 'Artigo 4º - As unidad...          0.465461   \n",
       "17  [De acordo com o trecho 'Artigo 7º  - Os áudio...          0.218160   \n",
       "18  [De acordo com a Cláusula 7.3 da [Deliberação ...          0.010751   \n",
       "19  [De acordo com o trecho '§ 4º.  A Secretaria G...          0.257461   \n",
       "20  [De acordo com o trecho 'é proibido ao servido...          0.371979   \n",
       "21  [De acordo com o trecho '§ 1º. No Regime de De...          0.315214   \n",
       "22  [De acordo com o trecho 'A sindicância adminis...          0.427073   \n",
       "23  [De acordo com o trecho 'Artigo 20 - O docente...          0.074813   \n",
       "24  [De acordo com o trecho 'A sindicância adminis...          0.370781   \n",
       "25  [De acordo com o trecho 'Artigo 11 – O Conselh...          0.493961   \n",
       "26  [Não há um prazo de funcionamento da Comissão ...          0.163863   \n",
       "27  [De acordo com o trecho 'Em geral, a ordem de ...          0.240252   \n",
       "28  [De acordo com o trecho 'Ao final da apuração,...          0.381572   \n",
       "29  [De acordo com o trecho 'Sim. Nesse momento de...          0.394479   \n",
       "30  [De acordo com o trecho 'Os processos de apura...          0.380287   \n",
       "31  [De acordo com o trecho '§ 5º. Havendo dúvida ...          0.166103   \n",
       "32  [De acordo com o trecho 'A Sindicância Investi...          0.662571   \n",
       "33  [De acordo com o trecho 'Fica constituído o Gr...          0.349767   \n",
       "34  [De acordo com o trecho 'j) conhecer e decidir...          0.103951   \n",
       "35  [De acordo com o trecho 'Artigo 1º  - Fica alt...          0.392205   \n",
       "36  [De acordo com o trecho 'Artigo 1º  – Fica ins...          0.593544   \n",
       "37  [De acordo com o trecho 'Artigo 1º  - Fica cri...          0.676066   \n",
       "38  [De acordo com o trecho 'admitir e dar posse a...          0.440680   \n",
       "39  [De acordo com o trecho 'Artigo 1º - Ficam des...          0.000000   \n",
       "40  [De acordo com o Artigo 1º da [Resolução GR-01...          0.198592   \n",
       "41  [De acordo com o trecho 'Artigo 1º- a Incamp s...          0.467288   \n",
       "42  [De acordo com o trecho 'Artigo 13  - Para par...          0.772105   \n",
       "43  [De acordo com a [Deliberação CONSU-A-015/2024...          0.505261   \n",
       "44  [De acordo com o trecho 'Artigo 9º  - Os Curso...          0.647018   \n",
       "45  [De acordo com o trecho 'Artigo 79. São órgãos...          0.737385   \n",
       "46  [Não há um documento que especifique explicita...          0.315772   \n",
       "47  [De acordo com o trecho 'A administração finan...          0.710183   \n",
       "48  [De acordo com a Deliberação CEPE-A-005/2024, ...          0.307237   \n",
       "49  [De acordo com o trecho 'Dispõe sobre o Perfil...          0.319517   \n",
       "\n",
       "    faithfulness  context_recall  context_precision  \n",
       "0       0.500000        0.000000                0.0  \n",
       "1       1.000000        1.000000                1.0  \n",
       "2       1.000000        0.666667                1.0  \n",
       "3       1.000000        0.125000                1.0  \n",
       "4       1.000000        0.333333                1.0  \n",
       "5       0.875000        1.000000                1.0  \n",
       "6       1.000000        0.666667                0.0  \n",
       "7       1.000000        1.000000                1.0  \n",
       "8       1.000000        0.333333                1.0  \n",
       "9       1.000000        1.000000                1.0  \n",
       "10      1.000000        0.500000                1.0  \n",
       "11      1.000000        1.000000                1.0  \n",
       "12      1.000000        1.000000                1.0  \n",
       "13      1.000000        0.000000                0.0  \n",
       "14      1.000000        1.000000                1.0  \n",
       "15      1.000000        0.500000                0.0  \n",
       "16      1.000000        1.000000                1.0  \n",
       "17      1.000000        0.200000                1.0  \n",
       "18      1.000000        1.000000                1.0  \n",
       "19      1.000000        0.000000                0.0  \n",
       "20      0.750000        1.000000                1.0  \n",
       "21      0.500000        1.000000                1.0  \n",
       "22      1.000000        0.000000                0.0  \n",
       "23      1.000000        0.250000                1.0  \n",
       "24      1.000000        0.000000                1.0  \n",
       "25      1.000000        0.000000                0.0  \n",
       "26      1.000000        0.000000                0.0  \n",
       "27      1.000000        0.666667                1.0  \n",
       "28      1.000000        0.333333                1.0  \n",
       "29      1.000000        1.000000                1.0  \n",
       "30      1.000000        0.500000                1.0  \n",
       "31      0.333333        0.333333                0.0  \n",
       "32      1.000000        0.500000                1.0  \n",
       "33      1.000000        1.000000                1.0  \n",
       "34      1.000000        1.000000                1.0  \n",
       "35      1.000000        0.500000                1.0  \n",
       "36      0.666667        1.000000                1.0  \n",
       "37      1.000000        1.000000                1.0  \n",
       "38      1.000000        1.000000                1.0  \n",
       "39      0.666667        1.000000                1.0  \n",
       "40      1.000000        0.500000                1.0  \n",
       "41      0.200000        0.500000                1.0  \n",
       "42      1.000000        0.125000                0.0  \n",
       "43      1.000000        1.000000                1.0  \n",
       "44      1.000000        0.500000                1.0  \n",
       "45      0.500000        1.000000                1.0  \n",
       "46      1.000000        0.500000                0.0  \n",
       "47      1.000000        1.000000                1.0  \n",
       "48      1.000000        0.666667                1.0  \n",
       "49      1.000000        0.250000                1.0  "
      ]
     },
     "execution_count": 11,
     "metadata": {},
     "output_type": "execute_result"
    }
   ],
   "source": [
    "file_path = '../input/Raw Text/dataset/RAG_FinalDataset_experiment_7.json'\n",
    "import pandas as pd\n",
    "df = pd.read_json(file_path)\n",
    "df"
   ]
  },
  {
   "cell_type": "code",
   "execution_count": 12,
   "metadata": {},
   "outputs": [
    {
     "name": "stdout",
     "output_type": "stream",
     "text": [
      "0.3813990887714906\n",
      "0.9198333333333332\n",
      "0.6089999999999999\n",
      "0.779999999922\n"
     ]
    }
   ],
   "source": [
    "print(df['answer_relevancy'].mean())\n",
    "print(df['faithfulness'].mean())\n",
    "print(df['context_recall'].mean())\n",
    "print(df['context_precision'].mean())"
   ]
  },
  {
   "cell_type": "code",
   "execution_count": null,
   "metadata": {},
   "outputs": [],
   "source": []
  }
 ],
 "metadata": {
  "kernelspec": {
   "display_name": "ia024_kernel",
   "language": "python",
   "name": "ia024_kernel"
  },
  "language_info": {
   "codemirror_mode": {
    "name": "ipython",
    "version": 3
   },
   "file_extension": ".py",
   "mimetype": "text/x-python",
   "name": "python",
   "nbconvert_exporter": "python",
   "pygments_lexer": "ipython3",
   "version": "3.12.2"
  }
 },
 "nbformat": 4,
 "nbformat_minor": 2
}
