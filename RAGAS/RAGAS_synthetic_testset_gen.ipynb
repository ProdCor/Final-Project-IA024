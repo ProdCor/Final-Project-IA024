{
 "cells": [
  {
   "cell_type": "code",
   "execution_count": 1,
   "metadata": {},
   "outputs": [
    {
     "name": "stderr",
     "output_type": "stream",
     "text": [
      "/Users/victorgmoreno/miniconda3/envs/ia024/lib/python3.12/site-packages/tqdm/auto.py:21: TqdmWarning: IProgress not found. Please update jupyter and ipywidgets. See https://ipywidgets.readthedocs.io/en/stable/user_install.html\n",
      "  from .autonotebook import tqdm as notebook_tqdm\n"
     ]
    }
   ],
   "source": [
    "import requests\n",
    "import gdown\n",
    "import tarfile\n",
    "from bs4 import BeautifulSoup\n",
    "import json\n",
    "import time\n",
    "import random\n",
    "from tqdm import tqdm\n",
    "from rich.pretty import pprint\n",
    "import os\n",
    "\n",
    "import collections\n",
    "import re\n",
    "import string\n",
    "import unicodedata\n",
    "\n",
    "from datasets import Dataset\n",
    "from langchain_groq import ChatGroq\n",
    "from langchain_community.embeddings import HuggingFaceEmbeddings\n",
    "\n",
    "from ragas.metrics import (\n",
    "    answer_relevancy,\n",
    "    faithfulness,\n",
    "    context_recall,\n",
    "    context_precision,\n",
    "    context_relevancy,\n",
    "    answer_correctness,\n",
    "    answer_similarity\n",
    ")\n",
    "\n",
    "from ragas.metrics.critique import harmfulness\n",
    "from ragas import evaluate\n",
    "\n",
    "from IPython.display import Markdown, display\n",
    "import pickle\n",
    "import pandas as pd\n",
    "\n",
    "GROQ_API_KEY = os.getenv(\"GROQ_API_KEY\")\n",
    "llm = ChatGroq(temperature=0, groq_api_key=GROQ_API_KEY, model_name=\"llama3-70b-8192\")\n",
    "embedder = HuggingFaceEmbeddings()"
   ]
  },
  {
   "cell_type": "code",
   "execution_count": 2,
   "metadata": {},
   "outputs": [
    {
     "name": "stdout",
     "output_type": "stream",
     "text": [
      "The JSON file has been converted to a UTF-8 encoded text file.\n"
     ]
    }
   ],
   "source": [
    "import json\n",
    "\n",
    "# Step 1: Load the JSON data from a file\n",
    "with open(\"../input/Raw Text/Legislation/output_legislation_2.json\", 'r', encoding='utf-8') as file:\n",
    "    data = json.load(file)\n",
    "\n",
    "# Step 2: Convert the JSON object to a string\n",
    "json_string = json.dumps(data, indent=4)  # `indent=4` for pretty printing\n",
    "\n",
    "# Step 3: Write the string to a text file with UTF-8 encoding\n",
    "with open('../input/Raw Text/Legislation/output_legislation_2.txt', 'w', encoding='utf-8') as file:\n",
    "    file.write(json_string)\n",
    "\n",
    "print(\"The JSON file has been converted to a UTF-8 encoded text file.\")\n"
   ]
  },
  {
   "cell_type": "code",
   "execution_count": 3,
   "metadata": {},
   "outputs": [
    {
     "data": {
      "text/plain": [
       "'Deliberação CAD-A-008/2024, de 07/05/2024 \\r\\n         \\r\\n             \\r\\n                 \\r\\n                                     \\r\\n             \\r\\n            \\r\\n           \\r\\n             \\r\\n                 \\r\\n                     Reitor: Antonio José de Almeida Meirelles \\r\\n\\r\\n                         \\r\\n                             Secretaria Geral:Ângela de Noronha Bignami \\t\\t\\t\\t\\r\\n                                         \\r\\n                 \\r\\n                     \\r\\n                 \\r\\n             \\r\\n             \\r\\n\\r\\n                 \\r\\n                    \\r\\n                                             Altera o Anexo II da  Deliberação CONSU-A-016/2019  que dispõe sobre a Tabela de Gratificações de Representação. \\r\\n                           O Reitor da Universidade Estadual de Campinas, na qualidade de Presidente da Câmara de Administração, tendo em vista o decidido em sua 399ª Sessão Ordinária, realizada em 07.05.2024, considerando a aprovação na Câmara de Administração das certificações dos órgãos da Universidade (PROEC, COCEN, SEC, AEPLAN, GR, HIDS, PRP, CENAPAD, LACTAD, PE², EDUCORP, DERI, SIARQ) e o quadro atual de gratificações, baixa a seguinte Deliberação: Artigo 1º  - Ficam alterados no Anexo II da  Deliberação CONSU-A-016/2019  os quantitativos referente às seguintes funções gratificadas, consolidadas no Anexo I desta Deliberação: I  – Acréscimo de 3 (três) gratificações de Assessor Docente de Gabinete – Grupo 06; II  – Acréscimo de 3 (três) gratificações de Assessor de Gabinete – Grupo 07; III  – Acréscimo de 01 (uma) gratificação de Diretor de Ensino – Grupo 8; IV  – Acréscimo de 02 (duas) gratificação de Coordenador de Divisão – Grupo 08;\\xa0 V  – Acréscimo de 3 (três) gratificações de Coordenador Adjunto – Grupo 09; VI  – Acréscimo de 3 (três) gratificações de Coordenador de Serviço – Grupo 09; \\xa0 VII  – Acréscimo de 3 (três) gratificações de Assistente Técnico – Grupo 09; VIII  – Acréscimo de 1 (uma) gratificações de Assistente Técnico de Apoio à Pesquisa – Grupo 11; IX  – Redução de 01 (uma) gratificação de Supervisor de Seção – Grupo 11; X  – Acréscimo de 17 (dezessete) gratificações de Gestor (Líder) Local de Processos/Projetos – Grupo 12. Artigo 2º  -\\xa0Esta Deliberação entra em vigor na data de sua publicação, revogadas as disposições em contrário. (Proc. nº 01-P-18408/2017) \\xa0 \\xa0 \\xa0 ANEXO I \\xa0 Altera o Anexo II da  Deliberação CONSU-A-016/2019 GRATIFICAÇÕES DE REPRESENTAÇÃO – QUANTIDADES E VALORES CORRESPONDENTES \\xa0 \\xa0 Grupo \\xa0 Função Gratificada \\xa0 Valor (R$) \\xa0 Percentual* \\xa0 Número máximo 06 Assessor Docente de Gabinete 4.779,36 765,567% 31 07 Assessor de Gabinete 4.344,83 695,964% 27 08 Diretor de Ensino 3.801,74 608,970% \\xa0 \\xa0 \\xa0 \\xa03 08 Coordenador de Divisão 3.801,74 608,970% 65 09 Assistente Técnico 2.932,74 469,772% 132 09 Coordenador de Serviço 2.932,74 469,772% 292 09 Coordenador Adjunto 2.932,74 469,772% \\xa0 \\xa0 \\xa0 \\xa05 11 Assistente Técnico de Apoio à Pesquisa 1.737,94 278,387% 25 11 Supervisor de Seção 1.737,94 278,387% 448 12 Gestor (Líder) Local de Processos/Projetos 1.324,15 212,105% 26 (*) Índice baseado na Resolução Cruesp nº 02/2023\\xa0 (valor base = R$ 624,29) \\t\\r\\n                         Publicada no D.O.E. em 13/05/2024. Caderno Executivo, Seção Atos Normativos.'"
      ]
     },
     "execution_count": 3,
     "metadata": {},
     "output_type": "execute_result"
    }
   ],
   "source": [
    "# Step 1: Load the JSON data from a file\n",
    "with open(\"../input/Raw Text/Norms/output_prof3_v11_2.json\", 'r', encoding='utf-8') as file:\n",
    "    test = json.load(file)\n",
    "\n",
    "test['Deliberação CAD-A-008/2024']\n",
    "#Deliberação CAD-A-008/2024"
   ]
  },
  {
   "cell_type": "code",
   "execution_count": 4,
   "metadata": {},
   "outputs": [],
   "source": [
    "from langchain_community.document_loaders import DirectoryLoader\n",
    "loader = DirectoryLoader(\"../input/test/\")\n",
    "documents = loader.load()"
   ]
  },
  {
   "cell_type": "code",
   "execution_count": 11,
   "metadata": {},
   "outputs": [],
   "source": [
    "for document in documents[0:3]:\n",
    "    document.metadata['filename'] = document.metadata['source']"
   ]
  },
  {
   "cell_type": "code",
   "execution_count": 12,
   "metadata": {},
   "outputs": [
    {
     "name": "stderr",
     "output_type": "stream",
     "text": [
      "Exception in thread Thread-7:                                       \n",
      "Traceback (most recent call last):\n",
      "  File \"/Users/victorgmoreno/miniconda3/envs/ia024/lib/python3.12/threading.py\", line 1073, in _bootstrap_inner\n",
      "    self.run()\n",
      "  File \"/Users/victorgmoreno/miniconda3/envs/ia024/lib/python3.12/site-packages/ragas/executor.py\", line 95, in run\n",
      "    results = self.loop.run_until_complete(self._aresults())\n",
      "              ^^^^^^^^^^^^^^^^^^^^^^^^^^^^^^^^^^^^^^^^^^^^^^\n",
      "  File \"/Users/victorgmoreno/miniconda3/envs/ia024/lib/python3.12/asyncio/base_events.py\", line 685, in run_until_complete\n",
      "    return future.result()\n",
      "           ^^^^^^^^^^^^^^^\n",
      "  File \"/Users/victorgmoreno/miniconda3/envs/ia024/lib/python3.12/site-packages/ragas/executor.py\", line 83, in _aresults\n",
      "    raise e\n",
      "  File \"/Users/victorgmoreno/miniconda3/envs/ia024/lib/python3.12/site-packages/ragas/executor.py\", line 78, in _aresults\n",
      "    r = await future\n",
      "        ^^^^^^^^^^^^\n",
      "  File \"/Users/victorgmoreno/miniconda3/envs/ia024/lib/python3.12/asyncio/tasks.py\", line 631, in _wait_for_one\n",
      "    return f.result()  # May raise f.exception().\n",
      "           ^^^^^^^^^^\n",
      "  File \"/Users/victorgmoreno/miniconda3/envs/ia024/lib/python3.12/site-packages/ragas/executor.py\", line 37, in sema_coro\n",
      "    return await coro\n",
      "           ^^^^^^^^^^\n",
      "  File \"/Users/victorgmoreno/miniconda3/envs/ia024/lib/python3.12/site-packages/ragas/executor.py\", line 111, in wrapped_callable_async\n",
      "    return counter, await callable(*args, **kwargs)\n",
      "                    ^^^^^^^^^^^^^^^^^^^^^^^^^^^^^^^\n",
      "  File \"/Users/victorgmoreno/miniconda3/envs/ia024/lib/python3.12/site-packages/ragas/testset/extractor.py\", line 49, in extract\n",
      "    results = await self.llm.generate(prompt=prompt, is_async=is_async)\n",
      "              ^^^^^^^^^^^^^^^^^^^^^^^^^^^^^^^^^^^^^^^^^^^^^^^^^^^^^^^^^\n",
      "  File \"/Users/victorgmoreno/miniconda3/envs/ia024/lib/python3.12/site-packages/ragas/llms/base.py\", line 93, in generate\n",
      "    return await agenerate_text_with_retry(\n",
      "           ^^^^^^^^^^^^^^^^^^^^^^^^^^^^^^^^\n",
      "  File \"/Users/victorgmoreno/miniconda3/envs/ia024/lib/python3.12/site-packages/tenacity/_asyncio.py\", line 142, in async_wrapped\n",
      "    return await fn(*args, **kwargs)\n",
      "           ^^^^^^^^^^^^^^^^^^^^^^^^^\n",
      "  File \"/Users/victorgmoreno/miniconda3/envs/ia024/lib/python3.12/site-packages/tenacity/_asyncio.py\", line 58, in __call__\n",
      "    do = await self.iter(retry_state=retry_state)\n",
      "         ^^^^^^^^^^^^^^^^^^^^^^^^^^^^^^^^^^^^^^^^\n",
      "  File \"/Users/victorgmoreno/miniconda3/envs/ia024/lib/python3.12/site-packages/tenacity/_asyncio.py\", line 110, in iter\n",
      "    result = await action(retry_state)\n",
      "             ^^^^^^^^^^^^^^^^^^^^^^^^^\n",
      "  File \"/Users/victorgmoreno/miniconda3/envs/ia024/lib/python3.12/site-packages/tenacity/_asyncio.py\", line 78, in inner\n",
      "    return fn(*args, **kwargs)\n",
      "           ^^^^^^^^^^^^^^^^^^^\n",
      "  File \"/Users/victorgmoreno/miniconda3/envs/ia024/lib/python3.12/site-packages/tenacity/__init__.py\", line 410, in exc_check\n",
      "    raise retry_exc.reraise()\n",
      "          ^^^^^^^^^^^^^^^^^^^\n",
      "  File \"/Users/victorgmoreno/miniconda3/envs/ia024/lib/python3.12/site-packages/tenacity/__init__.py\", line 183, in reraise\n",
      "    raise self.last_attempt.result()\n",
      "          ^^^^^^^^^^^^^^^^^^^^^^^^^^\n",
      "  File \"/Users/victorgmoreno/miniconda3/envs/ia024/lib/python3.12/concurrent/futures/_base.py\", line 449, in result\n",
      "    return self.__get_result()\n",
      "           ^^^^^^^^^^^^^^^^^^^\n",
      "  File \"/Users/victorgmoreno/miniconda3/envs/ia024/lib/python3.12/concurrent/futures/_base.py\", line 401, in __get_result\n",
      "    raise self._exception\n",
      "  File \"/Users/victorgmoreno/miniconda3/envs/ia024/lib/python3.12/site-packages/tenacity/_asyncio.py\", line 61, in __call__\n",
      "    result = await fn(*args, **kwargs)\n",
      "             ^^^^^^^^^^^^^^^^^^^^^^^^^\n",
      "  File \"/Users/victorgmoreno/miniconda3/envs/ia024/lib/python3.12/site-packages/ragas/llms/base.py\", line 178, in agenerate_text\n",
      "    result = await self.langchain_llm.agenerate_prompt(\n",
      "             ^^^^^^^^^^^^^^^^^^^^^^^^^^^^^^^^^^^^^^^^^^\n",
      "  File \"/Users/victorgmoreno/miniconda3/envs/ia024/lib/python3.12/site-packages/langchain_core/language_models/chat_models.py\", line 609, in agenerate_prompt\n",
      "    return await self.agenerate(\n",
      "           ^^^^^^^^^^^^^^^^^^^^^\n",
      "  File \"/Users/victorgmoreno/miniconda3/envs/ia024/lib/python3.12/site-packages/langchain_core/language_models/chat_models.py\", line 569, in agenerate\n",
      "    raise exceptions[0]\n",
      "  File \"/Users/victorgmoreno/miniconda3/envs/ia024/lib/python3.12/site-packages/langchain_core/language_models/chat_models.py\", line 754, in _agenerate_with_cache\n",
      "    result = await self._agenerate(\n",
      "             ^^^^^^^^^^^^^^^^^^^^^^\n",
      "  File \"/Users/victorgmoreno/miniconda3/envs/ia024/lib/python3.12/site-packages/langchain_groq/chat_models.py\", line 271, in _agenerate\n",
      "    response = await self.async_client.create(messages=message_dicts, **params)\n",
      "               ^^^^^^^^^^^^^^^^^^^^^^^^^^^^^^^^^^^^^^^^^^^^^^^^^^^^^^^^^^^^^^^^\n",
      "  File \"/Users/victorgmoreno/miniconda3/envs/ia024/lib/python3.12/site-packages/groq/resources/chat/completions.py\", line 357, in create\n",
      "    return await self._post(\n",
      "           ^^^^^^^^^^^^^^^^^\n",
      "  File \"/Users/victorgmoreno/miniconda3/envs/ia024/lib/python3.12/site-packages/groq/_base_client.py\", line 1711, in post\n",
      "    return await self.request(cast_to, opts, stream=stream, stream_cls=stream_cls)\n",
      "           ^^^^^^^^^^^^^^^^^^^^^^^^^^^^^^^^^^^^^^^^^^^^^^^^^^^^^^^^^^^^^^^^^^^^^^^\n",
      "  File \"/Users/victorgmoreno/miniconda3/envs/ia024/lib/python3.12/site-packages/groq/_base_client.py\", line 1427, in request\n",
      "    return await self._request(\n",
      "           ^^^^^^^^^^^^^^^^^^^^\n",
      "  File \"/Users/victorgmoreno/miniconda3/envs/ia024/lib/python3.12/site-packages/groq/_base_client.py\", line 1518, in _request\n",
      "    raise self._make_status_error_from_response(err.response) from None\n",
      "groq.RateLimitError: Error code: 429 - {'error': {'message': 'Rate limit reached for model `llama3-70b-8192` in organization `org_01hwkggwpcfeb9bewwt5f0raqx` on tokens per minute (TPM): Limit 6000, Used 14993, Requested 788. Please try again in 1m37.817s. Visit https://console.groq.com/docs/rate-limits for more information.', 'type': 'tokens', 'code': 'rate_limit_exceeded'}}\n"
     ]
    },
    {
     "ename": "ExceptionInRunner",
     "evalue": "The runner thread which was running the jobs raised an exeception. Read the traceback above to debug it. You can also pass `raise_exceptions=False` incase you want to show only a warning message instead.",
     "output_type": "error",
     "traceback": [
      "\u001b[0;31m---------------------------------------------------------------------------\u001b[0m",
      "\u001b[0;31mExceptionInRunner\u001b[0m                         Traceback (most recent call last)",
      "Cell \u001b[0;32mIn[12], line 18\u001b[0m\n\u001b[1;32m     11\u001b[0m generator \u001b[38;5;241m=\u001b[39m TestsetGenerator\u001b[38;5;241m.\u001b[39mfrom_langchain(\n\u001b[1;32m     12\u001b[0m     generator_llm,\n\u001b[1;32m     13\u001b[0m     critic_llm,\n\u001b[1;32m     14\u001b[0m     embeddings\n\u001b[1;32m     15\u001b[0m )\n\u001b[1;32m     17\u001b[0m \u001b[38;5;66;03m# generate testset\u001b[39;00m\n\u001b[0;32m---> 18\u001b[0m testset \u001b[38;5;241m=\u001b[39m \u001b[43mgenerator\u001b[49m\u001b[38;5;241;43m.\u001b[39;49m\u001b[43mgenerate_with_langchain_docs\u001b[49m\u001b[43m(\u001b[49m\u001b[43mdocuments\u001b[49m\u001b[43m[\u001b[49m\u001b[38;5;241;43m0\u001b[39;49m\u001b[43m:\u001b[49m\u001b[38;5;241;43m3\u001b[39;49m\u001b[43m]\u001b[49m\u001b[43m,\u001b[49m\u001b[43m \u001b[49m\u001b[43mtest_size\u001b[49m\u001b[38;5;241;43m=\u001b[39;49m\u001b[38;5;241;43m1\u001b[39;49m\u001b[43m,\u001b[49m\u001b[43m \u001b[49m\u001b[43mdistributions\u001b[49m\u001b[38;5;241;43m=\u001b[39;49m\u001b[43m{\u001b[49m\u001b[43msimple\u001b[49m\u001b[43m:\u001b[49m\u001b[43m \u001b[49m\u001b[38;5;241;43m0.5\u001b[39;49m\u001b[43m,\u001b[49m\u001b[43m \u001b[49m\u001b[43mreasoning\u001b[49m\u001b[43m:\u001b[49m\u001b[43m \u001b[49m\u001b[38;5;241;43m0.25\u001b[39;49m\u001b[43m,\u001b[49m\u001b[43m \u001b[49m\u001b[43mmulti_context\u001b[49m\u001b[43m:\u001b[49m\u001b[43m \u001b[49m\u001b[38;5;241;43m0.25\u001b[39;49m\u001b[43m}\u001b[49m\u001b[43m)\u001b[49m\n",
      "File \u001b[0;32m~/miniconda3/envs/ia024/lib/python3.12/site-packages/ragas/testset/generator.py:206\u001b[0m, in \u001b[0;36mTestsetGenerator.generate_with_langchain_docs\u001b[0;34m(self, documents, test_size, distributions, with_debugging_logs, is_async, raise_exceptions, run_config)\u001b[0m\n\u001b[1;32m    204\u001b[0m distributions \u001b[38;5;241m=\u001b[39m distributions \u001b[38;5;129;01mor\u001b[39;00m {}\n\u001b[1;32m    205\u001b[0m \u001b[38;5;66;03m# chunk documents and add to docstore\u001b[39;00m\n\u001b[0;32m--> 206\u001b[0m \u001b[38;5;28;43mself\u001b[39;49m\u001b[38;5;241;43m.\u001b[39;49m\u001b[43mdocstore\u001b[49m\u001b[38;5;241;43m.\u001b[39;49m\u001b[43madd_documents\u001b[49m\u001b[43m(\u001b[49m\n\u001b[1;32m    207\u001b[0m \u001b[43m    \u001b[49m\u001b[43m[\u001b[49m\u001b[43mDocument\u001b[49m\u001b[38;5;241;43m.\u001b[39;49m\u001b[43mfrom_langchain_document\u001b[49m\u001b[43m(\u001b[49m\u001b[43mdoc\u001b[49m\u001b[43m)\u001b[49m\u001b[43m \u001b[49m\u001b[38;5;28;43;01mfor\u001b[39;49;00m\u001b[43m \u001b[49m\u001b[43mdoc\u001b[49m\u001b[43m \u001b[49m\u001b[38;5;129;43;01min\u001b[39;49;00m\u001b[43m \u001b[49m\u001b[43mdocuments\u001b[49m\u001b[43m]\u001b[49m\n\u001b[1;32m    208\u001b[0m \u001b[43m\u001b[49m\u001b[43m)\u001b[49m\n\u001b[1;32m    210\u001b[0m \u001b[38;5;28;01mreturn\u001b[39;00m \u001b[38;5;28mself\u001b[39m\u001b[38;5;241m.\u001b[39mgenerate(\n\u001b[1;32m    211\u001b[0m     test_size\u001b[38;5;241m=\u001b[39mtest_size,\n\u001b[1;32m    212\u001b[0m     distributions\u001b[38;5;241m=\u001b[39mdistributions,\n\u001b[0;32m   (...)\u001b[0m\n\u001b[1;32m    216\u001b[0m     run_config\u001b[38;5;241m=\u001b[39mrun_config,\n\u001b[1;32m    217\u001b[0m )\n",
      "File \u001b[0;32m~/miniconda3/envs/ia024/lib/python3.12/site-packages/ragas/testset/docstore.py:215\u001b[0m, in \u001b[0;36mInMemoryDocumentStore.add_documents\u001b[0;34m(self, docs, show_progress)\u001b[0m\n\u001b[1;32m    210\u001b[0m \u001b[38;5;66;03m# split documents with self.splitter into smaller nodes\u001b[39;00m\n\u001b[1;32m    211\u001b[0m nodes \u001b[38;5;241m=\u001b[39m [\n\u001b[1;32m    212\u001b[0m     Node\u001b[38;5;241m.\u001b[39mfrom_langchain_document(d)\n\u001b[1;32m    213\u001b[0m     \u001b[38;5;28;01mfor\u001b[39;00m d \u001b[38;5;129;01min\u001b[39;00m \u001b[38;5;28mself\u001b[39m\u001b[38;5;241m.\u001b[39msplitter\u001b[38;5;241m.\u001b[39mtransform_documents(docs)\n\u001b[1;32m    214\u001b[0m ]\n\u001b[0;32m--> 215\u001b[0m \u001b[38;5;28;43mself\u001b[39;49m\u001b[38;5;241;43m.\u001b[39;49m\u001b[43madd_nodes\u001b[49m\u001b[43m(\u001b[49m\u001b[43mnodes\u001b[49m\u001b[43m,\u001b[49m\u001b[43m \u001b[49m\u001b[43mshow_progress\u001b[49m\u001b[38;5;241;43m=\u001b[39;49m\u001b[43mshow_progress\u001b[49m\u001b[43m)\u001b[49m\n",
      "File \u001b[0;32m~/miniconda3/envs/ia024/lib/python3.12/site-packages/ragas/testset/docstore.py:254\u001b[0m, in \u001b[0;36mInMemoryDocumentStore.add_nodes\u001b[0;34m(self, nodes, show_progress)\u001b[0m\n\u001b[1;32m    252\u001b[0m results \u001b[38;5;241m=\u001b[39m executor\u001b[38;5;241m.\u001b[39mresults()\n\u001b[1;32m    253\u001b[0m \u001b[38;5;28;01mif\u001b[39;00m \u001b[38;5;129;01mnot\u001b[39;00m results:\n\u001b[0;32m--> 254\u001b[0m     \u001b[38;5;28;01mraise\u001b[39;00m ExceptionInRunner()\n\u001b[1;32m    256\u001b[0m \u001b[38;5;28;01mfor\u001b[39;00m i, n \u001b[38;5;129;01min\u001b[39;00m \u001b[38;5;28menumerate\u001b[39m(nodes):\n\u001b[1;32m    257\u001b[0m     \u001b[38;5;28;01mif\u001b[39;00m i \u001b[38;5;129;01min\u001b[39;00m nodes_to_embed\u001b[38;5;241m.\u001b[39mkeys():\n",
      "\u001b[0;31mExceptionInRunner\u001b[0m: The runner thread which was running the jobs raised an exeception. Read the traceback above to debug it. You can also pass `raise_exceptions=False` incase you want to show only a warning message instead."
     ]
    }
   ],
   "source": [
    "from ragas.testset.generator import TestsetGenerator\n",
    "from ragas.testset.evolutions import simple, reasoning, multi_context\n",
    "from langchain_openai import ChatOpenAI, OpenAIEmbeddings\n",
    "\n",
    "# generator with openai models\n",
    "generator_llm = ChatGroq(temperature=0, groq_api_key=GROQ_API_KEY, model_name=\"llama3-70b-8192\")\n",
    "critic_llm = ChatGroq(temperature=0, groq_api_key=GROQ_API_KEY, model_name=\"llama3-70b-8192\")\n",
    "embeddings = HuggingFaceEmbeddings()\n",
    "\n",
    "\n",
    "generator = TestsetGenerator.from_langchain(\n",
    "    generator_llm,\n",
    "    critic_llm,\n",
    "    embeddings\n",
    ")\n",
    "\n",
    "# generate testset\n",
    "testset = generator.generate_with_langchain_docs(documents[0:3], test_size=1, distributions={simple: 0.5, reasoning: 0.25, multi_context: 0.25})"
   ]
  },
  {
   "cell_type": "code",
   "execution_count": 15,
   "metadata": {},
   "outputs": [
    {
     "data": {
      "text/html": [
       "<div>\n",
       "<style scoped>\n",
       "    .dataframe tbody tr th:only-of-type {\n",
       "        vertical-align: middle;\n",
       "    }\n",
       "\n",
       "    .dataframe tbody tr th {\n",
       "        vertical-align: top;\n",
       "    }\n",
       "\n",
       "    .dataframe thead th {\n",
       "        text-align: right;\n",
       "    }\n",
       "</style>\n",
       "<table border=\"1\" class=\"dataframe\">\n",
       "  <thead>\n",
       "    <tr style=\"text-align: right;\">\n",
       "      <th></th>\n",
       "      <th>question</th>\n",
       "      <th>contexts</th>\n",
       "      <th>ground_truth</th>\n",
       "      <th>evolution_type</th>\n",
       "      <th>metadata</th>\n",
       "      <th>episode_done</th>\n",
       "    </tr>\n",
       "  </thead>\n",
       "  <tbody>\n",
       "    <tr>\n",
       "      <th>0</th>\n",
       "      <td>Here is a rewritten question that conveys the ...</td>\n",
       "      <td>[{\\n\\n'Deliberação CAD-A-008/2024, de 07/05/20...</td>\n",
       "      <td>According to Deliberação CAD-A-008/2024, the g...</td>\n",
       "      <td>reasoning</td>\n",
       "      <td>[{'source': '../input/test/sampledata.txt', 'f...</td>\n",
       "      <td>True</td>\n",
       "    </tr>\n",
       "  </tbody>\n",
       "</table>\n",
       "</div>"
      ],
      "text/plain": [
       "                                            question  \\\n",
       "0  Here is a rewritten question that conveys the ...   \n",
       "\n",
       "                                            contexts  \\\n",
       "0  [{\\n\\n'Deliberação CAD-A-008/2024, de 07/05/20...   \n",
       "\n",
       "                                        ground_truth evolution_type  \\\n",
       "0  According to Deliberação CAD-A-008/2024, the g...      reasoning   \n",
       "\n",
       "                                            metadata  episode_done  \n",
       "0  [{'source': '../input/test/sampledata.txt', 'f...          True  "
      ]
     },
     "execution_count": 15,
     "metadata": {},
     "output_type": "execute_result"
    }
   ],
   "source": [
    "df = testset.to_pandas()\n",
    "df"
   ]
  },
  {
   "cell_type": "code",
   "execution_count": 18,
   "metadata": {},
   "outputs": [
    {
     "data": {
      "text/plain": [
       "'Here is a rewritten question that conveys the same meaning in a less direct and shorter manner:\\n\\noutput: \"Which groups got more representation allowances in CAD-A-008/2024?'"
      ]
     },
     "execution_count": 18,
     "metadata": {},
     "output_type": "execute_result"
    }
   ],
   "source": [
    "df['question'][0]"
   ]
  },
  {
   "cell_type": "code",
   "execution_count": 17,
   "metadata": {},
   "outputs": [
    {
     "data": {
      "text/plain": [
       "'According to Deliberação CAD-A-008/2024, the groups that got more representation allowances are: Grupo 06 (Assessor Docente de Gabinete), Grupo 07 (Assessor de Gabinete), Grupo 08 (Diretor de Ensino and Coordenador de Divisão), Grupo 09 (Coordenador Adjunto, Coordenador de Serviço, and Assistente Técnico), Grupo 11 (Assistente Técnico de Apoio à Pesquisa), and Grupo 12 (Gestor (Líder) Local de Processos/Projetos).'"
      ]
     },
     "execution_count": 17,
     "metadata": {},
     "output_type": "execute_result"
    }
   ],
   "source": [
    "df['ground_truth'][0]"
   ]
  }
 ],
 "metadata": {
  "kernelspec": {
   "display_name": "ia024_kernel",
   "language": "python",
   "name": "ia024_kernel"
  },
  "language_info": {
   "codemirror_mode": {
    "name": "ipython",
    "version": 3
   },
   "file_extension": ".py",
   "mimetype": "text/x-python",
   "name": "python",
   "nbconvert_exporter": "python",
   "pygments_lexer": "ipython3",
   "version": "3.12.2"
  }
 },
 "nbformat": 4,
 "nbformat_minor": 2
}
