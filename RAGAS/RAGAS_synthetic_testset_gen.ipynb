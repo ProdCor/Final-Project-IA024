{
 "cells": [
  {
   "cell_type": "code",
   "execution_count": 1,
   "metadata": {},
   "outputs": [
    {
     "name": "stderr",
     "output_type": "stream",
     "text": [
      "/Users/victorgmoreno/miniconda3/envs/ia024/lib/python3.12/site-packages/tqdm/auto.py:21: TqdmWarning: IProgress not found. Please update jupyter and ipywidgets. See https://ipywidgets.readthedocs.io/en/stable/user_install.html\n",
      "  from .autonotebook import tqdm as notebook_tqdm\n"
     ]
    }
   ],
   "source": [
    "import requests\n",
    "import gdown\n",
    "import tarfile\n",
    "from bs4 import BeautifulSoup\n",
    "import json\n",
    "import time\n",
    "import random\n",
    "from tqdm import tqdm\n",
    "from rich.pretty import pprint\n",
    "import os\n",
    "\n",
    "import collections\n",
    "import re\n",
    "import string\n",
    "import unicodedata\n",
    "\n",
    "from datasets import Dataset\n",
    "from langchain_groq import ChatGroq\n",
    "from langchain_community.embeddings import HuggingFaceEmbeddings\n",
    "\n",
    "from ragas.metrics import (\n",
    "    answer_relevancy,\n",
    "    faithfulness,\n",
    "    context_recall,\n",
    "    context_precision,\n",
    "    context_relevancy,\n",
    "    answer_correctness,\n",
    "    answer_similarity\n",
    ")\n",
    "\n",
    "from ragas.metrics.critique import harmfulness\n",
    "from ragas import evaluate\n",
    "\n",
    "from IPython.display import Markdown, display\n",
    "import pickle\n",
    "import pandas as pd\n",
    "\n",
    "GROQ_API_KEY = os.getenv(\"GROQ_API_KEY\")\n",
    "llm = ChatGroq(temperature=0, groq_api_key=GROQ_API_KEY, model_name=\"llama3-70b-8192\")\n",
    "embedder = HuggingFaceEmbeddings()"
   ]
  },
  {
   "cell_type": "code",
   "execution_count": 2,
   "metadata": {},
   "outputs": [
    {
     "name": "stdout",
     "output_type": "stream",
     "text": [
      "The JSON file has been converted to a UTF-8 encoded text file.\n"
     ]
    }
   ],
   "source": [
    "import json\n",
    "\n",
    "# Step 1: Load the JSON data from a file\n",
    "with open(\"../input/Raw Text/Legislation/output_legislation_2.json\", 'r', encoding='utf-8') as file:\n",
    "    data = json.load(file)\n",
    "\n",
    "# Step 2: Convert the JSON object to a string\n",
    "json_string = json.dumps(data, indent=4)  # `indent=4` for pretty printing\n",
    "\n",
    "# Step 3: Write the string to a text file with UTF-8 encoding\n",
    "with open('../input/Raw Text/Legislation/output_legislation_2.txt', 'w', encoding='utf-8') as file:\n",
    "    file.write(json_string)\n",
    "\n",
    "print(\"The JSON file has been converted to a UTF-8 encoded text file.\")\n"
   ]
  },
  {
   "cell_type": "code",
   "execution_count": 3,
   "metadata": {},
   "outputs": [
    {
     "data": {
      "text/plain": [
       "'Deliberação CAD-A-008/2024, de 07/05/2024 \\r\\n         \\r\\n             \\r\\n                 \\r\\n                                     \\r\\n             \\r\\n            \\r\\n           \\r\\n             \\r\\n                 \\r\\n                     Reitor: Antonio José de Almeida Meirelles \\r\\n\\r\\n                         \\r\\n                             Secretaria Geral:Ângela de Noronha Bignami \\t\\t\\t\\t\\r\\n                                         \\r\\n                 \\r\\n                     \\r\\n                 \\r\\n             \\r\\n             \\r\\n\\r\\n                 \\r\\n                    \\r\\n                                             Altera o Anexo II da  Deliberação CONSU-A-016/2019  que dispõe sobre a Tabela de Gratificações de Representação. \\r\\n                           O Reitor da Universidade Estadual de Campinas, na qualidade de Presidente da Câmara de Administração, tendo em vista o decidido em sua 399ª Sessão Ordinária, realizada em 07.05.2024, considerando a aprovação na Câmara de Administração das certificações dos órgãos da Universidade (PROEC, COCEN, SEC, AEPLAN, GR, HIDS, PRP, CENAPAD, LACTAD, PE², EDUCORP, DERI, SIARQ) e o quadro atual de gratificações, baixa a seguinte Deliberação: Artigo 1º  - Ficam alterados no Anexo II da  Deliberação CONSU-A-016/2019  os quantitativos referente às seguintes funções gratificadas, consolidadas no Anexo I desta Deliberação: I  – Acréscimo de 3 (três) gratificações de Assessor Docente de Gabinete – Grupo 06; II  – Acréscimo de 3 (três) gratificações de Assessor de Gabinete – Grupo 07; III  – Acréscimo de 01 (uma) gratificação de Diretor de Ensino – Grupo 8; IV  – Acréscimo de 02 (duas) gratificação de Coordenador de Divisão – Grupo 08;\\xa0 V  – Acréscimo de 3 (três) gratificações de Coordenador Adjunto – Grupo 09; VI  – Acréscimo de 3 (três) gratificações de Coordenador de Serviço – Grupo 09; \\xa0 VII  – Acréscimo de 3 (três) gratificações de Assistente Técnico – Grupo 09; VIII  – Acréscimo de 1 (uma) gratificações de Assistente Técnico de Apoio à Pesquisa – Grupo 11; IX  – Redução de 01 (uma) gratificação de Supervisor de Seção – Grupo 11; X  – Acréscimo de 17 (dezessete) gratificações de Gestor (Líder) Local de Processos/Projetos – Grupo 12. Artigo 2º  -\\xa0Esta Deliberação entra em vigor na data de sua publicação, revogadas as disposições em contrário. (Proc. nº 01-P-18408/2017) \\xa0 \\xa0 \\xa0 ANEXO I \\xa0 Altera o Anexo II da  Deliberação CONSU-A-016/2019 GRATIFICAÇÕES DE REPRESENTAÇÃO – QUANTIDADES E VALORES CORRESPONDENTES \\xa0 \\xa0 Grupo \\xa0 Função Gratificada \\xa0 Valor (R$) \\xa0 Percentual* \\xa0 Número máximo 06 Assessor Docente de Gabinete 4.779,36 765,567% 31 07 Assessor de Gabinete 4.344,83 695,964% 27 08 Diretor de Ensino 3.801,74 608,970% \\xa0 \\xa0 \\xa0 \\xa03 08 Coordenador de Divisão 3.801,74 608,970% 65 09 Assistente Técnico 2.932,74 469,772% 132 09 Coordenador de Serviço 2.932,74 469,772% 292 09 Coordenador Adjunto 2.932,74 469,772% \\xa0 \\xa0 \\xa0 \\xa05 11 Assistente Técnico de Apoio à Pesquisa 1.737,94 278,387% 25 11 Supervisor de Seção 1.737,94 278,387% 448 12 Gestor (Líder) Local de Processos/Projetos 1.324,15 212,105% 26 (*) Índice baseado na Resolução Cruesp nº 02/2023\\xa0 (valor base = R$ 624,29) \\t\\r\\n                         Publicada no D.O.E. em 13/05/2024. Caderno Executivo, Seção Atos Normativos.'"
      ]
     },
     "execution_count": 3,
     "metadata": {},
     "output_type": "execute_result"
    }
   ],
   "source": [
    "# Step 1: Load the JSON data from a file\n",
    "with open(\"../input/Raw Text/Norms/output_prof3_v11_2.json\", 'r', encoding='utf-8') as file:\n",
    "    test = json.load(file)\n",
    "\n",
    "test['Deliberação CAD-A-008/2024']\n",
    "#Deliberação CAD-A-008/2024"
   ]
  },
  {
   "cell_type": "code",
   "execution_count": 4,
   "metadata": {},
   "outputs": [],
   "source": [
    "from langchain_community.document_loaders import DirectoryLoader\n",
    "loader = DirectoryLoader(\"../input/test/\")\n",
    "documents = loader.load()"
   ]
  },
  {
   "cell_type": "code",
   "execution_count": 5,
   "metadata": {},
   "outputs": [],
   "source": [
    "for document in documents:\n",
    "    document.metadata['filename'] = document.metadata['source']"
   ]
  },
  {
   "cell_type": "code",
   "execution_count": 6,
   "metadata": {},
   "outputs": [
    {
     "name": "stderr",
     "output_type": "stream",
     "text": [
      "Generating: 100%|██████████| 1/1 [06:49<00:00, 409.52s/it]    \n"
     ]
    }
   ],
   "source": [
    "from ragas.testset.generator import TestsetGenerator\n",
    "from ragas.testset.evolutions import simple, reasoning, multi_context\n",
    "from langchain_openai import ChatOpenAI, OpenAIEmbeddings\n",
    "\n",
    "# generator with openai models\n",
    "generator_llm = ChatGroq(temperature=0, groq_api_key=GROQ_API_KEY, model_name=\"llama3-70b-8192\")\n",
    "critic_llm = ChatGroq(temperature=0, groq_api_key=GROQ_API_KEY, model_name=\"llama3-70b-8192\")\n",
    "embeddings = HuggingFaceEmbeddings()\n",
    "\n",
    "\n",
    "generator = TestsetGenerator.from_langchain(\n",
    "    generator_llm,\n",
    "    critic_llm,\n",
    "    embeddings\n",
    ")\n",
    "\n",
    "# generate testset\n",
    "testset = generator.generate_with_langchain_docs(documents, test_size=1, distributions={simple: 0.5, reasoning: 0.25, multi_context: 0.25})"
   ]
  },
  {
   "cell_type": "code",
   "execution_count": 15,
   "metadata": {},
   "outputs": [
    {
     "data": {
      "text/html": [
       "<div>\n",
       "<style scoped>\n",
       "    .dataframe tbody tr th:only-of-type {\n",
       "        vertical-align: middle;\n",
       "    }\n",
       "\n",
       "    .dataframe tbody tr th {\n",
       "        vertical-align: top;\n",
       "    }\n",
       "\n",
       "    .dataframe thead th {\n",
       "        text-align: right;\n",
       "    }\n",
       "</style>\n",
       "<table border=\"1\" class=\"dataframe\">\n",
       "  <thead>\n",
       "    <tr style=\"text-align: right;\">\n",
       "      <th></th>\n",
       "      <th>question</th>\n",
       "      <th>contexts</th>\n",
       "      <th>ground_truth</th>\n",
       "      <th>evolution_type</th>\n",
       "      <th>metadata</th>\n",
       "      <th>episode_done</th>\n",
       "    </tr>\n",
       "  </thead>\n",
       "  <tbody>\n",
       "    <tr>\n",
       "      <th>0</th>\n",
       "      <td>Here is a rewritten question that conveys the ...</td>\n",
       "      <td>[{\\n\\n'Deliberação CAD-A-008/2024, de 07/05/20...</td>\n",
       "      <td>According to Deliberação CAD-A-008/2024, the g...</td>\n",
       "      <td>reasoning</td>\n",
       "      <td>[{'source': '../input/test/sampledata.txt', 'f...</td>\n",
       "      <td>True</td>\n",
       "    </tr>\n",
       "  </tbody>\n",
       "</table>\n",
       "</div>"
      ],
      "text/plain": [
       "                                            question  \\\n",
       "0  Here is a rewritten question that conveys the ...   \n",
       "\n",
       "                                            contexts  \\\n",
       "0  [{\\n\\n'Deliberação CAD-A-008/2024, de 07/05/20...   \n",
       "\n",
       "                                        ground_truth evolution_type  \\\n",
       "0  According to Deliberação CAD-A-008/2024, the g...      reasoning   \n",
       "\n",
       "                                            metadata  episode_done  \n",
       "0  [{'source': '../input/test/sampledata.txt', 'f...          True  "
      ]
     },
     "execution_count": 15,
     "metadata": {},
     "output_type": "execute_result"
    }
   ],
   "source": [
    "df = testset.to_pandas()\n",
    "df"
   ]
  },
  {
   "cell_type": "code",
   "execution_count": 18,
   "metadata": {},
   "outputs": [
    {
     "data": {
      "text/plain": [
       "'Here is a rewritten question that conveys the same meaning in a less direct and shorter manner:\\n\\noutput: \"Which groups got more representation allowances in CAD-A-008/2024?'"
      ]
     },
     "execution_count": 18,
     "metadata": {},
     "output_type": "execute_result"
    }
   ],
   "source": [
    "df['question'][0]"
   ]
  },
  {
   "cell_type": "code",
   "execution_count": 17,
   "metadata": {},
   "outputs": [
    {
     "data": {
      "text/plain": [
       "'According to Deliberação CAD-A-008/2024, the groups that got more representation allowances are: Grupo 06 (Assessor Docente de Gabinete), Grupo 07 (Assessor de Gabinete), Grupo 08 (Diretor de Ensino and Coordenador de Divisão), Grupo 09 (Coordenador Adjunto, Coordenador de Serviço, and Assistente Técnico), Grupo 11 (Assistente Técnico de Apoio à Pesquisa), and Grupo 12 (Gestor (Líder) Local de Processos/Projetos).'"
      ]
     },
     "execution_count": 17,
     "metadata": {},
     "output_type": "execute_result"
    }
   ],
   "source": [
    "df['ground_truth'][0]"
   ]
  }
 ],
 "metadata": {
  "kernelspec": {
   "display_name": "ia024_kernel",
   "language": "python",
   "name": "ia024_kernel"
  },
  "language_info": {
   "codemirror_mode": {
    "name": "ipython",
    "version": 3
   },
   "file_extension": ".py",
   "mimetype": "text/x-python",
   "name": "python",
   "nbconvert_exporter": "python",
   "pygments_lexer": "ipython3",
   "version": "3.12.2"
  }
 },
 "nbformat": 4,
 "nbformat_minor": 2
}
