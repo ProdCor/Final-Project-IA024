{
 "cells": [
  {
   "cell_type": "code",
   "execution_count": 21,
   "metadata": {},
   "outputs": [],
   "source": [
    "import requests\n",
    "import gdown\n",
    "import tarfile\n",
    "from bs4 import BeautifulSoup\n",
    "import json\n",
    "import time\n",
    "import random\n",
    "from tqdm import tqdm\n",
    "from rich.pretty import pprint\n",
    "import os\n",
    "\n",
    "import collections\n",
    "import re\n",
    "import string\n",
    "import unicodedata\n",
    "\n",
    "from datasets import Dataset\n",
    "from langchain_groq import ChatGroq\n",
    "from langchain_community.embeddings import HuggingFaceEmbeddings\n",
    "\n",
    "from ragas.metrics import (\n",
    "    answer_relevancy,\n",
    "    faithfulness,\n",
    "    context_recall,\n",
    "    context_precision,\n",
    "    context_relevancy,\n",
    "    answer_correctness,\n",
    "    answer_similarity\n",
    ")\n",
    "\n",
    "from ragas.metrics.critique import harmfulness\n",
    "import ragas.evaluation as ragas_eval\n",
    "\n",
    "from IPython.display import Markdown, display\n",
    "import pickle\n",
    "import pandas as pd\n",
    "\n",
    "GROQ_API_KEY = os.getenv(\"GROQ_API_KEY\")\n",
    "llm = ChatGroq(temperature=0, groq_api_key=GROQ_API_KEY, model_name=\"llama3-70b-8192\")\n",
    "embedder = HuggingFaceEmbeddings()"
   ]
  },
  {
   "cell_type": "markdown",
   "metadata": {},
   "source": [
    "# 1. Dataset Format"
   ]
  },
  {
   "cell_type": "code",
   "execution_count": 22,
   "metadata": {},
   "outputs": [],
   "source": [
    "def extract_evidence_and_answer(text):\n",
    "    try:\n",
    "        # Ajustando a expressão regular para ser mais flexível com espaços e quebras de linha\n",
    "        pattern = r\"Evidence:\\s*(.*?)\\s*\\n+\\s*Answer:\\s*(.*?)(?=.', ChatCompletion)\"\n",
    "        matches = re.search(pattern, text, re.DOTALL)\n",
    "\n",
    "        if not matches:\n",
    "            # Se não encontrar, tentar uma abordagem menos específica\n",
    "            pattern_loose = r\"Evidence:\\s*(.*?)\\s*Answer:\\s*(.*)\"\n",
    "            matches = re.search(pattern_loose, text, re.DOTALL)\n",
    "            if not matches:\n",
    "                raise ValueError(\"As seções 'Evidence' e 'Answer' não puderam ser encontradas no texto fornecido.\")\n",
    "\n",
    "        evidence = matches.group(1)\n",
    "        answer = matches.group(2)\n",
    "\n",
    "        return {\n",
    "            \"evidence\": evidence.strip(),\n",
    "            \"answer\": answer.strip()\n",
    "        }\n",
    "\n",
    "    except Exception as e:\n",
    "        print(f\"Erro ao extrair os componentes: {e}\")\n",
    "        return None"
   ]
  },
  {
   "cell_type": "code",
   "execution_count": 23,
   "metadata": {},
   "outputs": [],
   "source": [
    "# opens the pickle file\n",
    "with open(\"../input/Raw Text/Rag Data Experiments/experiment_4/respostas_obtidas.pickle_9\", 'rb') as input_file:\n",
    "    # loads the pickle file into a pandas DataFrame\n",
    "    dataset = pd.read_pickle(input_file)"
   ]
  },
  {
   "cell_type": "code",
   "execution_count": 24,
   "metadata": {},
   "outputs": [
    {
     "name": "stdout",
     "output_type": "stream",
     "text": [
      "Erro ao extrair os componentes: As seções 'Evidence' e 'Answer' não puderam ser encontradas no texto fornecido.\n",
      "Erro ao extrair os componentes: As seções 'Evidence' e 'Answer' não puderam ser encontradas no texto fornecido.\n",
      "Erro ao extrair os componentes: As seções 'Evidence' e 'Answer' não puderam ser encontradas no texto fornecido.\n"
     ]
    }
   ],
   "source": [
    "# iterando sobre todos os dados do FAQ atualizado para formatá-los\n",
    "dataset_organized = []\n",
    "for sample in dataset:\n",
    "    if 'resposta_obtida' in sample and isinstance(sample['resposta_obtida'], tuple):\n",
    "        \n",
    "        text = sample['resposta_obtida'][0]  # pegando Evidence e Answer das respostas do RAG - pega so o primeiro elemento da tupla, pra nao pegar o ChatCompletion\n",
    "        extracted_data = extract_evidence_and_answer(text)  # segmentando Evidence e Answer em formato dict \n",
    "        \n",
    "        if extracted_data:\n",
    "            organized_sample = {\n",
    "                'question': sample['pergunta'],  # pergunta do FAQ\n",
    "                'ground_truths': [sample['resposta_esperada']],  # resposta esperada do FAQ\n",
    "                'answer': extracted_data['answer'],  # resposta obtida, segmentada answer\n",
    "                'contexts': [extracted_data['evidence']]\n",
    "            }\n",
    "            dataset_organized.append(organized_sample)  # novo dataset organizado"
   ]
  },
  {
   "cell_type": "code",
   "execution_count": 25,
   "metadata": {},
   "outputs": [
    {
     "name": "stdout",
     "output_type": "stream",
     "text": [
      "Dataset organizado salvo com sucesso em ../input/Raw Text/Rag Data Experiments/experiment_4/RAG_dataset_IIRCformat.json!\n"
     ]
    }
   ],
   "source": [
    "# Salvando o dataset organizado em formato JSON\n",
    "file_path = '../input/Raw Text/Rag Data Experiments/experiment_4/RAG_dataset_IIRCformat.json'\n",
    "with open(file_path, 'w', encoding='utf-8') as file:\n",
    "    json.dump(dataset_organized, file, ensure_ascii=False, indent=4)\n",
    "\n",
    "print(f'Dataset organizado salvo com sucesso em {file_path}!')"
   ]
  },
  {
   "cell_type": "markdown",
   "metadata": {},
   "source": [
    "# RAGAS Implementation"
   ]
  },
  {
   "cell_type": "code",
   "execution_count": 26,
   "metadata": {},
   "outputs": [],
   "source": [
    "from datasets import Dataset\n",
    "import time\n",
    "\n",
    "def evaluate_per_sample(dataset_organized):\n",
    "    # Cria um Dataset para uso com a biblioteca 'ragas'\n",
    "    formated_dataset = Dataset.from_list(dataset_organized)\n",
    "\n",
    "    for i, sample in enumerate(dataset_organized):\n",
    "        # Seleciona cada amostra individualmente para avaliação\n",
    "        chunk = formated_dataset.select([i])\n",
    "        \n",
    "        # Avalia a amostra com as métricas definidas\n",
    "        result = ragas_eval.evaluate(dataset=chunk, metrics=[answer_relevancy, faithfulness, context_recall, context_precision], llm=llm, embeddings=embedder)\n",
    "        \n",
    "        # Atualiza o dicionário da amostra com os resultados das métricas\n",
    "        sample.update({\n",
    "            'answer_relevancy': result['answer_relevancy'],\n",
    "            'faithfulness': result['faithfulness'],\n",
    "            'context_recall': result['context_recall'],\n",
    "            'context_precision': result['context_precision']\n",
    "        })\n",
    "        \n",
    "        print(f\"Evaluating sample {i + 1}/{len(dataset_organized)}: {result}\")\n",
    "        time.sleep(60)  # Sleep 60 seconds after each sample evaluation to avoid overloading the system\n",
    "\n",
    "    return dataset_organized"
   ]
  },
  {
   "cell_type": "code",
   "execution_count": 27,
   "metadata": {},
   "outputs": [
    {
     "name": "stderr",
     "output_type": "stream",
     "text": [
      "passing column names as 'ground_truths' is deprecated and will be removed in the next version, please use 'ground_truth' instead. Note that `ground_truth` should be of type string and not Sequence[string] like `ground_truths`\n",
      "Evaluating: 100%|██████████| 4/4 [00:15<00:00,  3.82s/it]\n"
     ]
    },
    {
     "name": "stdout",
     "output_type": "stream",
     "text": [
      "Evaluating sample 1/37: {'answer_relevancy': 0.4912, 'faithfulness': 1.0000, 'context_recall': 1.0000, 'context_precision': 1.0000}\n"
     ]
    },
    {
     "name": "stderr",
     "output_type": "stream",
     "text": [
      "passing column names as 'ground_truths' is deprecated and will be removed in the next version, please use 'ground_truth' instead. Note that `ground_truth` should be of type string and not Sequence[string] like `ground_truths`\n",
      "Evaluating: 100%|██████████| 4/4 [00:41<00:00, 10.28s/it]\n"
     ]
    },
    {
     "name": "stdout",
     "output_type": "stream",
     "text": [
      "Evaluating sample 2/37: {'answer_relevancy': 0.5059, 'faithfulness': 1.0000, 'context_recall': 1.0000, 'context_precision': 1.0000}\n"
     ]
    },
    {
     "name": "stderr",
     "output_type": "stream",
     "text": [
      "passing column names as 'ground_truths' is deprecated and will be removed in the next version, please use 'ground_truth' instead. Note that `ground_truth` should be of type string and not Sequence[string] like `ground_truths`\n",
      "Evaluating: 100%|██████████| 4/4 [00:03<00:00,  1.29it/s]\n"
     ]
    },
    {
     "name": "stdout",
     "output_type": "stream",
     "text": [
      "Evaluating sample 3/37: {'answer_relevancy': 0.2579, 'faithfulness': 1.0000, 'context_recall': 0.1250, 'context_precision': 1.0000}\n"
     ]
    },
    {
     "name": "stderr",
     "output_type": "stream",
     "text": [
      "passing column names as 'ground_truths' is deprecated and will be removed in the next version, please use 'ground_truth' instead. Note that `ground_truth` should be of type string and not Sequence[string] like `ground_truths`\n",
      "Evaluating: 100%|██████████| 4/4 [00:02<00:00,  1.84it/s]\n"
     ]
    },
    {
     "name": "stdout",
     "output_type": "stream",
     "text": [
      "Evaluating sample 4/37: {'answer_relevancy': 0.8210, 'faithfulness': 1.0000, 'context_recall': 0.3333, 'context_precision': 1.0000}\n"
     ]
    },
    {
     "name": "stderr",
     "output_type": "stream",
     "text": [
      "passing column names as 'ground_truths' is deprecated and will be removed in the next version, please use 'ground_truth' instead. Note that `ground_truth` should be of type string and not Sequence[string] like `ground_truths`\n",
      "Evaluating: 100%|██████████| 4/4 [00:45<00:00, 11.43s/it]\n"
     ]
    },
    {
     "name": "stdout",
     "output_type": "stream",
     "text": [
      "Evaluating sample 5/37: {'answer_relevancy': 0.4668, 'faithfulness': 1.0000, 'context_recall': 0.2000, 'context_precision': 1.0000}\n"
     ]
    },
    {
     "name": "stderr",
     "output_type": "stream",
     "text": [
      "passing column names as 'ground_truths' is deprecated and will be removed in the next version, please use 'ground_truth' instead. Note that `ground_truth` should be of type string and not Sequence[string] like `ground_truths`\n",
      "Evaluating: 100%|██████████| 4/4 [00:04<00:00,  1.23s/it]\n"
     ]
    },
    {
     "name": "stdout",
     "output_type": "stream",
     "text": [
      "Evaluating sample 6/37: {'answer_relevancy': 0.3452, 'faithfulness': 1.0000, 'context_recall': 0.6667, 'context_precision': 0.0000}\n"
     ]
    },
    {
     "name": "stderr",
     "output_type": "stream",
     "text": [
      "passing column names as 'ground_truths' is deprecated and will be removed in the next version, please use 'ground_truth' instead. Note that `ground_truth` should be of type string and not Sequence[string] like `ground_truths`\n",
      "Evaluating: 100%|██████████| 4/4 [00:03<00:00,  1.16it/s]\n"
     ]
    },
    {
     "name": "stdout",
     "output_type": "stream",
     "text": [
      "Evaluating sample 7/37: {'answer_relevancy': 0.5125, 'faithfulness': 1.0000, 'context_recall': 1.0000, 'context_precision': 1.0000}\n"
     ]
    },
    {
     "name": "stderr",
     "output_type": "stream",
     "text": [
      "passing column names as 'ground_truths' is deprecated and will be removed in the next version, please use 'ground_truth' instead. Note that `ground_truth` should be of type string and not Sequence[string] like `ground_truths`\n",
      "Evaluating: 100%|██████████| 4/4 [00:17<00:00,  4.32s/it]\n"
     ]
    },
    {
     "name": "stdout",
     "output_type": "stream",
     "text": [
      "Evaluating sample 8/37: {'answer_relevancy': 0.6970, 'faithfulness': 1.0000, 'context_recall': 0.3333, 'context_precision': 1.0000}\n"
     ]
    },
    {
     "name": "stderr",
     "output_type": "stream",
     "text": [
      "passing column names as 'ground_truths' is deprecated and will be removed in the next version, please use 'ground_truth' instead. Note that `ground_truth` should be of type string and not Sequence[string] like `ground_truths`\n",
      "Evaluating: 100%|██████████| 4/4 [00:02<00:00,  1.35it/s]\n"
     ]
    },
    {
     "name": "stdout",
     "output_type": "stream",
     "text": [
      "Evaluating sample 9/37: {'answer_relevancy': 0.1249, 'faithfulness': 1.0000, 'context_recall': 1.0000, 'context_precision': 1.0000}\n"
     ]
    },
    {
     "name": "stderr",
     "output_type": "stream",
     "text": [
      "passing column names as 'ground_truths' is deprecated and will be removed in the next version, please use 'ground_truth' instead. Note that `ground_truth` should be of type string and not Sequence[string] like `ground_truths`\n",
      "Evaluating: 100%|██████████| 4/4 [00:18<00:00,  4.60s/it]\n"
     ]
    },
    {
     "name": "stdout",
     "output_type": "stream",
     "text": [
      "Evaluating sample 10/37: {'answer_relevancy': 0.3004, 'faithfulness': 1.0000, 'context_recall': 0.5000, 'context_precision': 1.0000}\n"
     ]
    },
    {
     "name": "stderr",
     "output_type": "stream",
     "text": [
      "passing column names as 'ground_truths' is deprecated and will be removed in the next version, please use 'ground_truth' instead. Note that `ground_truth` should be of type string and not Sequence[string] like `ground_truths`\n",
      "Evaluating: 100%|██████████| 4/4 [00:17<00:00,  4.47s/it]\n"
     ]
    },
    {
     "name": "stdout",
     "output_type": "stream",
     "text": [
      "Evaluating sample 11/37: {'answer_relevancy': 0.4881, 'faithfulness': 1.0000, 'context_recall': 1.0000, 'context_precision': 1.0000}\n"
     ]
    },
    {
     "name": "stderr",
     "output_type": "stream",
     "text": [
      "passing column names as 'ground_truths' is deprecated and will be removed in the next version, please use 'ground_truth' instead. Note that `ground_truth` should be of type string and not Sequence[string] like `ground_truths`\n",
      "Evaluating: 100%|██████████| 4/4 [00:03<00:00,  1.28it/s]\n"
     ]
    },
    {
     "name": "stdout",
     "output_type": "stream",
     "text": [
      "Evaluating sample 12/37: {'answer_relevancy': 0.3914, 'faithfulness': 1.0000, 'context_recall': 1.0000, 'context_precision': 1.0000}\n"
     ]
    },
    {
     "name": "stderr",
     "output_type": "stream",
     "text": [
      "passing column names as 'ground_truths' is deprecated and will be removed in the next version, please use 'ground_truth' instead. Note that `ground_truth` should be of type string and not Sequence[string] like `ground_truths`\n",
      "Evaluating: 100%|██████████| 4/4 [00:05<00:00,  1.45s/it]\n"
     ]
    },
    {
     "name": "stdout",
     "output_type": "stream",
     "text": [
      "Evaluating sample 13/37: {'answer_relevancy': 0.4911, 'faithfulness': 1.0000, 'context_recall': 0.0000, 'context_precision': 1.0000}\n"
     ]
    },
    {
     "name": "stderr",
     "output_type": "stream",
     "text": [
      "passing column names as 'ground_truths' is deprecated and will be removed in the next version, please use 'ground_truth' instead. Note that `ground_truth` should be of type string and not Sequence[string] like `ground_truths`\n",
      "Evaluating: 100%|██████████| 4/4 [00:03<00:00,  1.23it/s]\n"
     ]
    },
    {
     "name": "stdout",
     "output_type": "stream",
     "text": [
      "Evaluating sample 14/37: {'answer_relevancy': 0.3736, 'faithfulness': 1.0000, 'context_recall': 1.0000, 'context_precision': 1.0000}\n"
     ]
    },
    {
     "name": "stderr",
     "output_type": "stream",
     "text": [
      "passing column names as 'ground_truths' is deprecated and will be removed in the next version, please use 'ground_truth' instead. Note that `ground_truth` should be of type string and not Sequence[string] like `ground_truths`\n",
      "Evaluating: 100%|██████████| 4/4 [00:03<00:00,  1.15it/s]\n"
     ]
    },
    {
     "name": "stdout",
     "output_type": "stream",
     "text": [
      "Evaluating sample 15/37: {'answer_relevancy': 0.4870, 'faithfulness': 1.0000, 'context_recall': 1.0000, 'context_precision': 1.0000}\n"
     ]
    },
    {
     "name": "stderr",
     "output_type": "stream",
     "text": [
      "passing column names as 'ground_truths' is deprecated and will be removed in the next version, please use 'ground_truth' instead. Note that `ground_truth` should be of type string and not Sequence[string] like `ground_truths`\n",
      "Evaluating: 100%|██████████| 4/4 [00:02<00:00,  1.72it/s]\n"
     ]
    },
    {
     "name": "stdout",
     "output_type": "stream",
     "text": [
      "Evaluating sample 16/37: {'answer_relevancy': 0.2273, 'faithfulness': 1.0000, 'context_recall': 0.2000, 'context_precision': 1.0000}\n"
     ]
    },
    {
     "name": "stderr",
     "output_type": "stream",
     "text": [
      "passing column names as 'ground_truths' is deprecated and will be removed in the next version, please use 'ground_truth' instead. Note that `ground_truth` should be of type string and not Sequence[string] like `ground_truths`\n",
      "Evaluating: 100%|██████████| 4/4 [00:02<00:00,  1.97it/s]\n"
     ]
    },
    {
     "name": "stdout",
     "output_type": "stream",
     "text": [
      "Evaluating sample 17/37: {'answer_relevancy': 0.1102, 'faithfulness': 1.0000, 'context_recall': 0.3333, 'context_precision': 0.0000}\n"
     ]
    },
    {
     "name": "stderr",
     "output_type": "stream",
     "text": [
      "passing column names as 'ground_truths' is deprecated and will be removed in the next version, please use 'ground_truth' instead. Note that `ground_truth` should be of type string and not Sequence[string] like `ground_truths`\n",
      "Evaluating: 100%|██████████| 4/4 [00:25<00:00,  6.47s/it]\n"
     ]
    },
    {
     "name": "stdout",
     "output_type": "stream",
     "text": [
      "Evaluating sample 18/37: {'answer_relevancy': 0.2575, 'faithfulness': 1.0000, 'context_recall': 0.2500, 'context_precision': 0.0000}\n"
     ]
    },
    {
     "name": "stderr",
     "output_type": "stream",
     "text": [
      "passing column names as 'ground_truths' is deprecated and will be removed in the next version, please use 'ground_truth' instead. Note that `ground_truth` should be of type string and not Sequence[string] like `ground_truths`\n",
      "Evaluating: 100%|██████████| 4/4 [00:08<00:00,  2.02s/it]\n"
     ]
    },
    {
     "name": "stdout",
     "output_type": "stream",
     "text": [
      "Evaluating sample 19/37: {'answer_relevancy': 0.4650, 'faithfulness': 0.5000, 'context_recall': 0.8000, 'context_precision': 1.0000}\n"
     ]
    },
    {
     "name": "stderr",
     "output_type": "stream",
     "text": [
      "passing column names as 'ground_truths' is deprecated and will be removed in the next version, please use 'ground_truth' instead. Note that `ground_truth` should be of type string and not Sequence[string] like `ground_truths`\n",
      "Evaluating: 100%|██████████| 4/4 [00:11<00:00,  2.76s/it]\n"
     ]
    },
    {
     "name": "stdout",
     "output_type": "stream",
     "text": [
      "Evaluating sample 20/37: {'answer_relevancy': 0.2759, 'faithfulness': 1.0000, 'context_recall': 1.0000, 'context_precision': 1.0000}\n"
     ]
    },
    {
     "name": "stderr",
     "output_type": "stream",
     "text": [
      "passing column names as 'ground_truths' is deprecated and will be removed in the next version, please use 'ground_truth' instead. Note that `ground_truth` should be of type string and not Sequence[string] like `ground_truths`\n",
      "Evaluating: 100%|██████████| 4/4 [00:06<00:00,  1.52s/it]\n"
     ]
    },
    {
     "name": "stdout",
     "output_type": "stream",
     "text": [
      "Evaluating sample 21/37: {'answer_relevancy': 0.4704, 'faithfulness': 1.0000, 'context_recall': 0.0000, 'context_precision': 1.0000}\n"
     ]
    },
    {
     "name": "stderr",
     "output_type": "stream",
     "text": [
      "passing column names as 'ground_truths' is deprecated and will be removed in the next version, please use 'ground_truth' instead. Note that `ground_truth` should be of type string and not Sequence[string] like `ground_truths`\n",
      "Evaluating: 100%|██████████| 4/4 [00:03<00:00,  1.20it/s]\n"
     ]
    },
    {
     "name": "stdout",
     "output_type": "stream",
     "text": [
      "Evaluating sample 22/37: {'answer_relevancy': 0.0796, 'faithfulness': 1.0000, 'context_recall': 0.2500, 'context_precision': 1.0000}\n"
     ]
    },
    {
     "name": "stderr",
     "output_type": "stream",
     "text": [
      "passing column names as 'ground_truths' is deprecated and will be removed in the next version, please use 'ground_truth' instead. Note that `ground_truth` should be of type string and not Sequence[string] like `ground_truths`\n",
      "Evaluating: 100%|██████████| 4/4 [00:09<00:00,  2.32s/it]\n"
     ]
    },
    {
     "name": "stdout",
     "output_type": "stream",
     "text": [
      "Evaluating sample 23/37: {'answer_relevancy': 0.3458, 'faithfulness': 0.5000, 'context_recall': 0.0000, 'context_precision': 1.0000}\n"
     ]
    },
    {
     "name": "stderr",
     "output_type": "stream",
     "text": [
      "passing column names as 'ground_truths' is deprecated and will be removed in the next version, please use 'ground_truth' instead. Note that `ground_truth` should be of type string and not Sequence[string] like `ground_truths`\n",
      "Evaluating: 100%|██████████| 4/4 [00:02<00:00,  1.51it/s]\n"
     ]
    },
    {
     "name": "stdout",
     "output_type": "stream",
     "text": [
      "Evaluating sample 24/37: {'answer_relevancy': 0.3992, 'faithfulness': 1.0000, 'context_recall': 0.2000, 'context_precision': 0.0000}\n"
     ]
    },
    {
     "name": "stderr",
     "output_type": "stream",
     "text": [
      "passing column names as 'ground_truths' is deprecated and will be removed in the next version, please use 'ground_truth' instead. Note that `ground_truth` should be of type string and not Sequence[string] like `ground_truths`\n",
      "Evaluating: 100%|██████████| 4/4 [00:04<00:00,  1.02s/it]\n"
     ]
    },
    {
     "name": "stdout",
     "output_type": "stream",
     "text": [
      "Evaluating sample 25/37: {'answer_relevancy': 0.2542, 'faithfulness': 1.0000, 'context_recall': 0.6667, 'context_precision': 1.0000}\n"
     ]
    },
    {
     "name": "stderr",
     "output_type": "stream",
     "text": [
      "passing column names as 'ground_truths' is deprecated and will be removed in the next version, please use 'ground_truth' instead. Note that `ground_truth` should be of type string and not Sequence[string] like `ground_truths`\n",
      "Evaluating: 100%|██████████| 4/4 [00:07<00:00,  1.87s/it]\n"
     ]
    },
    {
     "name": "stdout",
     "output_type": "stream",
     "text": [
      "Evaluating sample 26/37: {'answer_relevancy': 0.4405, 'faithfulness': 1.0000, 'context_recall': 0.3333, 'context_precision': 1.0000}\n"
     ]
    },
    {
     "name": "stderr",
     "output_type": "stream",
     "text": [
      "passing column names as 'ground_truths' is deprecated and will be removed in the next version, please use 'ground_truth' instead. Note that `ground_truth` should be of type string and not Sequence[string] like `ground_truths`\n",
      "Evaluating: 100%|██████████| 4/4 [00:08<00:00,  2.04s/it]\n"
     ]
    },
    {
     "name": "stdout",
     "output_type": "stream",
     "text": [
      "Evaluating sample 27/37: {'answer_relevancy': 0.2849, 'faithfulness': 1.0000, 'context_recall': 1.0000, 'context_precision': 1.0000}\n"
     ]
    },
    {
     "name": "stderr",
     "output_type": "stream",
     "text": [
      "passing column names as 'ground_truths' is deprecated and will be removed in the next version, please use 'ground_truth' instead. Note that `ground_truth` should be of type string and not Sequence[string] like `ground_truths`\n",
      "Evaluating: 100%|██████████| 4/4 [00:03<00:00,  1.23it/s]\n"
     ]
    },
    {
     "name": "stdout",
     "output_type": "stream",
     "text": [
      "Evaluating sample 28/37: {'answer_relevancy': 0.2479, 'faithfulness': 0.5000, 'context_recall': 1.0000, 'context_precision': 1.0000}\n"
     ]
    },
    {
     "name": "stderr",
     "output_type": "stream",
     "text": [
      "passing column names as 'ground_truths' is deprecated and will be removed in the next version, please use 'ground_truth' instead. Note that `ground_truth` should be of type string and not Sequence[string] like `ground_truths`\n",
      "Evaluating: 100%|██████████| 4/4 [00:02<00:00,  1.93it/s]\n"
     ]
    },
    {
     "name": "stdout",
     "output_type": "stream",
     "text": [
      "Evaluating sample 29/37: {'answer_relevancy': 0.1624, 'faithfulness': 1.0000, 'context_recall': 0.3333, 'context_precision': 0.0000}\n"
     ]
    },
    {
     "name": "stderr",
     "output_type": "stream",
     "text": [
      "passing column names as 'ground_truths' is deprecated and will be removed in the next version, please use 'ground_truth' instead. Note that `ground_truth` should be of type string and not Sequence[string] like `ground_truths`\n",
      "Evaluating: 100%|██████████| 4/4 [00:27<00:00,  6.89s/it]\n"
     ]
    },
    {
     "name": "stdout",
     "output_type": "stream",
     "text": [
      "Evaluating sample 30/37: {'answer_relevancy': 0.5792, 'faithfulness': 0.8333, 'context_recall': 0.7500, 'context_precision': 1.0000}\n"
     ]
    },
    {
     "name": "stderr",
     "output_type": "stream",
     "text": [
      "passing column names as 'ground_truths' is deprecated and will be removed in the next version, please use 'ground_truth' instead. Note that `ground_truth` should be of type string and not Sequence[string] like `ground_truths`\n",
      "Evaluating: 100%|██████████| 4/4 [00:01<00:00,  2.08it/s]\n"
     ]
    },
    {
     "name": "stdout",
     "output_type": "stream",
     "text": [
      "Evaluating sample 31/37: {'answer_relevancy': 0.3498, 'faithfulness': 1.0000, 'context_recall': 1.0000, 'context_precision': 1.0000}\n"
     ]
    },
    {
     "name": "stderr",
     "output_type": "stream",
     "text": [
      "passing column names as 'ground_truths' is deprecated and will be removed in the next version, please use 'ground_truth' instead. Note that `ground_truth` should be of type string and not Sequence[string] like `ground_truths`\n",
      "Evaluating: 100%|██████████| 4/4 [00:07<00:00,  1.83s/it]\n"
     ]
    },
    {
     "name": "stdout",
     "output_type": "stream",
     "text": [
      "Evaluating sample 32/37: {'answer_relevancy': 0.1005, 'faithfulness': 1.0000, 'context_recall': 1.0000, 'context_precision': 1.0000}\n"
     ]
    },
    {
     "name": "stderr",
     "output_type": "stream",
     "text": [
      "passing column names as 'ground_truths' is deprecated and will be removed in the next version, please use 'ground_truth' instead. Note that `ground_truth` should be of type string and not Sequence[string] like `ground_truths`\n",
      "Evaluating: 100%|██████████| 4/4 [00:02<00:00,  1.39it/s]\n"
     ]
    },
    {
     "name": "stdout",
     "output_type": "stream",
     "text": [
      "Evaluating sample 33/37: {'answer_relevancy': 0.3923, 'faithfulness': 1.0000, 'context_recall': 0.0000, 'context_precision': 0.0000}\n"
     ]
    },
    {
     "name": "stderr",
     "output_type": "stream",
     "text": [
      "passing column names as 'ground_truths' is deprecated and will be removed in the next version, please use 'ground_truth' instead. Note that `ground_truth` should be of type string and not Sequence[string] like `ground_truths`\n",
      "Evaluating: 100%|██████████| 4/4 [00:06<00:00,  1.70s/it]\n"
     ]
    },
    {
     "name": "stdout",
     "output_type": "stream",
     "text": [
      "Evaluating sample 34/37: {'answer_relevancy': 0.5795, 'faithfulness': 1.0000, 'context_recall': 1.0000, 'context_precision': 1.0000}\n"
     ]
    },
    {
     "name": "stderr",
     "output_type": "stream",
     "text": [
      "passing column names as 'ground_truths' is deprecated and will be removed in the next version, please use 'ground_truth' instead. Note that `ground_truth` should be of type string and not Sequence[string] like `ground_truths`\n",
      "Evaluating: 100%|██████████| 4/4 [00:40<00:00, 10.11s/it]\n"
     ]
    },
    {
     "name": "stdout",
     "output_type": "stream",
     "text": [
      "Evaluating sample 35/37: {'answer_relevancy': 0.6043, 'faithfulness': 1.0000, 'context_recall': 1.0000, 'context_precision': 1.0000}\n"
     ]
    },
    {
     "name": "stderr",
     "output_type": "stream",
     "text": [
      "passing column names as 'ground_truths' is deprecated and will be removed in the next version, please use 'ground_truth' instead. Note that `ground_truth` should be of type string and not Sequence[string] like `ground_truths`\n",
      "Evaluating: 100%|██████████| 4/4 [00:11<00:00,  2.89s/it]\n"
     ]
    },
    {
     "name": "stdout",
     "output_type": "stream",
     "text": [
      "Evaluating sample 36/37: {'answer_relevancy': 0.4114, 'faithfulness': 1.0000, 'context_recall': 1.0000, 'context_precision': 1.0000}\n"
     ]
    },
    {
     "name": "stderr",
     "output_type": "stream",
     "text": [
      "passing column names as 'ground_truths' is deprecated and will be removed in the next version, please use 'ground_truth' instead. Note that `ground_truth` should be of type string and not Sequence[string] like `ground_truths`\n",
      "Evaluating: 100%|██████████| 4/4 [00:05<00:00,  1.27s/it]\n"
     ]
    },
    {
     "name": "stdout",
     "output_type": "stream",
     "text": [
      "Evaluating sample 37/37: {'answer_relevancy': 0.5764, 'faithfulness': 1.0000, 'context_recall': 0.8571, 'context_precision': 1.0000}\n"
     ]
    }
   ],
   "source": [
    "# dataset_organized should be defined and filled with the required data before calling this function\n",
    "updated_dataset = evaluate_per_sample(dataset_organized)"
   ]
  },
  {
   "cell_type": "code",
   "execution_count": 28,
   "metadata": {},
   "outputs": [
    {
     "name": "stdout",
     "output_type": "stream",
     "text": [
      "Dataset organizado salvo com sucesso em ../input/Raw Text/dataset/RAG_FinalDataset_experiment_4.json!\n"
     ]
    }
   ],
   "source": [
    "# Salvando o dataset organizado em formato JSON\n",
    "file_path = '../input/Raw Text/dataset/RAG_FinalDataset_experiment_4.json'\n",
    "with open(file_path, 'w', encoding='utf-8') as file:\n",
    "    json.dump(updated_dataset, file, ensure_ascii=False, indent=5)\n",
    "\n",
    "print(f'Dataset organizado salvo com sucesso em {file_path}!')"
   ]
  },
  {
   "cell_type": "code",
   "execution_count": 29,
   "metadata": {},
   "outputs": [
    {
     "data": {
      "text/html": [
       "<div>\n",
       "<style scoped>\n",
       "    .dataframe tbody tr th:only-of-type {\n",
       "        vertical-align: middle;\n",
       "    }\n",
       "\n",
       "    .dataframe tbody tr th {\n",
       "        vertical-align: top;\n",
       "    }\n",
       "\n",
       "    .dataframe thead th {\n",
       "        text-align: right;\n",
       "    }\n",
       "</style>\n",
       "<table border=\"1\" class=\"dataframe\">\n",
       "  <thead>\n",
       "    <tr style=\"text-align: right;\">\n",
       "      <th></th>\n",
       "      <th>question</th>\n",
       "      <th>ground_truths</th>\n",
       "      <th>answer</th>\n",
       "      <th>contexts</th>\n",
       "      <th>answer_relevancy</th>\n",
       "      <th>faithfulness</th>\n",
       "      <th>context_recall</th>\n",
       "      <th>context_precision</th>\n",
       "    </tr>\n",
       "  </thead>\n",
       "  <tbody>\n",
       "    <tr>\n",
       "      <th>0</th>\n",
       "      <td>Como ocorrem as atividades de cooperação, pesq...</td>\n",
       "      <td>[Nos termos do art. 1° da Deliberação CONSU-A-...</td>\n",
       "      <td>mediante a celebração de convênios, contratos ...</td>\n",
       "      <td>[De acordo com o trecho 'A atuação da Universi...</td>\n",
       "      <td>0.491248</td>\n",
       "      <td>1.000000</td>\n",
       "      <td>1.000000</td>\n",
       "      <td>1.0</td>\n",
       "    </tr>\n",
       "    <tr>\n",
       "      <th>1</th>\n",
       "      <td>Qual é o procedimento para a celebração de con...</td>\n",
       "      <td>[Na Unicamp, a celebração de convênios, contra...</td>\n",
       "      <td>O procedimento para a celebração de convênios,...</td>\n",
       "      <td>[De acordo com o trecho 'CAPÍTULO I – DISPOSIÇ...</td>\n",
       "      <td>0.505855</td>\n",
       "      <td>1.000000</td>\n",
       "      <td>1.000000</td>\n",
       "      <td>1.0</td>\n",
       "    </tr>\n",
       "    <tr>\n",
       "      <th>2</th>\n",
       "      <td>Qual é o sistema utilizado para a tramitação d...</td>\n",
       "      <td>[Os documentos essenciais estão elencados no a...</td>\n",
       "      <td>Processos administrativos eletrônicos.</td>\n",
       "      <td>[De acordo com o trecho 'As propostas de convê...</td>\n",
       "      <td>0.257911</td>\n",
       "      <td>1.000000</td>\n",
       "      <td>0.125000</td>\n",
       "      <td>1.0</td>\n",
       "    </tr>\n",
       "    <tr>\n",
       "      <th>3</th>\n",
       "      <td>O que é o Plano de Aplicação de Recursos?</td>\n",
       "      <td>[O Plano de Aplicação de Recursos é o document...</td>\n",
       "      <td>O Plano de Aplicação de Recursos é o documento...</td>\n",
       "      <td>[De acordo com o trecho '[nan1]: O Plano de Ap...</td>\n",
       "      <td>0.821026</td>\n",
       "      <td>1.000000</td>\n",
       "      <td>0.333333</td>\n",
       "      <td>1.0</td>\n",
       "    </tr>\n",
       "    <tr>\n",
       "      <th>4</th>\n",
       "      <td>Quem pode ser executor de um convênio e quais ...</td>\n",
       "      <td>[Nos termos do art. 18, §1° da Deliberação CON...</td>\n",
       "      <td>Os executores de um convênio são servidores at...</td>\n",
       "      <td>[De acordo com o trecho '1º  – Poderão figurar...</td>\n",
       "      <td>0.466763</td>\n",
       "      <td>1.000000</td>\n",
       "      <td>0.200000</td>\n",
       "      <td>1.0</td>\n",
       "    </tr>\n",
       "    <tr>\n",
       "      <th>5</th>\n",
       "      <td>Quem é a autoridade competente para assinatura...</td>\n",
       "      <td>[Como regra, a autoridade competente para assi...</td>\n",
       "      <td>As autoridades competentes para assinatura dos...</td>\n",
       "      <td>[De acordo com o trecho 'Artigo 9º  – Fica del...</td>\n",
       "      <td>0.345204</td>\n",
       "      <td>1.000000</td>\n",
       "      <td>0.666667</td>\n",
       "      <td>0.0</td>\n",
       "    </tr>\n",
       "    <tr>\n",
       "      <th>6</th>\n",
       "      <td>Existe uma tramitação simplificada para aprova...</td>\n",
       "      <td>[Sim, o art. 7º da Deliberação CONSU-A-016/202...</td>\n",
       "      <td>sim</td>\n",
       "      <td>[De acordo com o trecho 'Seção III – Das Trami...</td>\n",
       "      <td>0.512463</td>\n",
       "      <td>1.000000</td>\n",
       "      <td>1.000000</td>\n",
       "      <td>1.0</td>\n",
       "    </tr>\n",
       "    <tr>\n",
       "      <th>7</th>\n",
       "      <td>Quando se deve utilizar um Termo Aditivo a um ...</td>\n",
       "      <td>[Em razão da inexistência de uma única lei ou ...</td>\n",
       "      <td>Quando se deseja alterar os termos do convênio...</td>\n",
       "      <td>[De acordo com o trecho 'Em suma, independente...</td>\n",
       "      <td>0.696983</td>\n",
       "      <td>1.000000</td>\n",
       "      <td>0.333333</td>\n",
       "      <td>1.0</td>\n",
       "    </tr>\n",
       "    <tr>\n",
       "      <th>8</th>\n",
       "      <td>É possível que o convênio preveja o pagamento ...</td>\n",
       "      <td>[Sim, a concessão de bolsas estímulo à inovaçã...</td>\n",
       "      <td>sim</td>\n",
       "      <td>[De acordo com o trecho 'Artigo 1º  - A Unicam...</td>\n",
       "      <td>0.124859</td>\n",
       "      <td>1.000000</td>\n",
       "      <td>1.000000</td>\n",
       "      <td>1.0</td>\n",
       "    </tr>\n",
       "    <tr>\n",
       "      <th>9</th>\n",
       "      <td>Como ocorre a tramitação de convênio com insti...</td>\n",
       "      <td>[A tramitação de convênio que só tenha a funda...</td>\n",
       "      <td>Formalizar nos termos do artigo 2º e seguir a ...</td>\n",
       "      <td>[De acordo com o trecho 'O processo de convêni...</td>\n",
       "      <td>0.300364</td>\n",
       "      <td>1.000000</td>\n",
       "      <td>0.500000</td>\n",
       "      <td>1.0</td>\n",
       "    </tr>\n",
       "    <tr>\n",
       "      <th>10</th>\n",
       "      <td>A execução foi concluída. Como se encerra o pr...</td>\n",
       "      <td>[O encerramento do processo deverá ocorrer apó...</td>\n",
       "      <td>O processo de convênio é encerrado com o encam...</td>\n",
       "      <td>[De acordo com o trecho 'Artigo 6º  – Concluíd...</td>\n",
       "      <td>0.488139</td>\n",
       "      <td>1.000000</td>\n",
       "      <td>1.000000</td>\n",
       "      <td>1.0</td>\n",
       "    </tr>\n",
       "    <tr>\n",
       "      <th>11</th>\n",
       "      <td>As manifestações emitidas por servidores, doce...</td>\n",
       "      <td>[Não. Nos termos da Deliberação CAD-A-04/2003 ...</td>\n",
       "      <td>Não</td>\n",
       "      <td>[De acordo com o trecho 'Não. Nos termos da De...</td>\n",
       "      <td>0.391371</td>\n",
       "      <td>1.000000</td>\n",
       "      <td>1.000000</td>\n",
       "      <td>1.0</td>\n",
       "    </tr>\n",
       "    <tr>\n",
       "      <th>12</th>\n",
       "      <td>Qual procedimento deve ser adotado para utiliz...</td>\n",
       "      <td>[A Resolução GR-028/2004 condiciona o uso da m...</td>\n",
       "      <td>Deve ser obedecida às exigências estabelecidas...</td>\n",
       "      <td>[De acordo com o trecho 'Artigo 1º - A inserçã...</td>\n",
       "      <td>0.491113</td>\n",
       "      <td>1.000000</td>\n",
       "      <td>0.000000</td>\n",
       "      <td>1.0</td>\n",
       "    </tr>\n",
       "    <tr>\n",
       "      <th>13</th>\n",
       "      <td>Quais as condições e a forma de utilização da ...</td>\n",
       "      <td>[A Portaria GR-034/1995 dispõe sobre as condiç...</td>\n",
       "      <td>As condições e forma de utilização da marca UN...</td>\n",
       "      <td>[De acordo com a [Portaria GR-034/1995], as co...</td>\n",
       "      <td>0.373611</td>\n",
       "      <td>1.000000</td>\n",
       "      <td>1.000000</td>\n",
       "      <td>1.0</td>\n",
       "    </tr>\n",
       "    <tr>\n",
       "      <th>14</th>\n",
       "      <td>As unidades e órgãos universitários podem util...</td>\n",
       "      <td>[Nos termos do artigo 4º da Portaria GR-034/19...</td>\n",
       "      <td>Sim, em caráter excepcional e após aprovação d...</td>\n",
       "      <td>[De acordo com o trecho 'Artigo 4º - As unidad...</td>\n",
       "      <td>0.486987</td>\n",
       "      <td>1.000000</td>\n",
       "      <td>1.000000</td>\n",
       "      <td>1.0</td>\n",
       "    </tr>\n",
       "    <tr>\n",
       "      <th>15</th>\n",
       "      <td>As reuniões de órgãos colegiados da UNICAMP po...</td>\n",
       "      <td>[As gravações das reuniões de órgãos colegiado...</td>\n",
       "      <td>sim</td>\n",
       "      <td>[De acordo com o trecho 'Os áudios e vídeos da...</td>\n",
       "      <td>0.227346</td>\n",
       "      <td>1.000000</td>\n",
       "      <td>0.200000</td>\n",
       "      <td>1.0</td>\n",
       "    </tr>\n",
       "    <tr>\n",
       "      <th>16</th>\n",
       "      <td>As gravações podem ser disponibilizadas a terc...</td>\n",
       "      <td>[Quanto à divulgação dos áudios e vídeos das r...</td>\n",
       "      <td>Não</td>\n",
       "      <td>[De acordo com a Cláusula 7.3 da [Deliberação ...</td>\n",
       "      <td>0.110224</td>\n",
       "      <td>1.000000</td>\n",
       "      <td>0.333333</td>\n",
       "      <td>0.0</td>\n",
       "    </tr>\n",
       "    <tr>\n",
       "      <th>17</th>\n",
       "      <td>As pautas, atas e deliberações dos órgãos cole...</td>\n",
       "      <td>[Nos termos da Lei Federal nº 12.527/2011, pau...</td>\n",
       "      <td>Não há evidência de que as pautas, atas e deli...</td>\n",
       "      <td>[De acordo com o trecho '§ 2º  - O instrumento...</td>\n",
       "      <td>0.257461</td>\n",
       "      <td>1.000000</td>\n",
       "      <td>0.250000</td>\n",
       "      <td>0.0</td>\n",
       "    </tr>\n",
       "    <tr>\n",
       "      <th>18</th>\n",
       "      <td>Servidor técnico-administrativo da UNICAMP pod...</td>\n",
       "      <td>[O servidor técnico administrativo da UNICAMP ...</td>\n",
       "      <td>sim</td>\n",
       "      <td>[De acordo com o trecho 'comerciar ou ter part...</td>\n",
       "      <td>0.464951</td>\n",
       "      <td>0.500000</td>\n",
       "      <td>0.800000</td>\n",
       "      <td>1.0</td>\n",
       "    </tr>\n",
       "    <tr>\n",
       "      <th>19</th>\n",
       "      <td>Docente da UNICAMP em RDIDP ou regime de dedic...</td>\n",
       "      <td>[O docente da UNICAMP em RDIDP ou em regime de...</td>\n",
       "      <td>Não, salvo exceções legais.</td>\n",
       "      <td>[De acordo com o trecho 'vedado o exercício de...</td>\n",
       "      <td>0.275857</td>\n",
       "      <td>1.000000</td>\n",
       "      <td>1.000000</td>\n",
       "      <td>1.0</td>\n",
       "    </tr>\n",
       "    <tr>\n",
       "      <th>20</th>\n",
       "      <td>Como tramitam as sindicâncias administrativas ...</td>\n",
       "      <td>[As sindicâncias administrativas deverão trami...</td>\n",
       "      <td>Por servidor ou comissão de servidores designa...</td>\n",
       "      <td>[De acordo com o trecho 'Artigo 18 6. A sindic...</td>\n",
       "      <td>0.470405</td>\n",
       "      <td>1.000000</td>\n",
       "      <td>0.000000</td>\n",
       "      <td>1.0</td>\n",
       "    </tr>\n",
       "    <tr>\n",
       "      <th>21</th>\n",
       "      <td>Em quais hipóteses deve ser instaurada sindicâ...</td>\n",
       "      <td>[Sindicância Administrativa é o meio de apuraç...</td>\n",
       "      <td>Quando um docente infringe qualquer das dispos...</td>\n",
       "      <td>[De acordo com o trecho 'Artigo 20 - O docente...</td>\n",
       "      <td>0.079583</td>\n",
       "      <td>1.000000</td>\n",
       "      <td>0.250000</td>\n",
       "      <td>1.0</td>\n",
       "    </tr>\n",
       "    <tr>\n",
       "      <th>22</th>\n",
       "      <td>Quem tem competência para instaurar sindicânci...</td>\n",
       "      <td>[Podem instaurar sindicância administrativa, n...</td>\n",
       "      <td>A autoridade competente (Reitor ou autoridade ...</td>\n",
       "      <td>[De acordo com o trecho 'Artigo 18 6. A sindic...</td>\n",
       "      <td>0.345791</td>\n",
       "      <td>0.500000</td>\n",
       "      <td>0.000000</td>\n",
       "      <td>1.0</td>\n",
       "    </tr>\n",
       "    <tr>\n",
       "      <th>23</th>\n",
       "      <td>Como deve ser a composição da Comissão?</td>\n",
       "      <td>[A Sindicância deverá ser instaurada mediante ...</td>\n",
       "      <td>A composição da Comissão de Orçamento e Patrim...</td>\n",
       "      <td>[De acordo com o trecho 'Artigo 11 – O Conselh...</td>\n",
       "      <td>0.399230</td>\n",
       "      <td>1.000000</td>\n",
       "      <td>0.200000</td>\n",
       "      <td>0.0</td>\n",
       "    </tr>\n",
       "    <tr>\n",
       "      <th>24</th>\n",
       "      <td>Há ordem específica para oitiva dos investigad...</td>\n",
       "      <td>[Em geral, a ordem de convocação dos depoentes...</td>\n",
       "      <td>sim, o sindicado deve ser ouvido primeiramente.</td>\n",
       "      <td>[De acordo com o trecho 'no caso de sindicânci...</td>\n",
       "      <td>0.254235</td>\n",
       "      <td>1.000000</td>\n",
       "      <td>0.666667</td>\n",
       "      <td>1.0</td>\n",
       "    </tr>\n",
       "    <tr>\n",
       "      <th>25</th>\n",
       "      <td>Ao final da apuração, como deve proceder a Com...</td>\n",
       "      <td>[Ao final da apuração, a Comissão de Sindicânc...</td>\n",
       "      <td>Elaborar um Relatório Final.</td>\n",
       "      <td>[De acordo com o trecho 'Ao final da apuração,...</td>\n",
       "      <td>0.440466</td>\n",
       "      <td>1.000000</td>\n",
       "      <td>0.333333</td>\n",
       "      <td>1.0</td>\n",
       "    </tr>\n",
       "    <tr>\n",
       "      <th>26</th>\n",
       "      <td>Durante o período de suspensão das atividades ...</td>\n",
       "      <td>[Sim. Nesse momento de suspensão das atividade...</td>\n",
       "      <td>sim</td>\n",
       "      <td>[De acordo com o trecho 'Sim. Nesse momento de...</td>\n",
       "      <td>0.284887</td>\n",
       "      <td>1.000000</td>\n",
       "      <td>1.000000</td>\n",
       "      <td>1.0</td>\n",
       "    </tr>\n",
       "    <tr>\n",
       "      <th>27</th>\n",
       "      <td>No caso de apuração de faltas disciplinares at...</td>\n",
       "      <td>[Em se tratando de infrações disciplinares atr...</td>\n",
       "      <td>Processo Administrativo Disciplinar, que pode ...</td>\n",
       "      <td>[De acordo com o trecho '§ 5º. Havendo dúvida ...</td>\n",
       "      <td>0.247886</td>\n",
       "      <td>0.500000</td>\n",
       "      <td>1.000000</td>\n",
       "      <td>1.0</td>\n",
       "    </tr>\n",
       "    <tr>\n",
       "      <th>28</th>\n",
       "      <td>Como saber qual procedimento deve ser instaurado?</td>\n",
       "      <td>[Conforme previsto no artigo 235 do Regimento ...</td>\n",
       "      <td>Se houver dúvida quanto à natureza e gravidade...</td>\n",
       "      <td>[De acordo com o trecho '§ 5º. Havendo dúvida ...</td>\n",
       "      <td>0.162360</td>\n",
       "      <td>1.000000</td>\n",
       "      <td>0.333333</td>\n",
       "      <td>0.0</td>\n",
       "    </tr>\n",
       "    <tr>\n",
       "      <th>29</th>\n",
       "      <td>Em se tratando de Sindicância Investigativa, c...</td>\n",
       "      <td>[Tratando-se de Sindicância Investigativa (art...</td>\n",
       "      <td>Instaurar mediante Portaria da autoridade comp...</td>\n",
       "      <td>[De acordo com o trecho '§ 1º. A Sindicância I...</td>\n",
       "      <td>0.579226</td>\n",
       "      <td>0.833333</td>\n",
       "      <td>0.750000</td>\n",
       "      <td>1.0</td>\n",
       "    </tr>\n",
       "    <tr>\n",
       "      <th>30</th>\n",
       "      <td>Quem coordenará o Grupo de Trabalho responsáve...</td>\n",
       "      <td>[O coordenador do Grupo de Trabalho designado ...</td>\n",
       "      <td>Prof. Drª. Emília Wanda Rutkowski</td>\n",
       "      <td>[De acordo com o trecho 'Artigo 1º  - Fica con...</td>\n",
       "      <td>0.349767</td>\n",
       "      <td>1.000000</td>\n",
       "      <td>1.000000</td>\n",
       "      <td>1.0</td>\n",
       "    </tr>\n",
       "    <tr>\n",
       "      <th>31</th>\n",
       "      <td>Quem é o responsável por decidir os recursos i...</td>\n",
       "      <td>[Baseado na informação retirada do Resolução G...</td>\n",
       "      <td>Diretor Executivo de Administração</td>\n",
       "      <td>[De acordo com o trecho 'j) conhecer e decidir...</td>\n",
       "      <td>0.100460</td>\n",
       "      <td>1.000000</td>\n",
       "      <td>1.000000</td>\n",
       "      <td>1.0</td>\n",
       "    </tr>\n",
       "    <tr>\n",
       "      <th>32</th>\n",
       "      <td>Quem são os responsáveis pela coordenação das ...</td>\n",
       "      <td>[O documento [Deliberação CAD-A-005/2023] menc...</td>\n",
       "      <td>Presidente da Comissão de Graduação, Coordenad...</td>\n",
       "      <td>[De acordo com o trecho 'IV - pelo Presidente ...</td>\n",
       "      <td>0.392280</td>\n",
       "      <td>1.000000</td>\n",
       "      <td>0.000000</td>\n",
       "      <td>0.0</td>\n",
       "    </tr>\n",
       "    <tr>\n",
       "      <th>33</th>\n",
       "      <td>Qual é o objetivo principal do 'Prêmio Tese De...</td>\n",
       "      <td>[O objetivo principal do 'Prêmio Tese Destaque...</td>\n",
       "      <td>O objetivo principal do 'Prêmio Tese Destaque ...</td>\n",
       "      <td>[De acordo com o trecho 'Artigo 1º  – Fica ins...</td>\n",
       "      <td>0.579451</td>\n",
       "      <td>1.000000</td>\n",
       "      <td>1.000000</td>\n",
       "      <td>1.0</td>\n",
       "    </tr>\n",
       "    <tr>\n",
       "      <th>34</th>\n",
       "      <td>Quais são as competências atribuídas ao Escrit...</td>\n",
       "      <td>[Regulação, manutenção de licenças, normatizaç...</td>\n",
       "      <td>As competências do Escritório de Produtos Cont...</td>\n",
       "      <td>[De acordo com o trecho 'Artigo 1º  - Fica cri...</td>\n",
       "      <td>0.604347</td>\n",
       "      <td>1.000000</td>\n",
       "      <td>1.000000</td>\n",
       "      <td>1.0</td>\n",
       "    </tr>\n",
       "    <tr>\n",
       "      <th>35</th>\n",
       "      <td>Quem pode admitir servidores na UNICAMP?</td>\n",
       "      <td>[As admissões, dispensas e demais atos referen...</td>\n",
       "      <td>O Reitor da UNICAMP.</td>\n",
       "      <td>[De acordo com o trecho 'admitir e dar posse a...</td>\n",
       "      <td>0.411443</td>\n",
       "      <td>1.000000</td>\n",
       "      <td>1.000000</td>\n",
       "      <td>1.0</td>\n",
       "    </tr>\n",
       "    <tr>\n",
       "      <th>36</th>\n",
       "      <td>Quem são os novos membros designados para a Co...</td>\n",
       "      <td>[De acordo com a [Portaria GR-027/2021], 'o Re...</td>\n",
       "      <td>Dra. Patrícia Regina Kitaka e outros membros n...</td>\n",
       "      <td>[De acordo com o trecho 'Artigo 1º - Ficam des...</td>\n",
       "      <td>0.576386</td>\n",
       "      <td>1.000000</td>\n",
       "      <td>0.857143</td>\n",
       "      <td>1.0</td>\n",
       "    </tr>\n",
       "  </tbody>\n",
       "</table>\n",
       "</div>"
      ],
      "text/plain": [
       "                                             question  \\\n",
       "0   Como ocorrem as atividades de cooperação, pesq...   \n",
       "1   Qual é o procedimento para a celebração de con...   \n",
       "2   Qual é o sistema utilizado para a tramitação d...   \n",
       "3           O que é o Plano de Aplicação de Recursos?   \n",
       "4   Quem pode ser executor de um convênio e quais ...   \n",
       "5   Quem é a autoridade competente para assinatura...   \n",
       "6   Existe uma tramitação simplificada para aprova...   \n",
       "7   Quando se deve utilizar um Termo Aditivo a um ...   \n",
       "8   É possível que o convênio preveja o pagamento ...   \n",
       "9   Como ocorre a tramitação de convênio com insti...   \n",
       "10  A execução foi concluída. Como se encerra o pr...   \n",
       "11  As manifestações emitidas por servidores, doce...   \n",
       "12  Qual procedimento deve ser adotado para utiliz...   \n",
       "13  Quais as condições e a forma de utilização da ...   \n",
       "14  As unidades e órgãos universitários podem util...   \n",
       "15  As reuniões de órgãos colegiados da UNICAMP po...   \n",
       "16  As gravações podem ser disponibilizadas a terc...   \n",
       "17  As pautas, atas e deliberações dos órgãos cole...   \n",
       "18  Servidor técnico-administrativo da UNICAMP pod...   \n",
       "19  Docente da UNICAMP em RDIDP ou regime de dedic...   \n",
       "20  Como tramitam as sindicâncias administrativas ...   \n",
       "21  Em quais hipóteses deve ser instaurada sindicâ...   \n",
       "22  Quem tem competência para instaurar sindicânci...   \n",
       "23            Como deve ser a composição da Comissão?   \n",
       "24  Há ordem específica para oitiva dos investigad...   \n",
       "25  Ao final da apuração, como deve proceder a Com...   \n",
       "26  Durante o período de suspensão das atividades ...   \n",
       "27  No caso de apuração de faltas disciplinares at...   \n",
       "28  Como saber qual procedimento deve ser instaurado?   \n",
       "29  Em se tratando de Sindicância Investigativa, c...   \n",
       "30  Quem coordenará o Grupo de Trabalho responsáve...   \n",
       "31  Quem é o responsável por decidir os recursos i...   \n",
       "32  Quem são os responsáveis pela coordenação das ...   \n",
       "33  Qual é o objetivo principal do 'Prêmio Tese De...   \n",
       "34  Quais são as competências atribuídas ao Escrit...   \n",
       "35           Quem pode admitir servidores na UNICAMP?   \n",
       "36  Quem são os novos membros designados para a Co...   \n",
       "\n",
       "                                        ground_truths  \\\n",
       "0   [Nos termos do art. 1° da Deliberação CONSU-A-...   \n",
       "1   [Na Unicamp, a celebração de convênios, contra...   \n",
       "2   [Os documentos essenciais estão elencados no a...   \n",
       "3   [O Plano de Aplicação de Recursos é o document...   \n",
       "4   [Nos termos do art. 18, §1° da Deliberação CON...   \n",
       "5   [Como regra, a autoridade competente para assi...   \n",
       "6   [Sim, o art. 7º da Deliberação CONSU-A-016/202...   \n",
       "7   [Em razão da inexistência de uma única lei ou ...   \n",
       "8   [Sim, a concessão de bolsas estímulo à inovaçã...   \n",
       "9   [A tramitação de convênio que só tenha a funda...   \n",
       "10  [O encerramento do processo deverá ocorrer apó...   \n",
       "11  [Não. Nos termos da Deliberação CAD-A-04/2003 ...   \n",
       "12  [A Resolução GR-028/2004 condiciona o uso da m...   \n",
       "13  [A Portaria GR-034/1995 dispõe sobre as condiç...   \n",
       "14  [Nos termos do artigo 4º da Portaria GR-034/19...   \n",
       "15  [As gravações das reuniões de órgãos colegiado...   \n",
       "16  [Quanto à divulgação dos áudios e vídeos das r...   \n",
       "17  [Nos termos da Lei Federal nº 12.527/2011, pau...   \n",
       "18  [O servidor técnico administrativo da UNICAMP ...   \n",
       "19  [O docente da UNICAMP em RDIDP ou em regime de...   \n",
       "20  [As sindicâncias administrativas deverão trami...   \n",
       "21  [Sindicância Administrativa é o meio de apuraç...   \n",
       "22  [Podem instaurar sindicância administrativa, n...   \n",
       "23  [A Sindicância deverá ser instaurada mediante ...   \n",
       "24  [Em geral, a ordem de convocação dos depoentes...   \n",
       "25  [Ao final da apuração, a Comissão de Sindicânc...   \n",
       "26  [Sim. Nesse momento de suspensão das atividade...   \n",
       "27  [Em se tratando de infrações disciplinares atr...   \n",
       "28  [Conforme previsto no artigo 235 do Regimento ...   \n",
       "29  [Tratando-se de Sindicância Investigativa (art...   \n",
       "30  [O coordenador do Grupo de Trabalho designado ...   \n",
       "31  [Baseado na informação retirada do Resolução G...   \n",
       "32  [O documento [Deliberação CAD-A-005/2023] menc...   \n",
       "33  [O objetivo principal do 'Prêmio Tese Destaque...   \n",
       "34  [Regulação, manutenção de licenças, normatizaç...   \n",
       "35  [As admissões, dispensas e demais atos referen...   \n",
       "36  [De acordo com a [Portaria GR-027/2021], 'o Re...   \n",
       "\n",
       "                                               answer  \\\n",
       "0   mediante a celebração de convênios, contratos ...   \n",
       "1   O procedimento para a celebração de convênios,...   \n",
       "2              Processos administrativos eletrônicos.   \n",
       "3   O Plano de Aplicação de Recursos é o documento...   \n",
       "4   Os executores de um convênio são servidores at...   \n",
       "5   As autoridades competentes para assinatura dos...   \n",
       "6                                                 sim   \n",
       "7   Quando se deseja alterar os termos do convênio...   \n",
       "8                                                 sim   \n",
       "9   Formalizar nos termos do artigo 2º e seguir a ...   \n",
       "10  O processo de convênio é encerrado com o encam...   \n",
       "11                                                Não   \n",
       "12  Deve ser obedecida às exigências estabelecidas...   \n",
       "13  As condições e forma de utilização da marca UN...   \n",
       "14  Sim, em caráter excepcional e após aprovação d...   \n",
       "15                                                sim   \n",
       "16                                                Não   \n",
       "17  Não há evidência de que as pautas, atas e deli...   \n",
       "18                                                sim   \n",
       "19                        Não, salvo exceções legais.   \n",
       "20  Por servidor ou comissão de servidores designa...   \n",
       "21  Quando um docente infringe qualquer das dispos...   \n",
       "22  A autoridade competente (Reitor ou autoridade ...   \n",
       "23  A composição da Comissão de Orçamento e Patrim...   \n",
       "24    sim, o sindicado deve ser ouvido primeiramente.   \n",
       "25                       Elaborar um Relatório Final.   \n",
       "26                                                sim   \n",
       "27  Processo Administrativo Disciplinar, que pode ...   \n",
       "28  Se houver dúvida quanto à natureza e gravidade...   \n",
       "29  Instaurar mediante Portaria da autoridade comp...   \n",
       "30                  Prof. Drª. Emília Wanda Rutkowski   \n",
       "31                 Diretor Executivo de Administração   \n",
       "32  Presidente da Comissão de Graduação, Coordenad...   \n",
       "33  O objetivo principal do 'Prêmio Tese Destaque ...   \n",
       "34  As competências do Escritório de Produtos Cont...   \n",
       "35                               O Reitor da UNICAMP.   \n",
       "36  Dra. Patrícia Regina Kitaka e outros membros n...   \n",
       "\n",
       "                                             contexts  answer_relevancy  \\\n",
       "0   [De acordo com o trecho 'A atuação da Universi...          0.491248   \n",
       "1   [De acordo com o trecho 'CAPÍTULO I – DISPOSIÇ...          0.505855   \n",
       "2   [De acordo com o trecho 'As propostas de convê...          0.257911   \n",
       "3   [De acordo com o trecho '[nan1]: O Plano de Ap...          0.821026   \n",
       "4   [De acordo com o trecho '1º  – Poderão figurar...          0.466763   \n",
       "5   [De acordo com o trecho 'Artigo 9º  – Fica del...          0.345204   \n",
       "6   [De acordo com o trecho 'Seção III – Das Trami...          0.512463   \n",
       "7   [De acordo com o trecho 'Em suma, independente...          0.696983   \n",
       "8   [De acordo com o trecho 'Artigo 1º  - A Unicam...          0.124859   \n",
       "9   [De acordo com o trecho 'O processo de convêni...          0.300364   \n",
       "10  [De acordo com o trecho 'Artigo 6º  – Concluíd...          0.488139   \n",
       "11  [De acordo com o trecho 'Não. Nos termos da De...          0.391371   \n",
       "12  [De acordo com o trecho 'Artigo 1º - A inserçã...          0.491113   \n",
       "13  [De acordo com a [Portaria GR-034/1995], as co...          0.373611   \n",
       "14  [De acordo com o trecho 'Artigo 4º - As unidad...          0.486987   \n",
       "15  [De acordo com o trecho 'Os áudios e vídeos da...          0.227346   \n",
       "16  [De acordo com a Cláusula 7.3 da [Deliberação ...          0.110224   \n",
       "17  [De acordo com o trecho '§ 2º  - O instrumento...          0.257461   \n",
       "18  [De acordo com o trecho 'comerciar ou ter part...          0.464951   \n",
       "19  [De acordo com o trecho 'vedado o exercício de...          0.275857   \n",
       "20  [De acordo com o trecho 'Artigo 18 6. A sindic...          0.470405   \n",
       "21  [De acordo com o trecho 'Artigo 20 - O docente...          0.079583   \n",
       "22  [De acordo com o trecho 'Artigo 18 6. A sindic...          0.345791   \n",
       "23  [De acordo com o trecho 'Artigo 11 – O Conselh...          0.399230   \n",
       "24  [De acordo com o trecho 'no caso de sindicânci...          0.254235   \n",
       "25  [De acordo com o trecho 'Ao final da apuração,...          0.440466   \n",
       "26  [De acordo com o trecho 'Sim. Nesse momento de...          0.284887   \n",
       "27  [De acordo com o trecho '§ 5º. Havendo dúvida ...          0.247886   \n",
       "28  [De acordo com o trecho '§ 5º. Havendo dúvida ...          0.162360   \n",
       "29  [De acordo com o trecho '§ 1º. A Sindicância I...          0.579226   \n",
       "30  [De acordo com o trecho 'Artigo 1º  - Fica con...          0.349767   \n",
       "31  [De acordo com o trecho 'j) conhecer e decidir...          0.100460   \n",
       "32  [De acordo com o trecho 'IV - pelo Presidente ...          0.392280   \n",
       "33  [De acordo com o trecho 'Artigo 1º  – Fica ins...          0.579451   \n",
       "34  [De acordo com o trecho 'Artigo 1º  - Fica cri...          0.604347   \n",
       "35  [De acordo com o trecho 'admitir e dar posse a...          0.411443   \n",
       "36  [De acordo com o trecho 'Artigo 1º - Ficam des...          0.576386   \n",
       "\n",
       "    faithfulness  context_recall  context_precision  \n",
       "0       1.000000        1.000000                1.0  \n",
       "1       1.000000        1.000000                1.0  \n",
       "2       1.000000        0.125000                1.0  \n",
       "3       1.000000        0.333333                1.0  \n",
       "4       1.000000        0.200000                1.0  \n",
       "5       1.000000        0.666667                0.0  \n",
       "6       1.000000        1.000000                1.0  \n",
       "7       1.000000        0.333333                1.0  \n",
       "8       1.000000        1.000000                1.0  \n",
       "9       1.000000        0.500000                1.0  \n",
       "10      1.000000        1.000000                1.0  \n",
       "11      1.000000        1.000000                1.0  \n",
       "12      1.000000        0.000000                1.0  \n",
       "13      1.000000        1.000000                1.0  \n",
       "14      1.000000        1.000000                1.0  \n",
       "15      1.000000        0.200000                1.0  \n",
       "16      1.000000        0.333333                0.0  \n",
       "17      1.000000        0.250000                0.0  \n",
       "18      0.500000        0.800000                1.0  \n",
       "19      1.000000        1.000000                1.0  \n",
       "20      1.000000        0.000000                1.0  \n",
       "21      1.000000        0.250000                1.0  \n",
       "22      0.500000        0.000000                1.0  \n",
       "23      1.000000        0.200000                0.0  \n",
       "24      1.000000        0.666667                1.0  \n",
       "25      1.000000        0.333333                1.0  \n",
       "26      1.000000        1.000000                1.0  \n",
       "27      0.500000        1.000000                1.0  \n",
       "28      1.000000        0.333333                0.0  \n",
       "29      0.833333        0.750000                1.0  \n",
       "30      1.000000        1.000000                1.0  \n",
       "31      1.000000        1.000000                1.0  \n",
       "32      1.000000        0.000000                0.0  \n",
       "33      1.000000        1.000000                1.0  \n",
       "34      1.000000        1.000000                1.0  \n",
       "35      1.000000        1.000000                1.0  \n",
       "36      1.000000        0.857143                1.0  "
      ]
     },
     "execution_count": 29,
     "metadata": {},
     "output_type": "execute_result"
    }
   ],
   "source": [
    "import pandas as pd\n",
    "df = pd.read_json(file_path)\n",
    "df"
   ]
  },
  {
   "cell_type": "code",
   "execution_count": 30,
   "metadata": {},
   "outputs": [
    {
     "name": "stdout",
     "output_type": "stream",
     "text": [
      "0.3883226907319026\n",
      "0.9549549549549549\n",
      "0.6251930501930502\n",
      "0.8378378377540538\n"
     ]
    }
   ],
   "source": [
    "print(df['answer_relevancy'].mean())\n",
    "print(df['faithfulness'].mean())\n",
    "print(df['context_recall'].mean())\n",
    "print(df['context_precision'].mean())"
   ]
  },
  {
   "cell_type": "code",
   "execution_count": null,
   "metadata": {},
   "outputs": [],
   "source": []
  }
 ],
 "metadata": {
  "kernelspec": {
   "display_name": "ia024_kernel",
   "language": "python",
   "name": "ia024_kernel"
  },
  "language_info": {
   "codemirror_mode": {
    "name": "ipython",
    "version": 3
   },
   "file_extension": ".py",
   "mimetype": "text/x-python",
   "name": "python",
   "nbconvert_exporter": "python",
   "pygments_lexer": "ipython3",
   "version": "3.12.2"
  }
 },
 "nbformat": 4,
 "nbformat_minor": 2
}
