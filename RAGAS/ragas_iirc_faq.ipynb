{
 "cells": [
  {
   "cell_type": "code",
   "execution_count": 1,
   "metadata": {},
   "outputs": [
    {
     "name": "stderr",
     "output_type": "stream",
     "text": [
      "/Users/victorgmoreno/miniconda3/envs/ia024/lib/python3.12/site-packages/tqdm/auto.py:21: TqdmWarning: IProgress not found. Please update jupyter and ipywidgets. See https://ipywidgets.readthedocs.io/en/stable/user_install.html\n",
      "  from .autonotebook import tqdm as notebook_tqdm\n"
     ]
    }
   ],
   "source": [
    "import requests\n",
    "import gdown\n",
    "import tarfile\n",
    "from bs4 import BeautifulSoup\n",
    "import json\n",
    "import time\n",
    "import random\n",
    "from tqdm import tqdm\n",
    "from rich.pretty import pprint\n",
    "import os\n",
    "\n",
    "import collections\n",
    "import re\n",
    "import string\n",
    "import unicodedata\n",
    "\n",
    "from datasets import Dataset\n",
    "from langchain_groq import ChatGroq\n",
    "from langchain_community.embeddings import HuggingFaceEmbeddings\n",
    "\n",
    "from ragas.metrics import (\n",
    "    answer_relevancy,\n",
    "    faithfulness,\n",
    "    context_recall,\n",
    "    context_precision,\n",
    "    context_relevancy,\n",
    "    answer_correctness,\n",
    "    answer_similarity\n",
    ")\n",
    "\n",
    "from ragas.metrics.critique import harmfulness\n",
    "import ragas.evaluation as ragas_eval\n",
    "\n",
    "from IPython.display import Markdown, display\n",
    "import pickle\n",
    "import pandas as pd\n",
    "\n",
    "GROQ_API_KEY = os.getenv(\"GROQ_API_KEY\")\n",
    "llm = ChatGroq(temperature=0, groq_api_key=GROQ_API_KEY, model_name=\"llama3-70b-8192\")\n",
    "embedder = HuggingFaceEmbeddings()"
   ]
  },
  {
   "cell_type": "markdown",
   "metadata": {},
   "source": [
    "# 1. Dataset Format"
   ]
  },
  {
   "cell_type": "code",
   "execution_count": 2,
   "metadata": {},
   "outputs": [],
   "source": [
    "def extract_evidence_and_answer(text):\n",
    "    try:\n",
    "        # Ajustando a expressão regular para ser mais flexível com espaços e quebras de linha\n",
    "        pattern = r\"Evidence:\\s*(.*?)\\s*\\n+\\s*Answer:\\s*(.*?)(?=.', ChatCompletion)\"\n",
    "        matches = re.search(pattern, text, re.DOTALL)\n",
    "\n",
    "        if not matches:\n",
    "            # Se não encontrar, tentar uma abordagem menos específica\n",
    "            pattern_loose = r\"Evidence:\\s*(.*?)\\s*Answer:\\s*(.*)\"\n",
    "            matches = re.search(pattern_loose, text, re.DOTALL)\n",
    "            if not matches:\n",
    "                raise ValueError(\"As seções 'Evidence' e 'Answer' não puderam ser encontradas no texto fornecido.\")\n",
    "\n",
    "        evidence = matches.group(1)\n",
    "        answer = matches.group(2)\n",
    "\n",
    "        return {\n",
    "            \"evidence\": evidence.strip(),\n",
    "            \"answer\": answer.strip()\n",
    "        }\n",
    "\n",
    "    except Exception as e:\n",
    "        print(f\"Erro ao extrair os componentes: {e}\")\n",
    "        return None"
   ]
  },
  {
   "cell_type": "code",
   "execution_count": 3,
   "metadata": {},
   "outputs": [],
   "source": [
    "# opens the pickle file\n",
    "with open(\"../input/Raw Text/Rag Data Experiments/experiment_6/respostas_obtidas.pickle_9\", 'rb') as input_file:\n",
    "    # loads the pickle file into a pandas DataFrame\n",
    "    dataset = pd.read_pickle(input_file)"
   ]
  },
  {
   "cell_type": "code",
   "execution_count": 4,
   "metadata": {},
   "outputs": [],
   "source": [
    "# iterando sobre todos os dados do FAQ atualizado para formatá-los\n",
    "dataset_organized = []\n",
    "for sample in dataset:\n",
    "    if 'resposta_obtida' in sample and isinstance(sample['resposta_obtida'], tuple):\n",
    "        \n",
    "        text = sample['resposta_obtida'][0]  # pegando Evidence e Answer das respostas do RAG - pega so o primeiro elemento da tupla, pra nao pegar o ChatCompletion\n",
    "        extracted_data = extract_evidence_and_answer(text)  # segmentando Evidence e Answer em formato dict \n",
    "        \n",
    "        if extracted_data:\n",
    "            organized_sample = {\n",
    "                'question': sample['pergunta'],  # pergunta do FAQ\n",
    "                'ground_truths': [sample['resposta_esperada']],  # resposta esperada do FAQ\n",
    "                'answer': extracted_data['answer'],  # resposta obtida, segmentada answer\n",
    "                'contexts': [extracted_data['evidence']]\n",
    "            }\n",
    "            dataset_organized.append(organized_sample)  # novo dataset organizado"
   ]
  },
  {
   "cell_type": "code",
   "execution_count": 5,
   "metadata": {},
   "outputs": [
    {
     "name": "stdout",
     "output_type": "stream",
     "text": [
      "Dataset organizado salvo com sucesso em ../input/Raw Text/Rag Data Experiments/experiment_6/RAG_dataset_IIRCformat.json!\n"
     ]
    }
   ],
   "source": [
    "# Salvando o dataset organizado em formato JSON\n",
    "file_path = '../input/Raw Text/Rag Data Experiments/experiment_6/RAG_dataset_IIRCformat.json'\n",
    "with open(file_path, 'w', encoding='utf-8') as file:\n",
    "    json.dump(dataset_organized, file, ensure_ascii=False, indent=4)\n",
    "\n",
    "print(f'Dataset organizado salvo com sucesso em {file_path}!')"
   ]
  },
  {
   "cell_type": "markdown",
   "metadata": {},
   "source": [
    "# RAGAS Implementation"
   ]
  },
  {
   "cell_type": "code",
   "execution_count": 6,
   "metadata": {},
   "outputs": [],
   "source": [
    "from datasets import Dataset\n",
    "import time\n",
    "\n",
    "def evaluate_per_sample(dataset_organized):\n",
    "    # Cria um Dataset para uso com a biblioteca 'ragas'\n",
    "    formated_dataset = Dataset.from_list(dataset_organized)\n",
    "\n",
    "    for i, sample in enumerate(dataset_organized):\n",
    "        # Seleciona cada amostra individualmente para avaliação\n",
    "        chunk = formated_dataset.select([i])\n",
    "        \n",
    "        # Avalia a amostra com as métricas definidas\n",
    "        result = ragas_eval.evaluate(dataset=chunk, metrics=[answer_relevancy, faithfulness, context_recall, context_precision], llm=llm, embeddings=embedder)\n",
    "        \n",
    "        # Atualiza o dicionário da amostra com os resultados das métricas\n",
    "        sample.update({\n",
    "            'answer_relevancy': result['answer_relevancy'],\n",
    "            'faithfulness': result['faithfulness'],\n",
    "            'context_recall': result['context_recall'],\n",
    "            'context_precision': result['context_precision']\n",
    "        })\n",
    "        \n",
    "        print(f\"Evaluating sample {i + 1}/{len(dataset_organized)}: {result}\")\n",
    "        time.sleep(60)  # Sleep 60 seconds after each sample evaluation to avoid overloading the system\n",
    "\n",
    "    return dataset_organized"
   ]
  },
  {
   "cell_type": "code",
   "execution_count": 7,
   "metadata": {},
   "outputs": [
    {
     "name": "stderr",
     "output_type": "stream",
     "text": [
      "passing column names as 'ground_truths' is deprecated and will be removed in the next version, please use 'ground_truth' instead. Note that `ground_truth` should be of type string and not Sequence[string] like `ground_truths`\n"
     ]
    },
    {
     "name": "stderr",
     "output_type": "stream",
     "text": [
      "Evaluating: 100%|██████████| 4/4 [00:51<00:00, 12.76s/it]\n"
     ]
    },
    {
     "name": "stdout",
     "output_type": "stream",
     "text": [
      "Evaluating sample 1/40: {'answer_relevancy': 0.6764, 'faithfulness': 1.0000, 'context_recall': 0.0000, 'context_precision': 0.0000}\n"
     ]
    },
    {
     "name": "stderr",
     "output_type": "stream",
     "text": [
      "passing column names as 'ground_truths' is deprecated and will be removed in the next version, please use 'ground_truth' instead. Note that `ground_truth` should be of type string and not Sequence[string] like `ground_truths`\n",
      "Evaluating: 100%|██████████| 4/4 [00:02<00:00,  1.66it/s]\n"
     ]
    },
    {
     "name": "stdout",
     "output_type": "stream",
     "text": [
      "Evaluating sample 2/40: {'answer_relevancy': 0.5130, 'faithfulness': 1.0000, 'context_recall': 1.0000, 'context_precision': 1.0000}\n"
     ]
    },
    {
     "name": "stderr",
     "output_type": "stream",
     "text": [
      "passing column names as 'ground_truths' is deprecated and will be removed in the next version, please use 'ground_truth' instead. Note that `ground_truth` should be of type string and not Sequence[string] like `ground_truths`\n",
      "Evaluating: 100%|██████████| 4/4 [00:25<00:00,  6.41s/it]\n"
     ]
    },
    {
     "name": "stdout",
     "output_type": "stream",
     "text": [
      "Evaluating sample 3/40: {'answer_relevancy': 0.4271, 'faithfulness': 1.0000, 'context_recall': 1.0000, 'context_precision': 1.0000}\n"
     ]
    },
    {
     "name": "stderr",
     "output_type": "stream",
     "text": [
      "passing column names as 'ground_truths' is deprecated and will be removed in the next version, please use 'ground_truth' instead. Note that `ground_truth` should be of type string and not Sequence[string] like `ground_truths`\n",
      "Evaluating: 100%|██████████| 4/4 [00:03<00:00,  1.09it/s]\n"
     ]
    },
    {
     "name": "stdout",
     "output_type": "stream",
     "text": [
      "Evaluating sample 4/40: {'answer_relevancy': 0.2616, 'faithfulness': 1.0000, 'context_recall': 0.2500, 'context_precision': 1.0000}\n"
     ]
    },
    {
     "name": "stderr",
     "output_type": "stream",
     "text": [
      "passing column names as 'ground_truths' is deprecated and will be removed in the next version, please use 'ground_truth' instead. Note that `ground_truth` should be of type string and not Sequence[string] like `ground_truths`\n",
      "Evaluating: 100%|██████████| 4/4 [00:04<00:00,  1.03s/it]\n"
     ]
    },
    {
     "name": "stdout",
     "output_type": "stream",
     "text": [
      "Evaluating sample 5/40: {'answer_relevancy': 0.7513, 'faithfulness': 1.0000, 'context_recall': 0.6667, 'context_precision': 1.0000}\n"
     ]
    },
    {
     "name": "stderr",
     "output_type": "stream",
     "text": [
      "passing column names as 'ground_truths' is deprecated and will be removed in the next version, please use 'ground_truth' instead. Note that `ground_truth` should be of type string and not Sequence[string] like `ground_truths`\n",
      "Evaluating: 100%|██████████| 4/4 [00:04<00:00,  1.17s/it]\n"
     ]
    },
    {
     "name": "stdout",
     "output_type": "stream",
     "text": [
      "Evaluating sample 6/40: {'answer_relevancy': 0.4649, 'faithfulness': 0.8333, 'context_recall': 1.0000, 'context_precision': 1.0000}\n"
     ]
    },
    {
     "name": "stderr",
     "output_type": "stream",
     "text": [
      "passing column names as 'ground_truths' is deprecated and will be removed in the next version, please use 'ground_truth' instead. Note that `ground_truth` should be of type string and not Sequence[string] like `ground_truths`\n",
      "Evaluating: 100%|██████████| 4/4 [00:09<00:00,  2.49s/it]\n"
     ]
    },
    {
     "name": "stdout",
     "output_type": "stream",
     "text": [
      "Evaluating sample 7/40: {'answer_relevancy': 0.3452, 'faithfulness': 1.0000, 'context_recall': 1.0000, 'context_precision': 1.0000}\n"
     ]
    },
    {
     "name": "stderr",
     "output_type": "stream",
     "text": [
      "passing column names as 'ground_truths' is deprecated and will be removed in the next version, please use 'ground_truth' instead. Note that `ground_truth` should be of type string and not Sequence[string] like `ground_truths`\n",
      "Evaluating: 100%|██████████| 4/4 [00:04<00:00,  1.09s/it]\n"
     ]
    },
    {
     "name": "stdout",
     "output_type": "stream",
     "text": [
      "Evaluating sample 8/40: {'answer_relevancy': 0.3483, 'faithfulness': 1.0000, 'context_recall': 0.6364, 'context_precision': 1.0000}\n"
     ]
    },
    {
     "name": "stderr",
     "output_type": "stream",
     "text": [
      "passing column names as 'ground_truths' is deprecated and will be removed in the next version, please use 'ground_truth' instead. Note that `ground_truth` should be of type string and not Sequence[string] like `ground_truths`\n",
      "Evaluating: 100%|██████████| 4/4 [00:06<00:00,  1.56s/it]\n"
     ]
    },
    {
     "name": "stdout",
     "output_type": "stream",
     "text": [
      "Evaluating sample 9/40: {'answer_relevancy': 0.6970, 'faithfulness': 1.0000, 'context_recall': 0.3333, 'context_precision': 1.0000}\n"
     ]
    },
    {
     "name": "stderr",
     "output_type": "stream",
     "text": [
      "passing column names as 'ground_truths' is deprecated and will be removed in the next version, please use 'ground_truth' instead. Note that `ground_truth` should be of type string and not Sequence[string] like `ground_truths`\n",
      "Evaluating: 100%|██████████| 4/4 [00:04<00:00,  1.09s/it]\n"
     ]
    },
    {
     "name": "stdout",
     "output_type": "stream",
     "text": [
      "Evaluating sample 10/40: {'answer_relevancy': 0.1314, 'faithfulness': 1.0000, 'context_recall': 1.0000, 'context_precision': 1.0000}\n"
     ]
    },
    {
     "name": "stderr",
     "output_type": "stream",
     "text": [
      "passing column names as 'ground_truths' is deprecated and will be removed in the next version, please use 'ground_truth' instead. Note that `ground_truth` should be of type string and not Sequence[string] like `ground_truths`\n",
      "Evaluating: 100%|██████████| 4/4 [00:04<00:00,  1.04s/it]\n"
     ]
    },
    {
     "name": "stdout",
     "output_type": "stream",
     "text": [
      "Evaluating sample 11/40: {'answer_relevancy': 0.2110, 'faithfulness': 1.0000, 'context_recall': 1.0000, 'context_precision': 1.0000}\n"
     ]
    },
    {
     "name": "stderr",
     "output_type": "stream",
     "text": [
      "passing column names as 'ground_truths' is deprecated and will be removed in the next version, please use 'ground_truth' instead. Note that `ground_truth` should be of type string and not Sequence[string] like `ground_truths`\n",
      "Evaluating: 100%|██████████| 4/4 [00:20<00:00,  5.04s/it]\n"
     ]
    },
    {
     "name": "stdout",
     "output_type": "stream",
     "text": [
      "Evaluating sample 12/40: {'answer_relevancy': 0.3347, 'faithfulness': 0.2000, 'context_recall': 1.0000, 'context_precision': 1.0000}\n"
     ]
    },
    {
     "name": "stderr",
     "output_type": "stream",
     "text": [
      "passing column names as 'ground_truths' is deprecated and will be removed in the next version, please use 'ground_truth' instead. Note that `ground_truth` should be of type string and not Sequence[string] like `ground_truths`\n",
      "Evaluating: 100%|██████████| 4/4 [00:02<00:00,  1.70it/s]\n"
     ]
    },
    {
     "name": "stdout",
     "output_type": "stream",
     "text": [
      "Evaluating sample 13/40: {'answer_relevancy': 0.3893, 'faithfulness': 1.0000, 'context_recall': 1.0000, 'context_precision': 1.0000}\n"
     ]
    },
    {
     "name": "stderr",
     "output_type": "stream",
     "text": [
      "passing column names as 'ground_truths' is deprecated and will be removed in the next version, please use 'ground_truth' instead. Note that `ground_truth` should be of type string and not Sequence[string] like `ground_truths`\n",
      "Evaluating: 100%|██████████| 4/4 [00:03<00:00,  1.28it/s]\n"
     ]
    },
    {
     "name": "stdout",
     "output_type": "stream",
     "text": [
      "Evaluating sample 14/40: {'answer_relevancy': 0.5021, 'faithfulness': 1.0000, 'context_recall': 0.4000, 'context_precision': 1.0000}\n"
     ]
    },
    {
     "name": "stderr",
     "output_type": "stream",
     "text": [
      "passing column names as 'ground_truths' is deprecated and will be removed in the next version, please use 'ground_truth' instead. Note that `ground_truth` should be of type string and not Sequence[string] like `ground_truths`\n",
      "Evaluating: 100%|██████████| 4/4 [00:08<00:00,  2.15s/it]\n"
     ]
    },
    {
     "name": "stdout",
     "output_type": "stream",
     "text": [
      "Evaluating sample 15/40: {'answer_relevancy': 0.3725, 'faithfulness': 1.0000, 'context_recall': 1.0000, 'context_precision': 1.0000}\n"
     ]
    },
    {
     "name": "stderr",
     "output_type": "stream",
     "text": [
      "passing column names as 'ground_truths' is deprecated and will be removed in the next version, please use 'ground_truth' instead. Note that `ground_truth` should be of type string and not Sequence[string] like `ground_truths`\n",
      "Evaluating: 100%|██████████| 4/4 [00:05<00:00,  1.27s/it]\n"
     ]
    },
    {
     "name": "stdout",
     "output_type": "stream",
     "text": [
      "Evaluating sample 16/40: {'answer_relevancy': 0.0000, 'faithfulness': 0.0000, 'context_recall': 0.6667, 'context_precision': 0.0000}\n"
     ]
    },
    {
     "name": "stderr",
     "output_type": "stream",
     "text": [
      "passing column names as 'ground_truths' is deprecated and will be removed in the next version, please use 'ground_truth' instead. Note that `ground_truth` should be of type string and not Sequence[string] like `ground_truths`\n",
      "Evaluating: 100%|██████████| 4/4 [00:10<00:00,  2.54s/it]\n"
     ]
    },
    {
     "name": "stdout",
     "output_type": "stream",
     "text": [
      "Evaluating sample 17/40: {'answer_relevancy': 0.4870, 'faithfulness': 1.0000, 'context_recall': 1.0000, 'context_precision': 1.0000}\n"
     ]
    },
    {
     "name": "stderr",
     "output_type": "stream",
     "text": [
      "passing column names as 'ground_truths' is deprecated and will be removed in the next version, please use 'ground_truth' instead. Note that `ground_truth` should be of type string and not Sequence[string] like `ground_truths`\n",
      "Evaluating: 100%|██████████| 4/4 [00:02<00:00,  1.48it/s]\n"
     ]
    },
    {
     "name": "stdout",
     "output_type": "stream",
     "text": [
      "Evaluating sample 18/40: {'answer_relevancy': 0.1567, 'faithfulness': 1.0000, 'context_recall': 0.3333, 'context_precision': 1.0000}\n"
     ]
    },
    {
     "name": "stderr",
     "output_type": "stream",
     "text": [
      "passing column names as 'ground_truths' is deprecated and will be removed in the next version, please use 'ground_truth' instead. Note that `ground_truth` should be of type string and not Sequence[string] like `ground_truths`\n",
      "Evaluating: 100%|██████████| 4/4 [00:09<00:00,  2.35s/it]\n"
     ]
    },
    {
     "name": "stdout",
     "output_type": "stream",
     "text": [
      "Evaluating sample 19/40: {'answer_relevancy': 0.2277, 'faithfulness': 1.0000, 'context_recall': 0.5000, 'context_precision': 0.0000}\n"
     ]
    },
    {
     "name": "stderr",
     "output_type": "stream",
     "text": [
      "passing column names as 'ground_truths' is deprecated and will be removed in the next version, please use 'ground_truth' instead. Note that `ground_truth` should be of type string and not Sequence[string] like `ground_truths`\n",
      "Evaluating: 100%|██████████| 4/4 [00:05<00:00,  1.41s/it]\n"
     ]
    },
    {
     "name": "stdout",
     "output_type": "stream",
     "text": [
      "Evaluating sample 20/40: {'answer_relevancy': 0.2361, 'faithfulness': 1.0000, 'context_recall': 0.0000, 'context_precision': 0.0000}\n"
     ]
    },
    {
     "name": "stderr",
     "output_type": "stream",
     "text": [
      "passing column names as 'ground_truths' is deprecated and will be removed in the next version, please use 'ground_truth' instead. Note that `ground_truth` should be of type string and not Sequence[string] like `ground_truths`\n",
      "Evaluating: 100%|██████████| 4/4 [00:05<00:00,  1.36s/it]\n"
     ]
    },
    {
     "name": "stdout",
     "output_type": "stream",
     "text": [
      "Evaluating sample 21/40: {'answer_relevancy': 0.4368, 'faithfulness': 0.6667, 'context_recall': 1.0000, 'context_precision': 1.0000}\n"
     ]
    },
    {
     "name": "stderr",
     "output_type": "stream",
     "text": [
      "passing column names as 'ground_truths' is deprecated and will be removed in the next version, please use 'ground_truth' instead. Note that `ground_truth` should be of type string and not Sequence[string] like `ground_truths`\n",
      "Evaluating: 100%|██████████| 4/4 [00:03<00:00,  1.03it/s]\n"
     ]
    },
    {
     "name": "stdout",
     "output_type": "stream",
     "text": [
      "Evaluating sample 22/40: {'answer_relevancy': 0.1847, 'faithfulness': 1.0000, 'context_recall': 1.0000, 'context_precision': 1.0000}\n"
     ]
    },
    {
     "name": "stderr",
     "output_type": "stream",
     "text": [
      "passing column names as 'ground_truths' is deprecated and will be removed in the next version, please use 'ground_truth' instead. Note that `ground_truth` should be of type string and not Sequence[string] like `ground_truths`\n",
      "Evaluating: 100%|██████████| 4/4 [00:05<00:00,  1.33s/it]\n"
     ]
    },
    {
     "name": "stdout",
     "output_type": "stream",
     "text": [
      "Evaluating sample 23/40: {'answer_relevancy': 0.4654, 'faithfulness': 1.0000, 'context_recall': 0.0000, 'context_precision': 0.0000}\n"
     ]
    },
    {
     "name": "stderr",
     "output_type": "stream",
     "text": [
      "passing column names as 'ground_truths' is deprecated and will be removed in the next version, please use 'ground_truth' instead. Note that `ground_truth` should be of type string and not Sequence[string] like `ground_truths`\n",
      "Evaluating: 100%|██████████| 4/4 [00:05<00:00,  1.27s/it]\n"
     ]
    },
    {
     "name": "stdout",
     "output_type": "stream",
     "text": [
      "Evaluating sample 24/40: {'answer_relevancy': 0.6888, 'faithfulness': 1.0000, 'context_recall': 0.2500, 'context_precision': 0.0000}\n"
     ]
    },
    {
     "name": "stderr",
     "output_type": "stream",
     "text": [
      "passing column names as 'ground_truths' is deprecated and will be removed in the next version, please use 'ground_truth' instead. Note that `ground_truth` should be of type string and not Sequence[string] like `ground_truths`\n",
      "Evaluating: 100%|██████████| 4/4 [00:11<00:00,  2.80s/it]\n"
     ]
    },
    {
     "name": "stdout",
     "output_type": "stream",
     "text": [
      "Evaluating sample 25/40: {'answer_relevancy': 0.4201, 'faithfulness': 0.5000, 'context_recall': 0.0000, 'context_precision': 1.0000}\n"
     ]
    },
    {
     "name": "stderr",
     "output_type": "stream",
     "text": [
      "passing column names as 'ground_truths' is deprecated and will be removed in the next version, please use 'ground_truth' instead. Note that `ground_truth` should be of type string and not Sequence[string] like `ground_truths`\n",
      "Evaluating: 100%|██████████| 4/4 [00:02<00:00,  1.50it/s]\n"
     ]
    },
    {
     "name": "stdout",
     "output_type": "stream",
     "text": [
      "Evaluating sample 26/40: {'answer_relevancy': 0.5073, 'faithfulness': 1.0000, 'context_recall': 0.0000, 'context_precision': 0.0000}\n"
     ]
    },
    {
     "name": "stderr",
     "output_type": "stream",
     "text": [
      "passing column names as 'ground_truths' is deprecated and will be removed in the next version, please use 'ground_truth' instead. Note that `ground_truth` should be of type string and not Sequence[string] like `ground_truths`\n",
      "Evaluating: 100%|██████████| 4/4 [00:03<00:00,  1.11it/s]\n"
     ]
    },
    {
     "name": "stdout",
     "output_type": "stream",
     "text": [
      "Evaluating sample 27/40: {'answer_relevancy': 0.1404, 'faithfulness': 1.0000, 'context_recall': 0.0000, 'context_precision': 0.0000}\n"
     ]
    },
    {
     "name": "stderr",
     "output_type": "stream",
     "text": [
      "passing column names as 'ground_truths' is deprecated and will be removed in the next version, please use 'ground_truth' instead. Note that `ground_truth` should be of type string and not Sequence[string] like `ground_truths`\n",
      "Evaluating: 100%|██████████| 4/4 [00:03<00:00,  1.31it/s]\n"
     ]
    },
    {
     "name": "stdout",
     "output_type": "stream",
     "text": [
      "Evaluating sample 28/40: {'answer_relevancy': 0.2770, 'faithfulness': 1.0000, 'context_recall': 0.6667, 'context_precision': 1.0000}\n"
     ]
    },
    {
     "name": "stderr",
     "output_type": "stream",
     "text": [
      "passing column names as 'ground_truths' is deprecated and will be removed in the next version, please use 'ground_truth' instead. Note that `ground_truth` should be of type string and not Sequence[string] like `ground_truths`\n",
      "Evaluating: 100%|██████████| 4/4 [00:02<00:00,  1.63it/s]\n"
     ]
    },
    {
     "name": "stdout",
     "output_type": "stream",
     "text": [
      "Evaluating sample 29/40: {'answer_relevancy': 0.3472, 'faithfulness': 1.0000, 'context_recall': 0.6667, 'context_precision': 1.0000}\n"
     ]
    },
    {
     "name": "stderr",
     "output_type": "stream",
     "text": [
      "passing column names as 'ground_truths' is deprecated and will be removed in the next version, please use 'ground_truth' instead. Note that `ground_truth` should be of type string and not Sequence[string] like `ground_truths`\n",
      "Evaluating: 100%|██████████| 4/4 [00:07<00:00,  1.92s/it]\n"
     ]
    },
    {
     "name": "stdout",
     "output_type": "stream",
     "text": [
      "Evaluating sample 30/40: {'answer_relevancy': 0.3163, 'faithfulness': 1.0000, 'context_recall': 0.6667, 'context_precision': 1.0000}\n"
     ]
    },
    {
     "name": "stderr",
     "output_type": "stream",
     "text": [
      "passing column names as 'ground_truths' is deprecated and will be removed in the next version, please use 'ground_truth' instead. Note that `ground_truth` should be of type string and not Sequence[string] like `ground_truths`\n",
      "Evaluating: 100%|██████████| 4/4 [00:04<00:00,  1.25s/it]\n"
     ]
    },
    {
     "name": "stdout",
     "output_type": "stream",
     "text": [
      "Evaluating sample 31/40: {'answer_relevancy': 0.3690, 'faithfulness': 1.0000, 'context_recall': 0.7500, 'context_precision': 1.0000}\n"
     ]
    },
    {
     "name": "stderr",
     "output_type": "stream",
     "text": [
      "passing column names as 'ground_truths' is deprecated and will be removed in the next version, please use 'ground_truth' instead. Note that `ground_truth` should be of type string and not Sequence[string] like `ground_truths`\n",
      "Evaluating: 100%|██████████| 4/4 [00:03<00:00,  1.11it/s]\n"
     ]
    },
    {
     "name": "stdout",
     "output_type": "stream",
     "text": [
      "Evaluating sample 32/40: {'answer_relevancy': 0.1689, 'faithfulness': 0.3333, 'context_recall': 0.3333, 'context_precision': 0.0000}\n"
     ]
    },
    {
     "name": "stderr",
     "output_type": "stream",
     "text": [
      "passing column names as 'ground_truths' is deprecated and will be removed in the next version, please use 'ground_truth' instead. Note that `ground_truth` should be of type string and not Sequence[string] like `ground_truths`\n",
      "Evaluating: 100%|██████████| 4/4 [00:19<00:00,  4.97s/it]\n"
     ]
    },
    {
     "name": "stdout",
     "output_type": "stream",
     "text": [
      "Evaluating sample 33/40: {'answer_relevancy': 0.6626, 'faithfulness': 1.0000, 'context_recall': 0.6667, 'context_precision': 1.0000}\n"
     ]
    },
    {
     "name": "stderr",
     "output_type": "stream",
     "text": [
      "passing column names as 'ground_truths' is deprecated and will be removed in the next version, please use 'ground_truth' instead. Note that `ground_truth` should be of type string and not Sequence[string] like `ground_truths`\n",
      "Evaluating: 100%|██████████| 4/4 [00:03<00:00,  1.18it/s]\n"
     ]
    },
    {
     "name": "stdout",
     "output_type": "stream",
     "text": [
      "Evaluating sample 34/40: {'answer_relevancy': 0.3473, 'faithfulness': 1.0000, 'context_recall': 1.0000, 'context_precision': 1.0000}\n"
     ]
    },
    {
     "name": "stderr",
     "output_type": "stream",
     "text": [
      "passing column names as 'ground_truths' is deprecated and will be removed in the next version, please use 'ground_truth' instead. Note that `ground_truth` should be of type string and not Sequence[string] like `ground_truths`\n",
      "Evaluating: 100%|██████████| 4/4 [00:06<00:00,  1.51s/it]\n"
     ]
    },
    {
     "name": "stdout",
     "output_type": "stream",
     "text": [
      "Evaluating sample 35/40: {'answer_relevancy': 0.1170, 'faithfulness': 1.0000, 'context_recall': 0.0000, 'context_precision': 1.0000}\n"
     ]
    },
    {
     "name": "stderr",
     "output_type": "stream",
     "text": [
      "passing column names as 'ground_truths' is deprecated and will be removed in the next version, please use 'ground_truth' instead. Note that `ground_truth` should be of type string and not Sequence[string] like `ground_truths`\n",
      "Evaluating: 100%|██████████| 4/4 [00:04<00:00,  1.08s/it]\n"
     ]
    },
    {
     "name": "stdout",
     "output_type": "stream",
     "text": [
      "Evaluating sample 36/40: {'answer_relevancy': 0.3371, 'faithfulness': 1.0000, 'context_recall': 0.5000, 'context_precision': 1.0000}\n"
     ]
    },
    {
     "name": "stderr",
     "output_type": "stream",
     "text": [
      "passing column names as 'ground_truths' is deprecated and will be removed in the next version, please use 'ground_truth' instead. Note that `ground_truth` should be of type string and not Sequence[string] like `ground_truths`\n",
      "Evaluating: 100%|██████████| 4/4 [00:03<00:00,  1.19it/s]\n"
     ]
    },
    {
     "name": "stdout",
     "output_type": "stream",
     "text": [
      "Evaluating sample 37/40: {'answer_relevancy': 0.5795, 'faithfulness': 1.0000, 'context_recall': 1.0000, 'context_precision': 1.0000}\n"
     ]
    },
    {
     "name": "stderr",
     "output_type": "stream",
     "text": [
      "passing column names as 'ground_truths' is deprecated and will be removed in the next version, please use 'ground_truth' instead. Note that `ground_truth` should be of type string and not Sequence[string] like `ground_truths`\n",
      "Evaluating: 100%|██████████| 4/4 [00:31<00:00,  7.78s/it]\n"
     ]
    },
    {
     "name": "stdout",
     "output_type": "stream",
     "text": [
      "Evaluating sample 38/40: {'answer_relevancy': 0.5026, 'faithfulness': 1.0000, 'context_recall': 1.0000, 'context_precision': 1.0000}\n"
     ]
    },
    {
     "name": "stderr",
     "output_type": "stream",
     "text": [
      "passing column names as 'ground_truths' is deprecated and will be removed in the next version, please use 'ground_truth' instead. Note that `ground_truth` should be of type string and not Sequence[string] like `ground_truths`\n",
      "Evaluating: 100%|██████████| 4/4 [00:02<00:00,  1.51it/s]\n"
     ]
    },
    {
     "name": "stdout",
     "output_type": "stream",
     "text": [
      "Evaluating sample 39/40: {'answer_relevancy': 0.3023, 'faithfulness': 1.0000, 'context_recall': 1.0000, 'context_precision': 1.0000}\n"
     ]
    },
    {
     "name": "stderr",
     "output_type": "stream",
     "text": [
      "passing column names as 'ground_truths' is deprecated and will be removed in the next version, please use 'ground_truth' instead. Note that `ground_truth` should be of type string and not Sequence[string] like `ground_truths`\n",
      "Evaluating: 100%|██████████| 4/4 [00:03<00:00,  1.09it/s]\n"
     ]
    },
    {
     "name": "stdout",
     "output_type": "stream",
     "text": [
      "Evaluating sample 40/40: {'answer_relevancy': 0.5839, 'faithfulness': 0.6667, 'context_recall': 1.0000, 'context_precision': 1.0000}\n"
     ]
    }
   ],
   "source": [
    "# dataset_organized should be defined and filled with the required data before calling this function\n",
    "updated_dataset = evaluate_per_sample(dataset_organized)"
   ]
  },
  {
   "cell_type": "code",
   "execution_count": 8,
   "metadata": {},
   "outputs": [
    {
     "name": "stdout",
     "output_type": "stream",
     "text": [
      "Dataset organizado salvo com sucesso em ../input/Raw Text/dataset/RAG_FinalDataset_experiment_6.json!\n"
     ]
    }
   ],
   "source": [
    "# Salvando o dataset organizado em formato JSON\n",
    "file_path = '../input/Raw Text/dataset/RAG_FinalDataset_experiment_6.json'\n",
    "with open(file_path, 'w', encoding='utf-8') as file:\n",
    "    json.dump(updated_dataset, file, ensure_ascii=False, indent=5)\n",
    "\n",
    "print(f'Dataset organizado salvo com sucesso em {file_path}!')"
   ]
  },
  {
   "cell_type": "code",
   "execution_count": 9,
   "metadata": {},
   "outputs": [
    {
     "data": {
      "text/html": [
       "<div>\n",
       "<style scoped>\n",
       "    .dataframe tbody tr th:only-of-type {\n",
       "        vertical-align: middle;\n",
       "    }\n",
       "\n",
       "    .dataframe tbody tr th {\n",
       "        vertical-align: top;\n",
       "    }\n",
       "\n",
       "    .dataframe thead th {\n",
       "        text-align: right;\n",
       "    }\n",
       "</style>\n",
       "<table border=\"1\" class=\"dataframe\">\n",
       "  <thead>\n",
       "    <tr style=\"text-align: right;\">\n",
       "      <th></th>\n",
       "      <th>question</th>\n",
       "      <th>ground_truths</th>\n",
       "      <th>answer</th>\n",
       "      <th>contexts</th>\n",
       "      <th>answer_relevancy</th>\n",
       "      <th>faithfulness</th>\n",
       "      <th>context_recall</th>\n",
       "      <th>context_precision</th>\n",
       "    </tr>\n",
       "  </thead>\n",
       "  <tbody>\n",
       "    <tr>\n",
       "      <th>0</th>\n",
       "      <td>Em quais hipóteses a Procuradoria Geral pode e...</td>\n",
       "      <td>[A Procuradoria Geral da UNICAMP integra a Adv...</td>\n",
       "      <td>Não há hipóteses estabelecidas para a Procurad...</td>\n",
       "      <td>[A Constituição Federal não estabelece hipótes...</td>\n",
       "      <td>0.676441</td>\n",
       "      <td>1.000000</td>\n",
       "      <td>0.000000</td>\n",
       "      <td>0.0</td>\n",
       "    </tr>\n",
       "    <tr>\n",
       "      <th>1</th>\n",
       "      <td>Como ocorrem as atividades de cooperação, pesq...</td>\n",
       "      <td>[Nos termos do art. 1° da Deliberação CONSU-A-...</td>\n",
       "      <td>Mediante prévia celebração de convênios, contr...</td>\n",
       "      <td>[De acordo com a Deliberação CONSU-A-016/2022,...</td>\n",
       "      <td>0.513008</td>\n",
       "      <td>1.000000</td>\n",
       "      <td>1.000000</td>\n",
       "      <td>1.0</td>\n",
       "    </tr>\n",
       "    <tr>\n",
       "      <th>2</th>\n",
       "      <td>Qual é o procedimento para a celebração de con...</td>\n",
       "      <td>[Na Unicamp, a celebração de convênios, contra...</td>\n",
       "      <td>O procedimento para a celebração de convênios,...</td>\n",
       "      <td>[De acordo com a Deliberação CONSU-A-016/2022,...</td>\n",
       "      <td>0.427053</td>\n",
       "      <td>1.000000</td>\n",
       "      <td>1.000000</td>\n",
       "      <td>1.0</td>\n",
       "    </tr>\n",
       "    <tr>\n",
       "      <th>3</th>\n",
       "      <td>Qual é o sistema utilizado para a tramitação d...</td>\n",
       "      <td>[Os documentos essenciais estão elencados no a...</td>\n",
       "      <td>Processos administrativos eletrônicos.</td>\n",
       "      <td>[De acordo com o trecho \"As propostas de convê...</td>\n",
       "      <td>0.261580</td>\n",
       "      <td>1.000000</td>\n",
       "      <td>0.250000</td>\n",
       "      <td>1.0</td>\n",
       "    </tr>\n",
       "    <tr>\n",
       "      <th>4</th>\n",
       "      <td>O que é o Plano de Aplicação de Recursos?</td>\n",
       "      <td>[O Plano de Aplicação de Recursos é o document...</td>\n",
       "      <td>O Plano de Aplicação de Recursos é um document...</td>\n",
       "      <td>[O Plano de Aplicação de Recursos é o document...</td>\n",
       "      <td>0.751340</td>\n",
       "      <td>1.000000</td>\n",
       "      <td>0.666667</td>\n",
       "      <td>1.0</td>\n",
       "    </tr>\n",
       "    <tr>\n",
       "      <th>5</th>\n",
       "      <td>Quem pode ser executor de um convênio e quais ...</td>\n",
       "      <td>[Nos termos do art. 18, §1° da Deliberação CON...</td>\n",
       "      <td>Os executores dos convênios são servidores ati...</td>\n",
       "      <td>[De acordo com a [Deliberação CONSU-A-016/2022...</td>\n",
       "      <td>0.464884</td>\n",
       "      <td>0.833333</td>\n",
       "      <td>1.000000</td>\n",
       "      <td>1.0</td>\n",
       "    </tr>\n",
       "    <tr>\n",
       "      <th>6</th>\n",
       "      <td>Quem é a autoridade competente para assinatura...</td>\n",
       "      <td>[Como regra, a autoridade competente para assi...</td>\n",
       "      <td>As autoridades competentes para assinatura dos...</td>\n",
       "      <td>[De acordo com o Art. 9º da [Deliberação CONSU...</td>\n",
       "      <td>0.345204</td>\n",
       "      <td>1.000000</td>\n",
       "      <td>1.000000</td>\n",
       "      <td>1.0</td>\n",
       "    </tr>\n",
       "    <tr>\n",
       "      <th>7</th>\n",
       "      <td>Existe uma tramitação simplificada para aprova...</td>\n",
       "      <td>[Sim, o art. 7º da Deliberação CONSU-A-016/202...</td>\n",
       "      <td>Sim</td>\n",
       "      <td>[Sim, existem tramitações simplificadas para a...</td>\n",
       "      <td>0.348290</td>\n",
       "      <td>1.000000</td>\n",
       "      <td>0.636364</td>\n",
       "      <td>1.0</td>\n",
       "    </tr>\n",
       "    <tr>\n",
       "      <th>8</th>\n",
       "      <td>Quando se deve utilizar um Termo Aditivo a um ...</td>\n",
       "      <td>[Em razão da inexistência de uma única lei ou ...</td>\n",
       "      <td>Quando o objetivo é alterar os termos do convê...</td>\n",
       "      <td>[De acordo com [nan2], um Termo Aditivo deve s...</td>\n",
       "      <td>0.696983</td>\n",
       "      <td>1.000000</td>\n",
       "      <td>0.333333</td>\n",
       "      <td>1.0</td>\n",
       "    </tr>\n",
       "    <tr>\n",
       "      <th>9</th>\n",
       "      <td>É possível que o convênio preveja o pagamento ...</td>\n",
       "      <td>[Sim, a concessão de bolsas estímulo à inovaçã...</td>\n",
       "      <td>Sim</td>\n",
       "      <td>[Sim, é possível que o convênio preveja o paga...</td>\n",
       "      <td>0.131411</td>\n",
       "      <td>1.000000</td>\n",
       "      <td>1.000000</td>\n",
       "      <td>1.0</td>\n",
       "    </tr>\n",
       "    <tr>\n",
       "      <th>10</th>\n",
       "      <td>Como ocorre a tramitação de convênio com insti...</td>\n",
       "      <td>[A tramitação de convênio que só tenha a funda...</td>\n",
       "      <td>A tramitação do convênio ocorre de acordo com ...</td>\n",
       "      <td>[De acordo com a [Deliberação CONSU-A-016/2022...</td>\n",
       "      <td>0.211002</td>\n",
       "      <td>1.000000</td>\n",
       "      <td>1.000000</td>\n",
       "      <td>1.0</td>\n",
       "    </tr>\n",
       "    <tr>\n",
       "      <th>11</th>\n",
       "      <td>A execução foi concluída. Como se encerra o pr...</td>\n",
       "      <td>[O encerramento do processo deverá ocorrer apó...</td>\n",
       "      <td>O processo de convênio é encerrado com a submi...</td>\n",
       "      <td>[Concluída a aprovação na Unidade ou Órgão, o ...</td>\n",
       "      <td>0.334660</td>\n",
       "      <td>0.200000</td>\n",
       "      <td>1.000000</td>\n",
       "      <td>1.0</td>\n",
       "    </tr>\n",
       "    <tr>\n",
       "      <th>12</th>\n",
       "      <td>As manifestações emitidas por servidores, doce...</td>\n",
       "      <td>[Não. Nos termos da Deliberação CAD-A-04/2003 ...</td>\n",
       "      <td>Não</td>\n",
       "      <td>[Não, as manifestações emitidas por servidores...</td>\n",
       "      <td>0.389333</td>\n",
       "      <td>1.000000</td>\n",
       "      <td>1.000000</td>\n",
       "      <td>1.0</td>\n",
       "    </tr>\n",
       "    <tr>\n",
       "      <th>13</th>\n",
       "      <td>Qual procedimento deve ser adotado para utiliz...</td>\n",
       "      <td>[A Resolução GR-028/2004 condiciona o uso da m...</td>\n",
       "      <td>A utilização do logotipo da UNICAMP deve obede...</td>\n",
       "      <td>[De acordo com a [Portaria GR-034/1995], Artig...</td>\n",
       "      <td>0.502140</td>\n",
       "      <td>1.000000</td>\n",
       "      <td>0.400000</td>\n",
       "      <td>1.0</td>\n",
       "    </tr>\n",
       "    <tr>\n",
       "      <th>14</th>\n",
       "      <td>Quais as condições e a forma de utilização da ...</td>\n",
       "      <td>[A Portaria GR-034/1995 dispõe sobre as condiç...</td>\n",
       "      <td>As condições e forma de utilização da marca UN...</td>\n",
       "      <td>[De acordo com a [Portaria GR-034/1995], as co...</td>\n",
       "      <td>0.372469</td>\n",
       "      <td>1.000000</td>\n",
       "      <td>1.000000</td>\n",
       "      <td>1.0</td>\n",
       "    </tr>\n",
       "    <tr>\n",
       "      <th>15</th>\n",
       "      <td>É possível estilizar o logo da UNICAMP?</td>\n",
       "      <td>[Não. Nos termos da Portaria GR-034/1995, a ma...</td>\n",
       "      <td>Não há informação suficiente para responder à ...</td>\n",
       "      <td>[Não há menção à estilização do logo da UNICAM...</td>\n",
       "      <td>0.000000</td>\n",
       "      <td>0.000000</td>\n",
       "      <td>0.666667</td>\n",
       "      <td>0.0</td>\n",
       "    </tr>\n",
       "    <tr>\n",
       "      <th>16</th>\n",
       "      <td>As unidades e órgãos universitários podem util...</td>\n",
       "      <td>[Nos termos do artigo 4º da Portaria GR-034/19...</td>\n",
       "      <td>Sim, em caráter excepcional e após aprovação d...</td>\n",
       "      <td>[Sim, as unidades universitárias podem utiliza...</td>\n",
       "      <td>0.486987</td>\n",
       "      <td>1.000000</td>\n",
       "      <td>1.000000</td>\n",
       "      <td>1.0</td>\n",
       "    </tr>\n",
       "    <tr>\n",
       "      <th>17</th>\n",
       "      <td>As reuniões de órgãos colegiados da UNICAMP po...</td>\n",
       "      <td>[As gravações das reuniões de órgãos colegiado...</td>\n",
       "      <td>Sim</td>\n",
       "      <td>[Sim, as reuniões de órgãos colegiados da Unic...</td>\n",
       "      <td>0.156659</td>\n",
       "      <td>1.000000</td>\n",
       "      <td>0.333333</td>\n",
       "      <td>1.0</td>\n",
       "    </tr>\n",
       "    <tr>\n",
       "      <th>18</th>\n",
       "      <td>As gravações podem ser disponibilizadas a terc...</td>\n",
       "      <td>[Quanto à divulgação dos áudios e vídeos das r...</td>\n",
       "      <td>Não</td>\n",
       "      <td>[Não, de acordo com a Cláusula 7.3 da [Deliber...</td>\n",
       "      <td>0.227719</td>\n",
       "      <td>1.000000</td>\n",
       "      <td>0.500000</td>\n",
       "      <td>0.0</td>\n",
       "    </tr>\n",
       "    <tr>\n",
       "      <th>19</th>\n",
       "      <td>As pautas, atas e deliberações dos órgãos cole...</td>\n",
       "      <td>[Nos termos da Lei Federal nº 12.527/2011, pau...</td>\n",
       "      <td>A divulgação de pautas, atas e deliberações do...</td>\n",
       "      <td>[A Deliberação CAD-A-002/2020 não estabelece r...</td>\n",
       "      <td>0.236142</td>\n",
       "      <td>1.000000</td>\n",
       "      <td>0.000000</td>\n",
       "      <td>0.0</td>\n",
       "    </tr>\n",
       "    <tr>\n",
       "      <th>20</th>\n",
       "      <td>Servidor técnico-administrativo da UNICAMP pod...</td>\n",
       "      <td>[O servidor técnico administrativo da UNICAMP ...</td>\n",
       "      <td>Sim, o servidor técnico-administrativo da UNIC...</td>\n",
       "      <td>[De acordo com a [Resolução GR-051/2019], Art....</td>\n",
       "      <td>0.436827</td>\n",
       "      <td>0.666667</td>\n",
       "      <td>1.000000</td>\n",
       "      <td>1.0</td>\n",
       "    </tr>\n",
       "    <tr>\n",
       "      <th>21</th>\n",
       "      <td>Docente da UNICAMP em RDIDP ou regime de dedic...</td>\n",
       "      <td>[O docente da UNICAMP em RDIDP ou em regime de...</td>\n",
       "      <td>Não</td>\n",
       "      <td>[Não, de acordo com o trecho \"vedado o exercíc...</td>\n",
       "      <td>0.184741</td>\n",
       "      <td>1.000000</td>\n",
       "      <td>1.000000</td>\n",
       "      <td>1.0</td>\n",
       "    </tr>\n",
       "    <tr>\n",
       "      <th>22</th>\n",
       "      <td>Como tramitam as sindicâncias administrativas ...</td>\n",
       "      <td>[As sindicâncias administrativas deverão trami...</td>\n",
       "      <td>As sindicâncias administrativas no âmbito da U...</td>\n",
       "      <td>[De acordo com o [esunicamp], Art. 18, a sindi...</td>\n",
       "      <td>0.465350</td>\n",
       "      <td>1.000000</td>\n",
       "      <td>0.000000</td>\n",
       "      <td>0.0</td>\n",
       "    </tr>\n",
       "    <tr>\n",
       "      <th>23</th>\n",
       "      <td>Em quais hipóteses deve ser instaurada sindicâ...</td>\n",
       "      <td>[Sindicância Administrativa é o meio de apuraç...</td>\n",
       "      <td>Em caso de infração às disposições que regulam...</td>\n",
       "      <td>[De acordo com o Art. 20 da [Deliberação CONSU...</td>\n",
       "      <td>0.688793</td>\n",
       "      <td>1.000000</td>\n",
       "      <td>0.250000</td>\n",
       "      <td>0.0</td>\n",
       "    </tr>\n",
       "    <tr>\n",
       "      <th>24</th>\n",
       "      <td>Quem tem competência para instaurar sindicânci...</td>\n",
       "      <td>[Podem instaurar sindicância administrativa, n...</td>\n",
       "      <td>A autoridade competente para instaurar sindicâ...</td>\n",
       "      <td>[A autoridade competente para instaurar sindic...</td>\n",
       "      <td>0.420086</td>\n",
       "      <td>0.500000</td>\n",
       "      <td>0.000000</td>\n",
       "      <td>1.0</td>\n",
       "    </tr>\n",
       "    <tr>\n",
       "      <th>25</th>\n",
       "      <td>Como deve ser a composição da Comissão?</td>\n",
       "      <td>[A Sindicância deverá ser instaurada mediante ...</td>\n",
       "      <td>A composição da Comissão de Legislação e Norma...</td>\n",
       "      <td>[A composição da Comissão de Legislação e Norm...</td>\n",
       "      <td>0.507270</td>\n",
       "      <td>1.000000</td>\n",
       "      <td>0.000000</td>\n",
       "      <td>0.0</td>\n",
       "    </tr>\n",
       "    <tr>\n",
       "      <th>26</th>\n",
       "      <td>Qual o prazo de funcionamento da Comissão?</td>\n",
       "      <td>[A sindicância deverá ser concluída em 30 (tri...</td>\n",
       "      <td>Não há um prazo de funcionamento específico pa...</td>\n",
       "      <td>[Não há um prazo de funcionamento específico p...</td>\n",
       "      <td>0.140375</td>\n",
       "      <td>1.000000</td>\n",
       "      <td>0.000000</td>\n",
       "      <td>0.0</td>\n",
       "    </tr>\n",
       "    <tr>\n",
       "      <th>27</th>\n",
       "      <td>Há ordem específica para oitiva dos investigad...</td>\n",
       "      <td>[Em geral, a ordem de convocação dos depoentes...</td>\n",
       "      <td>Sim</td>\n",
       "      <td>[Sim, há recomendação para que o sindicado (in...</td>\n",
       "      <td>0.276971</td>\n",
       "      <td>1.000000</td>\n",
       "      <td>0.666667</td>\n",
       "      <td>1.0</td>\n",
       "    </tr>\n",
       "    <tr>\n",
       "      <th>28</th>\n",
       "      <td>Ao final da apuração, como deve proceder a Com...</td>\n",
       "      <td>[Ao final da apuração, a Comissão de Sindicânc...</td>\n",
       "      <td>A Comissão de Sindicância irá elaborar Relatór...</td>\n",
       "      <td>[Ao final da apuração, a Comissão de Sindicânc...</td>\n",
       "      <td>0.347231</td>\n",
       "      <td>1.000000</td>\n",
       "      <td>0.666667</td>\n",
       "      <td>1.0</td>\n",
       "    </tr>\n",
       "    <tr>\n",
       "      <th>29</th>\n",
       "      <td>Durante o período de suspensão das atividades ...</td>\n",
       "      <td>[Sim. Nesse momento de suspensão das atividade...</td>\n",
       "      <td>Sim</td>\n",
       "      <td>[Sim, durante o período de suspensão das ativi...</td>\n",
       "      <td>0.316327</td>\n",
       "      <td>1.000000</td>\n",
       "      <td>0.666667</td>\n",
       "      <td>1.0</td>\n",
       "    </tr>\n",
       "    <tr>\n",
       "      <th>30</th>\n",
       "      <td>No caso de apuração de faltas disciplinares at...</td>\n",
       "      <td>[Em se tratando de infrações disciplinares atr...</td>\n",
       "      <td>A apuração de faltas disciplinares atribuídas ...</td>\n",
       "      <td>[De acordo com o [REGIMENTO GERAL DA UNIVERSID...</td>\n",
       "      <td>0.369031</td>\n",
       "      <td>1.000000</td>\n",
       "      <td>0.750000</td>\n",
       "      <td>1.0</td>\n",
       "    </tr>\n",
       "    <tr>\n",
       "      <th>31</th>\n",
       "      <td>Como saber qual procedimento deve ser instaurado?</td>\n",
       "      <td>[Conforme previsto no artigo 235 do Regimento ...</td>\n",
       "      <td>Em caso de dúvida sobre a natureza e gravidade...</td>\n",
       "      <td>[De acordo com o [REGIMENTO GERAL DA UNIVERSID...</td>\n",
       "      <td>0.168947</td>\n",
       "      <td>0.333333</td>\n",
       "      <td>0.333333</td>\n",
       "      <td>0.0</td>\n",
       "    </tr>\n",
       "    <tr>\n",
       "      <th>32</th>\n",
       "      <td>Em se tratando de Sindicância Investigativa, c...</td>\n",
       "      <td>[Tratando-se de Sindicância Investigativa (art...</td>\n",
       "      <td>A Sindicância Investigativa é conduzida median...</td>\n",
       "      <td>[A Sindicância Investigativa visa apurar irreg...</td>\n",
       "      <td>0.662571</td>\n",
       "      <td>1.000000</td>\n",
       "      <td>0.666667</td>\n",
       "      <td>1.0</td>\n",
       "    </tr>\n",
       "    <tr>\n",
       "      <th>33</th>\n",
       "      <td>Quem coordenará o Grupo de Trabalho responsáve...</td>\n",
       "      <td>[O coordenador do Grupo de Trabalho designado ...</td>\n",
       "      <td>Prof. Drª. Emília Wanda Rutkowski.</td>\n",
       "      <td>[De acordo com a [Portaria GR-069/2020], o Gru...</td>\n",
       "      <td>0.347308</td>\n",
       "      <td>1.000000</td>\n",
       "      <td>1.000000</td>\n",
       "      <td>1.0</td>\n",
       "    </tr>\n",
       "    <tr>\n",
       "      <th>34</th>\n",
       "      <td>Quem é o responsável por decidir os recursos i...</td>\n",
       "      <td>[Baseado na informação retirada do Resolução G...</td>\n",
       "      <td>O Diretor Executivo de Administração é o respo...</td>\n",
       "      <td>[De acordo com a [Resolução GR-018/2018], Art....</td>\n",
       "      <td>0.116961</td>\n",
       "      <td>1.000000</td>\n",
       "      <td>0.000000</td>\n",
       "      <td>1.0</td>\n",
       "    </tr>\n",
       "    <tr>\n",
       "      <th>35</th>\n",
       "      <td>Quem são os responsáveis pela coordenação das ...</td>\n",
       "      <td>[O documento [Deliberação CAD-A-005/2023] menc...</td>\n",
       "      <td>Os responsáveis pela coordenação das comissões...</td>\n",
       "      <td>[De acordo com a [Deliberação CAD-A-005/2023],...</td>\n",
       "      <td>0.337059</td>\n",
       "      <td>1.000000</td>\n",
       "      <td>0.500000</td>\n",
       "      <td>1.0</td>\n",
       "    </tr>\n",
       "    <tr>\n",
       "      <th>36</th>\n",
       "      <td>Qual é o objetivo principal do 'Prêmio Tese De...</td>\n",
       "      <td>[O objetivo principal do 'Prêmio Tese Destaque...</td>\n",
       "      <td>O objetivo principal do \"Prêmio Tese Destaque ...</td>\n",
       "      <td>[De acordo com a [Deliberação CONSU-A-034/2022...</td>\n",
       "      <td>0.579451</td>\n",
       "      <td>1.000000</td>\n",
       "      <td>1.000000</td>\n",
       "      <td>1.0</td>\n",
       "    </tr>\n",
       "    <tr>\n",
       "      <th>37</th>\n",
       "      <td>Quais são as competências atribuídas ao Escrit...</td>\n",
       "      <td>[Regulação, manutenção de licenças, normatizaç...</td>\n",
       "      <td>As competências do Escritório de Produtos Cont...</td>\n",
       "      <td>[De acordo com a [Resolução GR-011/2022], Arti...</td>\n",
       "      <td>0.502644</td>\n",
       "      <td>1.000000</td>\n",
       "      <td>1.000000</td>\n",
       "      <td>1.0</td>\n",
       "    </tr>\n",
       "    <tr>\n",
       "      <th>38</th>\n",
       "      <td>Quem pode admitir servidores na UNICAMP?</td>\n",
       "      <td>[As admissões, dispensas e demais atos referen...</td>\n",
       "      <td>O Reitor da UNICAMP tem a competência para adm...</td>\n",
       "      <td>[De acordo com o [REGIMENTO GERAL DA UNIVERSID...</td>\n",
       "      <td>0.302267</td>\n",
       "      <td>1.000000</td>\n",
       "      <td>1.000000</td>\n",
       "      <td>1.0</td>\n",
       "    </tr>\n",
       "    <tr>\n",
       "      <th>39</th>\n",
       "      <td>Quem são os novos membros designados para a Co...</td>\n",
       "      <td>[De acordo com a [Portaria GR-027/2021], 'o Re...</td>\n",
       "      <td>Dra. Patrícia Regina Kitaka – Divisão de Biopr...</td>\n",
       "      <td>[De acordo com a Portaria GR-027/2021, Artigo ...</td>\n",
       "      <td>0.583872</td>\n",
       "      <td>0.666667</td>\n",
       "      <td>1.000000</td>\n",
       "      <td>1.0</td>\n",
       "    </tr>\n",
       "  </tbody>\n",
       "</table>\n",
       "</div>"
      ],
      "text/plain": [
       "                                             question  \\\n",
       "0   Em quais hipóteses a Procuradoria Geral pode e...   \n",
       "1   Como ocorrem as atividades de cooperação, pesq...   \n",
       "2   Qual é o procedimento para a celebração de con...   \n",
       "3   Qual é o sistema utilizado para a tramitação d...   \n",
       "4           O que é o Plano de Aplicação de Recursos?   \n",
       "5   Quem pode ser executor de um convênio e quais ...   \n",
       "6   Quem é a autoridade competente para assinatura...   \n",
       "7   Existe uma tramitação simplificada para aprova...   \n",
       "8   Quando se deve utilizar um Termo Aditivo a um ...   \n",
       "9   É possível que o convênio preveja o pagamento ...   \n",
       "10  Como ocorre a tramitação de convênio com insti...   \n",
       "11  A execução foi concluída. Como se encerra o pr...   \n",
       "12  As manifestações emitidas por servidores, doce...   \n",
       "13  Qual procedimento deve ser adotado para utiliz...   \n",
       "14  Quais as condições e a forma de utilização da ...   \n",
       "15            É possível estilizar o logo da UNICAMP?   \n",
       "16  As unidades e órgãos universitários podem util...   \n",
       "17  As reuniões de órgãos colegiados da UNICAMP po...   \n",
       "18  As gravações podem ser disponibilizadas a terc...   \n",
       "19  As pautas, atas e deliberações dos órgãos cole...   \n",
       "20  Servidor técnico-administrativo da UNICAMP pod...   \n",
       "21  Docente da UNICAMP em RDIDP ou regime de dedic...   \n",
       "22  Como tramitam as sindicâncias administrativas ...   \n",
       "23  Em quais hipóteses deve ser instaurada sindicâ...   \n",
       "24  Quem tem competência para instaurar sindicânci...   \n",
       "25            Como deve ser a composição da Comissão?   \n",
       "26         Qual o prazo de funcionamento da Comissão?   \n",
       "27  Há ordem específica para oitiva dos investigad...   \n",
       "28  Ao final da apuração, como deve proceder a Com...   \n",
       "29  Durante o período de suspensão das atividades ...   \n",
       "30  No caso de apuração de faltas disciplinares at...   \n",
       "31  Como saber qual procedimento deve ser instaurado?   \n",
       "32  Em se tratando de Sindicância Investigativa, c...   \n",
       "33  Quem coordenará o Grupo de Trabalho responsáve...   \n",
       "34  Quem é o responsável por decidir os recursos i...   \n",
       "35  Quem são os responsáveis pela coordenação das ...   \n",
       "36  Qual é o objetivo principal do 'Prêmio Tese De...   \n",
       "37  Quais são as competências atribuídas ao Escrit...   \n",
       "38           Quem pode admitir servidores na UNICAMP?   \n",
       "39  Quem são os novos membros designados para a Co...   \n",
       "\n",
       "                                        ground_truths  \\\n",
       "0   [A Procuradoria Geral da UNICAMP integra a Adv...   \n",
       "1   [Nos termos do art. 1° da Deliberação CONSU-A-...   \n",
       "2   [Na Unicamp, a celebração de convênios, contra...   \n",
       "3   [Os documentos essenciais estão elencados no a...   \n",
       "4   [O Plano de Aplicação de Recursos é o document...   \n",
       "5   [Nos termos do art. 18, §1° da Deliberação CON...   \n",
       "6   [Como regra, a autoridade competente para assi...   \n",
       "7   [Sim, o art. 7º da Deliberação CONSU-A-016/202...   \n",
       "8   [Em razão da inexistência de uma única lei ou ...   \n",
       "9   [Sim, a concessão de bolsas estímulo à inovaçã...   \n",
       "10  [A tramitação de convênio que só tenha a funda...   \n",
       "11  [O encerramento do processo deverá ocorrer apó...   \n",
       "12  [Não. Nos termos da Deliberação CAD-A-04/2003 ...   \n",
       "13  [A Resolução GR-028/2004 condiciona o uso da m...   \n",
       "14  [A Portaria GR-034/1995 dispõe sobre as condiç...   \n",
       "15  [Não. Nos termos da Portaria GR-034/1995, a ma...   \n",
       "16  [Nos termos do artigo 4º da Portaria GR-034/19...   \n",
       "17  [As gravações das reuniões de órgãos colegiado...   \n",
       "18  [Quanto à divulgação dos áudios e vídeos das r...   \n",
       "19  [Nos termos da Lei Federal nº 12.527/2011, pau...   \n",
       "20  [O servidor técnico administrativo da UNICAMP ...   \n",
       "21  [O docente da UNICAMP em RDIDP ou em regime de...   \n",
       "22  [As sindicâncias administrativas deverão trami...   \n",
       "23  [Sindicância Administrativa é o meio de apuraç...   \n",
       "24  [Podem instaurar sindicância administrativa, n...   \n",
       "25  [A Sindicância deverá ser instaurada mediante ...   \n",
       "26  [A sindicância deverá ser concluída em 30 (tri...   \n",
       "27  [Em geral, a ordem de convocação dos depoentes...   \n",
       "28  [Ao final da apuração, a Comissão de Sindicânc...   \n",
       "29  [Sim. Nesse momento de suspensão das atividade...   \n",
       "30  [Em se tratando de infrações disciplinares atr...   \n",
       "31  [Conforme previsto no artigo 235 do Regimento ...   \n",
       "32  [Tratando-se de Sindicância Investigativa (art...   \n",
       "33  [O coordenador do Grupo de Trabalho designado ...   \n",
       "34  [Baseado na informação retirada do Resolução G...   \n",
       "35  [O documento [Deliberação CAD-A-005/2023] menc...   \n",
       "36  [O objetivo principal do 'Prêmio Tese Destaque...   \n",
       "37  [Regulação, manutenção de licenças, normatizaç...   \n",
       "38  [As admissões, dispensas e demais atos referen...   \n",
       "39  [De acordo com a [Portaria GR-027/2021], 'o Re...   \n",
       "\n",
       "                                               answer  \\\n",
       "0   Não há hipóteses estabelecidas para a Procurad...   \n",
       "1   Mediante prévia celebração de convênios, contr...   \n",
       "2   O procedimento para a celebração de convênios,...   \n",
       "3              Processos administrativos eletrônicos.   \n",
       "4   O Plano de Aplicação de Recursos é um document...   \n",
       "5   Os executores dos convênios são servidores ati...   \n",
       "6   As autoridades competentes para assinatura dos...   \n",
       "7                                                 Sim   \n",
       "8   Quando o objetivo é alterar os termos do convê...   \n",
       "9                                                 Sim   \n",
       "10  A tramitação do convênio ocorre de acordo com ...   \n",
       "11  O processo de convênio é encerrado com a submi...   \n",
       "12                                                Não   \n",
       "13  A utilização do logotipo da UNICAMP deve obede...   \n",
       "14  As condições e forma de utilização da marca UN...   \n",
       "15  Não há informação suficiente para responder à ...   \n",
       "16  Sim, em caráter excepcional e após aprovação d...   \n",
       "17                                                Sim   \n",
       "18                                                Não   \n",
       "19  A divulgação de pautas, atas e deliberações do...   \n",
       "20  Sim, o servidor técnico-administrativo da UNIC...   \n",
       "21                                                Não   \n",
       "22  As sindicâncias administrativas no âmbito da U...   \n",
       "23  Em caso de infração às disposições que regulam...   \n",
       "24  A autoridade competente para instaurar sindicâ...   \n",
       "25  A composição da Comissão de Legislação e Norma...   \n",
       "26  Não há um prazo de funcionamento específico pa...   \n",
       "27                                                Sim   \n",
       "28  A Comissão de Sindicância irá elaborar Relatór...   \n",
       "29                                                Sim   \n",
       "30  A apuração de faltas disciplinares atribuídas ...   \n",
       "31  Em caso de dúvida sobre a natureza e gravidade...   \n",
       "32  A Sindicância Investigativa é conduzida median...   \n",
       "33                 Prof. Drª. Emília Wanda Rutkowski.   \n",
       "34  O Diretor Executivo de Administração é o respo...   \n",
       "35  Os responsáveis pela coordenação das comissões...   \n",
       "36  O objetivo principal do \"Prêmio Tese Destaque ...   \n",
       "37  As competências do Escritório de Produtos Cont...   \n",
       "38  O Reitor da UNICAMP tem a competência para adm...   \n",
       "39  Dra. Patrícia Regina Kitaka – Divisão de Biopr...   \n",
       "\n",
       "                                             contexts  answer_relevancy  \\\n",
       "0   [A Constituição Federal não estabelece hipótes...          0.676441   \n",
       "1   [De acordo com a Deliberação CONSU-A-016/2022,...          0.513008   \n",
       "2   [De acordo com a Deliberação CONSU-A-016/2022,...          0.427053   \n",
       "3   [De acordo com o trecho \"As propostas de convê...          0.261580   \n",
       "4   [O Plano de Aplicação de Recursos é o document...          0.751340   \n",
       "5   [De acordo com a [Deliberação CONSU-A-016/2022...          0.464884   \n",
       "6   [De acordo com o Art. 9º da [Deliberação CONSU...          0.345204   \n",
       "7   [Sim, existem tramitações simplificadas para a...          0.348290   \n",
       "8   [De acordo com [nan2], um Termo Aditivo deve s...          0.696983   \n",
       "9   [Sim, é possível que o convênio preveja o paga...          0.131411   \n",
       "10  [De acordo com a [Deliberação CONSU-A-016/2022...          0.211002   \n",
       "11  [Concluída a aprovação na Unidade ou Órgão, o ...          0.334660   \n",
       "12  [Não, as manifestações emitidas por servidores...          0.389333   \n",
       "13  [De acordo com a [Portaria GR-034/1995], Artig...          0.502140   \n",
       "14  [De acordo com a [Portaria GR-034/1995], as co...          0.372469   \n",
       "15  [Não há menção à estilização do logo da UNICAM...          0.000000   \n",
       "16  [Sim, as unidades universitárias podem utiliza...          0.486987   \n",
       "17  [Sim, as reuniões de órgãos colegiados da Unic...          0.156659   \n",
       "18  [Não, de acordo com a Cláusula 7.3 da [Deliber...          0.227719   \n",
       "19  [A Deliberação CAD-A-002/2020 não estabelece r...          0.236142   \n",
       "20  [De acordo com a [Resolução GR-051/2019], Art....          0.436827   \n",
       "21  [Não, de acordo com o trecho \"vedado o exercíc...          0.184741   \n",
       "22  [De acordo com o [esunicamp], Art. 18, a sindi...          0.465350   \n",
       "23  [De acordo com o Art. 20 da [Deliberação CONSU...          0.688793   \n",
       "24  [A autoridade competente para instaurar sindic...          0.420086   \n",
       "25  [A composição da Comissão de Legislação e Norm...          0.507270   \n",
       "26  [Não há um prazo de funcionamento específico p...          0.140375   \n",
       "27  [Sim, há recomendação para que o sindicado (in...          0.276971   \n",
       "28  [Ao final da apuração, a Comissão de Sindicânc...          0.347231   \n",
       "29  [Sim, durante o período de suspensão das ativi...          0.316327   \n",
       "30  [De acordo com o [REGIMENTO GERAL DA UNIVERSID...          0.369031   \n",
       "31  [De acordo com o [REGIMENTO GERAL DA UNIVERSID...          0.168947   \n",
       "32  [A Sindicância Investigativa visa apurar irreg...          0.662571   \n",
       "33  [De acordo com a [Portaria GR-069/2020], o Gru...          0.347308   \n",
       "34  [De acordo com a [Resolução GR-018/2018], Art....          0.116961   \n",
       "35  [De acordo com a [Deliberação CAD-A-005/2023],...          0.337059   \n",
       "36  [De acordo com a [Deliberação CONSU-A-034/2022...          0.579451   \n",
       "37  [De acordo com a [Resolução GR-011/2022], Arti...          0.502644   \n",
       "38  [De acordo com o [REGIMENTO GERAL DA UNIVERSID...          0.302267   \n",
       "39  [De acordo com a Portaria GR-027/2021, Artigo ...          0.583872   \n",
       "\n",
       "    faithfulness  context_recall  context_precision  \n",
       "0       1.000000        0.000000                0.0  \n",
       "1       1.000000        1.000000                1.0  \n",
       "2       1.000000        1.000000                1.0  \n",
       "3       1.000000        0.250000                1.0  \n",
       "4       1.000000        0.666667                1.0  \n",
       "5       0.833333        1.000000                1.0  \n",
       "6       1.000000        1.000000                1.0  \n",
       "7       1.000000        0.636364                1.0  \n",
       "8       1.000000        0.333333                1.0  \n",
       "9       1.000000        1.000000                1.0  \n",
       "10      1.000000        1.000000                1.0  \n",
       "11      0.200000        1.000000                1.0  \n",
       "12      1.000000        1.000000                1.0  \n",
       "13      1.000000        0.400000                1.0  \n",
       "14      1.000000        1.000000                1.0  \n",
       "15      0.000000        0.666667                0.0  \n",
       "16      1.000000        1.000000                1.0  \n",
       "17      1.000000        0.333333                1.0  \n",
       "18      1.000000        0.500000                0.0  \n",
       "19      1.000000        0.000000                0.0  \n",
       "20      0.666667        1.000000                1.0  \n",
       "21      1.000000        1.000000                1.0  \n",
       "22      1.000000        0.000000                0.0  \n",
       "23      1.000000        0.250000                0.0  \n",
       "24      0.500000        0.000000                1.0  \n",
       "25      1.000000        0.000000                0.0  \n",
       "26      1.000000        0.000000                0.0  \n",
       "27      1.000000        0.666667                1.0  \n",
       "28      1.000000        0.666667                1.0  \n",
       "29      1.000000        0.666667                1.0  \n",
       "30      1.000000        0.750000                1.0  \n",
       "31      0.333333        0.333333                0.0  \n",
       "32      1.000000        0.666667                1.0  \n",
       "33      1.000000        1.000000                1.0  \n",
       "34      1.000000        0.000000                1.0  \n",
       "35      1.000000        0.500000                1.0  \n",
       "36      1.000000        1.000000                1.0  \n",
       "37      1.000000        1.000000                1.0  \n",
       "38      1.000000        1.000000                1.0  \n",
       "39      0.666667        1.000000                1.0  "
      ]
     },
     "execution_count": 9,
     "metadata": {},
     "output_type": "execute_result"
    }
   ],
   "source": [
    "import pandas as pd\n",
    "df = pd.read_json(file_path)\n",
    "df"
   ]
  },
  {
   "cell_type": "code",
   "execution_count": 10,
   "metadata": {},
   "outputs": [
    {
     "name": "stdout",
     "output_type": "stream",
     "text": [
      "0.38218471354330974\n",
      "0.905\n",
      "0.6321590909090908\n",
      "0.7749999999225\n"
     ]
    }
   ],
   "source": [
    "print(df['answer_relevancy'].mean())\n",
    "print(df['faithfulness'].mean())\n",
    "print(df['context_recall'].mean())\n",
    "print(df['context_precision'].mean())"
   ]
  },
  {
   "cell_type": "code",
   "execution_count": null,
   "metadata": {},
   "outputs": [],
   "source": []
  }
 ],
 "metadata": {
  "kernelspec": {
   "display_name": "ia024_kernel",
   "language": "python",
   "name": "ia024_kernel"
  },
  "language_info": {
   "codemirror_mode": {
    "name": "ipython",
    "version": 3
   },
   "file_extension": ".py",
   "mimetype": "text/x-python",
   "name": "python",
   "nbconvert_exporter": "python",
   "pygments_lexer": "ipython3",
   "version": "3.12.2"
  }
 },
 "nbformat": 4,
 "nbformat_minor": 2
}
