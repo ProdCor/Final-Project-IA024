{
 "cells": [
  {
   "cell_type": "code",
   "execution_count": 1,
   "metadata": {},
   "outputs": [
    {
     "name": "stderr",
     "output_type": "stream",
     "text": [
      "/Users/victorgmoreno/miniconda3/envs/ia024/lib/python3.12/site-packages/tqdm/auto.py:21: TqdmWarning: IProgress not found. Please update jupyter and ipywidgets. See https://ipywidgets.readthedocs.io/en/stable/user_install.html\n",
      "  from .autonotebook import tqdm as notebook_tqdm\n"
     ]
    }
   ],
   "source": [
    "import requests\n",
    "import gdown\n",
    "import tarfile\n",
    "from bs4 import BeautifulSoup\n",
    "import json\n",
    "import time\n",
    "import random\n",
    "from tqdm import tqdm\n",
    "from rich.pretty import pprint\n",
    "import os\n",
    "\n",
    "import collections\n",
    "import re\n",
    "import string\n",
    "import unicodedata\n",
    "\n",
    "from datasets import Dataset\n",
    "from langchain_groq import ChatGroq\n",
    "from langchain_community.embeddings import HuggingFaceEmbeddings\n",
    "\n",
    "from ragas.metrics import (\n",
    "    answer_relevancy,\n",
    "    faithfulness,\n",
    "    context_recall,\n",
    "    context_precision,\n",
    "    context_relevancy,\n",
    "    answer_correctness,\n",
    "    answer_similarity\n",
    ")\n",
    "\n",
    "from ragas.metrics.critique import harmfulness\n",
    "import ragas.evaluation as ragas_eval\n",
    "\n",
    "from IPython.display import Markdown, display\n",
    "import pickle\n",
    "import pandas as pd\n",
    "\n",
    "GROQ_API_KEY = os.getenv(\"GROQ_API_KEY\")\n",
    "llm = ChatGroq(temperature=0, groq_api_key=GROQ_API_KEY, model_name=\"llama3-70b-8192\")\n",
    "embedder = HuggingFaceEmbeddings()"
   ]
  },
  {
   "cell_type": "markdown",
   "metadata": {},
   "source": [
    "# 1. Dataset Format"
   ]
  },
  {
   "cell_type": "code",
   "execution_count": 2,
   "metadata": {},
   "outputs": [],
   "source": [
    "def extract_evidence_and_answer(text):\n",
    "    try:\n",
    "        # Ajustando a expressão regular para ser mais flexível com espaços e quebras de linha\n",
    "        pattern = r\"Evidence:\\s*(.*?)\\s*\\n+\\s*Answer:\\s*(.*?)(?=.', ChatCompletion)\"\n",
    "        matches = re.search(pattern, text, re.DOTALL)\n",
    "\n",
    "        if not matches:\n",
    "            # Se não encontrar, tentar uma abordagem menos específica\n",
    "            pattern_loose = r\"Evidence:\\s*(.*?)\\s*Answer:\\s*(.*)\"\n",
    "            matches = re.search(pattern_loose, text, re.DOTALL)\n",
    "            if not matches:\n",
    "                raise ValueError(\"As seções 'Evidence' e 'Answer' não puderam ser encontradas no texto fornecido.\")\n",
    "\n",
    "        evidence = matches.group(1)\n",
    "        answer = matches.group(2)\n",
    "\n",
    "        return {\n",
    "            \"evidence\": evidence.strip(),\n",
    "            \"answer\": answer.strip()\n",
    "        }\n",
    "\n",
    "    except Exception as e:\n",
    "        print(f\"Erro ao extrair os componentes: {e}\")\n",
    "        return None"
   ]
  },
  {
   "cell_type": "code",
   "execution_count": 3,
   "metadata": {},
   "outputs": [],
   "source": [
    "# opens the pickle file\n",
    "with open(\"../input/Raw Text/Rag Data/respostas_obtidas.pickle_9\", 'rb') as input_file:\n",
    "    # loads the pickle file into a pandas DataFrame\n",
    "    dataset = pd.read_pickle(input_file)"
   ]
  },
  {
   "cell_type": "code",
   "execution_count": 4,
   "metadata": {},
   "outputs": [
    {
     "name": "stdout",
     "output_type": "stream",
     "text": [
      "Erro ao extrair os componentes: As seções 'Evidence' e 'Answer' não puderam ser encontradas no texto fornecido.\n"
     ]
    }
   ],
   "source": [
    "# iterando sobre todos os dados do FAQ atualizado para formatá-los\n",
    "dataset_organized = []\n",
    "for sample in dataset:\n",
    "    if 'resposta_obtida' in sample and isinstance(sample['resposta_obtida'], tuple):\n",
    "        \n",
    "        text = sample['resposta_obtida'][0]  # pegando Evidence e Answer das respostas do RAG - pega so o primeiro elemento da tupla, pra nao pegar o ChatCompletion\n",
    "        extracted_data = extract_evidence_and_answer(text)  # segmentando Evidence e Answer em formato dict \n",
    "        \n",
    "        if extracted_data:\n",
    "            organized_sample = {\n",
    "                'question': sample['pergunta'],  # pergunta do FAQ\n",
    "                'ground_truths': [sample['resposta_esperada']],  # resposta esperada do FAQ\n",
    "                'answer': extracted_data['answer'],  # resposta obtida, segmentada answer\n",
    "                'contexts': [extracted_data['evidence']]\n",
    "            }\n",
    "            dataset_organized.append(organized_sample)  # novo dataset organizado"
   ]
  },
  {
   "cell_type": "code",
   "execution_count": 5,
   "metadata": {},
   "outputs": [
    {
     "name": "stdout",
     "output_type": "stream",
     "text": [
      "Dataset organizado salvo com sucesso em ../input/Raw Text/Rag Data/RAG_dataset_IIRCformat.json!\n"
     ]
    }
   ],
   "source": [
    "# Salvando o dataset organizado em formato JSON\n",
    "file_path = '../input/Raw Text/Rag Data/RAG_dataset_IIRCformat.json'\n",
    "with open(file_path, 'w', encoding='utf-8') as file:\n",
    "    json.dump(dataset_organized, file, ensure_ascii=False, indent=4)\n",
    "\n",
    "print(f'Dataset organizado salvo com sucesso em {file_path}!')"
   ]
  },
  {
   "cell_type": "markdown",
   "metadata": {},
   "source": [
    "# RAGAS Implementation"
   ]
  },
  {
   "cell_type": "code",
   "execution_count": 6,
   "metadata": {},
   "outputs": [],
   "source": [
    "from datasets import Dataset\n",
    "import time\n",
    "\n",
    "def evaluate_per_sample(dataset_organized):\n",
    "    # Cria um Dataset para uso com a biblioteca 'ragas'\n",
    "    formated_dataset = Dataset.from_list(dataset_organized)\n",
    "\n",
    "    for i, sample in enumerate(dataset_organized):\n",
    "        # Seleciona cada amostra individualmente para avaliação\n",
    "        chunk = formated_dataset.select([i])\n",
    "        \n",
    "        # Avalia a amostra com as métricas definidas\n",
    "        result = ragas_eval.evaluate(dataset=chunk, metrics=[answer_relevancy, faithfulness, context_recall, context_precision], llm=llm, embeddings=embedder)\n",
    "        \n",
    "        # Atualiza o dicionário da amostra com os resultados das métricas\n",
    "        sample.update({\n",
    "            'answer_relevancy': result['answer_relevancy'],\n",
    "            'faithfulness': result['faithfulness'],\n",
    "            'context_recall': result['context_recall'],\n",
    "            'context_precision': result['context_precision']\n",
    "        })\n",
    "        \n",
    "        print(f\"Evaluating sample {i + 1}/{len(dataset_organized)}: {result}\")\n",
    "        time.sleep(60)  # Sleep 60 seconds after each sample evaluation to avoid overloading the system\n",
    "\n",
    "    return dataset_organized"
   ]
  },
  {
   "cell_type": "code",
   "execution_count": 7,
   "metadata": {},
   "outputs": [
    {
     "name": "stderr",
     "output_type": "stream",
     "text": [
      "passing column names as 'ground_truths' is deprecated and will be removed in the next version, please use 'ground_truth' instead. Note that `ground_truth` should be of type string and not Sequence[string] like `ground_truths`\n",
      "Evaluating: 100%|██████████| 4/4 [00:53<00:00, 13.44s/it]\n"
     ]
    },
    {
     "name": "stdout",
     "output_type": "stream",
     "text": [
      "Evaluating sample 1/39: {'answer_relevancy': 0.0000, 'faithfulness': 1.0000, 'context_recall': 0.0000, 'context_precision': 0.0000}\n"
     ]
    },
    {
     "name": "stderr",
     "output_type": "stream",
     "text": [
      "passing column names as 'ground_truths' is deprecated and will be removed in the next version, please use 'ground_truth' instead. Note that `ground_truth` should be of type string and not Sequence[string] like `ground_truths`\n",
      "Evaluating: 100%|██████████| 4/4 [00:13<00:00,  3.38s/it]\n"
     ]
    },
    {
     "name": "stdout",
     "output_type": "stream",
     "text": [
      "Evaluating sample 2/39: {'answer_relevancy': 0.5002, 'faithfulness': 1.0000, 'context_recall': 1.0000, 'context_precision': 1.0000}\n"
     ]
    },
    {
     "name": "stderr",
     "output_type": "stream",
     "text": [
      "passing column names as 'ground_truths' is deprecated and will be removed in the next version, please use 'ground_truth' instead. Note that `ground_truth` should be of type string and not Sequence[string] like `ground_truths`\n",
      "Evaluating: 100%|██████████| 4/4 [00:02<00:00,  1.36it/s]\n"
     ]
    },
    {
     "name": "stdout",
     "output_type": "stream",
     "text": [
      "Evaluating sample 3/39: {'answer_relevancy': 0.5232, 'faithfulness': 1.0000, 'context_recall': 0.6667, 'context_precision': 1.0000}\n"
     ]
    },
    {
     "name": "stderr",
     "output_type": "stream",
     "text": [
      "passing column names as 'ground_truths' is deprecated and will be removed in the next version, please use 'ground_truth' instead. Note that `ground_truth` should be of type string and not Sequence[string] like `ground_truths`\n",
      "Evaluating: 100%|██████████| 4/4 [00:02<00:00,  1.87it/s]\n"
     ]
    },
    {
     "name": "stdout",
     "output_type": "stream",
     "text": [
      "Evaluating sample 4/39: {'answer_relevancy': 0.2866, 'faithfulness': 1.0000, 'context_recall': 0.1429, 'context_precision': 1.0000}\n"
     ]
    },
    {
     "name": "stderr",
     "output_type": "stream",
     "text": [
      "passing column names as 'ground_truths' is deprecated and will be removed in the next version, please use 'ground_truth' instead. Note that `ground_truth` should be of type string and not Sequence[string] like `ground_truths`\n",
      "Evaluating: 100%|██████████| 4/4 [00:01<00:00,  2.30it/s]\n"
     ]
    },
    {
     "name": "stdout",
     "output_type": "stream",
     "text": [
      "Evaluating sample 5/39: {'answer_relevancy': 0.1422, 'faithfulness': 1.0000, 'context_recall': 0.3333, 'context_precision': 1.0000}\n"
     ]
    },
    {
     "name": "stderr",
     "output_type": "stream",
     "text": [
      "passing column names as 'ground_truths' is deprecated and will be removed in the next version, please use 'ground_truth' instead. Note that `ground_truth` should be of type string and not Sequence[string] like `ground_truths`\n",
      "Evaluating: 100%|██████████| 4/4 [00:02<00:00,  1.47it/s]\n"
     ]
    },
    {
     "name": "stdout",
     "output_type": "stream",
     "text": [
      "Evaluating sample 6/39: {'answer_relevancy': 0.5872, 'faithfulness': 1.0000, 'context_recall': 1.0000, 'context_precision': 1.0000}\n"
     ]
    },
    {
     "name": "stderr",
     "output_type": "stream",
     "text": [
      "passing column names as 'ground_truths' is deprecated and will be removed in the next version, please use 'ground_truth' instead. Note that `ground_truth` should be of type string and not Sequence[string] like `ground_truths`\n",
      "Evaluating: 100%|██████████| 4/4 [00:31<00:00,  7.78s/it]\n"
     ]
    },
    {
     "name": "stdout",
     "output_type": "stream",
     "text": [
      "Evaluating sample 7/39: {'answer_relevancy': 0.3972, 'faithfulness': 1.0000, 'context_recall': 0.6667, 'context_precision': 0.0000}\n"
     ]
    },
    {
     "name": "stderr",
     "output_type": "stream",
     "text": [
      "passing column names as 'ground_truths' is deprecated and will be removed in the next version, please use 'ground_truth' instead. Note that `ground_truth` should be of type string and not Sequence[string] like `ground_truths`\n",
      "Evaluating: 100%|██████████| 4/4 [00:13<00:00,  3.30s/it]\n"
     ]
    },
    {
     "name": "stdout",
     "output_type": "stream",
     "text": [
      "Evaluating sample 8/39: {'answer_relevancy': 0.5815, 'faithfulness': 1.0000, 'context_recall': 1.0000, 'context_precision': 1.0000}\n"
     ]
    },
    {
     "name": "stderr",
     "output_type": "stream",
     "text": [
      "passing column names as 'ground_truths' is deprecated and will be removed in the next version, please use 'ground_truth' instead. Note that `ground_truth` should be of type string and not Sequence[string] like `ground_truths`\n",
      "Evaluating: 100%|██████████| 4/4 [00:02<00:00,  1.86it/s]\n"
     ]
    },
    {
     "name": "stdout",
     "output_type": "stream",
     "text": [
      "Evaluating sample 9/39: {'answer_relevancy': 0.6970, 'faithfulness': 1.0000, 'context_recall': 0.3333, 'context_precision': 1.0000}\n"
     ]
    },
    {
     "name": "stderr",
     "output_type": "stream",
     "text": [
      "passing column names as 'ground_truths' is deprecated and will be removed in the next version, please use 'ground_truth' instead. Note that `ground_truth` should be of type string and not Sequence[string] like `ground_truths`\n",
      "Evaluating: 100%|██████████| 4/4 [00:02<00:00,  1.54it/s]\n"
     ]
    },
    {
     "name": "stdout",
     "output_type": "stream",
     "text": [
      "Evaluating sample 10/39: {'answer_relevancy': 0.1418, 'faithfulness': 1.0000, 'context_recall': 1.0000, 'context_precision': 1.0000}\n"
     ]
    },
    {
     "name": "stderr",
     "output_type": "stream",
     "text": [
      "passing column names as 'ground_truths' is deprecated and will be removed in the next version, please use 'ground_truth' instead. Note that `ground_truth` should be of type string and not Sequence[string] like `ground_truths`\n",
      "Evaluating: 100%|██████████| 4/4 [00:01<00:00,  2.48it/s]\n"
     ]
    },
    {
     "name": "stdout",
     "output_type": "stream",
     "text": [
      "Evaluating sample 11/39: {'answer_relevancy': 0.3399, 'faithfulness': 1.0000, 'context_recall': 0.6667, 'context_precision': 1.0000}\n"
     ]
    },
    {
     "name": "stderr",
     "output_type": "stream",
     "text": [
      "passing column names as 'ground_truths' is deprecated and will be removed in the next version, please use 'ground_truth' instead. Note that `ground_truth` should be of type string and not Sequence[string] like `ground_truths`\n",
      "Evaluating: 100%|██████████| 4/4 [00:14<00:00,  3.55s/it]\n"
     ]
    },
    {
     "name": "stdout",
     "output_type": "stream",
     "text": [
      "Evaluating sample 12/39: {'answer_relevancy': 0.2074, 'faithfulness': 1.0000, 'context_recall': 0.0000, 'context_precision': 1.0000}\n"
     ]
    },
    {
     "name": "stderr",
     "output_type": "stream",
     "text": [
      "passing column names as 'ground_truths' is deprecated and will be removed in the next version, please use 'ground_truth' instead. Note that `ground_truth` should be of type string and not Sequence[string] like `ground_truths`\n",
      "Evaluating: 100%|██████████| 4/4 [00:02<00:00,  1.96it/s]\n"
     ]
    },
    {
     "name": "stdout",
     "output_type": "stream",
     "text": [
      "Evaluating sample 13/39: {'answer_relevancy': 0.3885, 'faithfulness': 1.0000, 'context_recall': 1.0000, 'context_precision': 1.0000}\n"
     ]
    },
    {
     "name": "stderr",
     "output_type": "stream",
     "text": [
      "passing column names as 'ground_truths' is deprecated and will be removed in the next version, please use 'ground_truth' instead. Note that `ground_truth` should be of type string and not Sequence[string] like `ground_truths`\n",
      "Evaluating: 100%|██████████| 4/4 [00:02<00:00,  1.75it/s]\n"
     ]
    },
    {
     "name": "stdout",
     "output_type": "stream",
     "text": [
      "Evaluating sample 14/39: {'answer_relevancy': 0.5103, 'faithfulness': 1.0000, 'context_recall': 0.0000, 'context_precision': 0.0000}\n"
     ]
    },
    {
     "name": "stderr",
     "output_type": "stream",
     "text": [
      "passing column names as 'ground_truths' is deprecated and will be removed in the next version, please use 'ground_truth' instead. Note that `ground_truth` should be of type string and not Sequence[string] like `ground_truths`\n",
      "Evaluating: 100%|██████████| 4/4 [00:01<00:00,  2.07it/s]\n"
     ]
    },
    {
     "name": "stdout",
     "output_type": "stream",
     "text": [
      "Evaluating sample 15/39: {'answer_relevancy': 0.3872, 'faithfulness': 1.0000, 'context_recall': 1.0000, 'context_precision': 1.0000}\n"
     ]
    },
    {
     "name": "stderr",
     "output_type": "stream",
     "text": [
      "passing column names as 'ground_truths' is deprecated and will be removed in the next version, please use 'ground_truth' instead. Note that `ground_truth` should be of type string and not Sequence[string] like `ground_truths`\n",
      "Evaluating: 100%|██████████| 4/4 [00:08<00:00,  2.15s/it]\n"
     ]
    },
    {
     "name": "stdout",
     "output_type": "stream",
     "text": [
      "Evaluating sample 16/39: {'answer_relevancy': 0.4745, 'faithfulness': 0.5000, 'context_recall': 1.0000, 'context_precision': 1.0000}\n"
     ]
    },
    {
     "name": "stderr",
     "output_type": "stream",
     "text": [
      "passing column names as 'ground_truths' is deprecated and will be removed in the next version, please use 'ground_truth' instead. Note that `ground_truth` should be of type string and not Sequence[string] like `ground_truths`\n",
      "Evaluating: 100%|██████████| 4/4 [00:02<00:00,  1.91it/s]\n"
     ]
    },
    {
     "name": "stdout",
     "output_type": "stream",
     "text": [
      "Evaluating sample 17/39: {'answer_relevancy': 0.2262, 'faithfulness': 1.0000, 'context_recall': 0.2000, 'context_precision': 1.0000}\n"
     ]
    },
    {
     "name": "stderr",
     "output_type": "stream",
     "text": [
      "passing column names as 'ground_truths' is deprecated and will be removed in the next version, please use 'ground_truth' instead. Note that `ground_truth` should be of type string and not Sequence[string] like `ground_truths`\n",
      "Evaluating: 100%|██████████| 4/4 [00:02<00:00,  1.52it/s]\n"
     ]
    },
    {
     "name": "stdout",
     "output_type": "stream",
     "text": [
      "Evaluating sample 18/39: {'answer_relevancy': 0.2980, 'faithfulness': 1.0000, 'context_recall': 0.5000, 'context_precision': 0.0000}\n"
     ]
    },
    {
     "name": "stderr",
     "output_type": "stream",
     "text": [
      "passing column names as 'ground_truths' is deprecated and will be removed in the next version, please use 'ground_truth' instead. Note that `ground_truth` should be of type string and not Sequence[string] like `ground_truths`\n",
      "Evaluating: 100%|██████████| 4/4 [00:03<00:00,  1.18it/s]\n"
     ]
    },
    {
     "name": "stdout",
     "output_type": "stream",
     "text": [
      "Evaluating sample 19/39: {'answer_relevancy': 0.0000, 'faithfulness': 1.0000, 'context_recall': 0.2000, 'context_precision': 0.0000}\n"
     ]
    },
    {
     "name": "stderr",
     "output_type": "stream",
     "text": [
      "passing column names as 'ground_truths' is deprecated and will be removed in the next version, please use 'ground_truth' instead. Note that `ground_truth` should be of type string and not Sequence[string] like `ground_truths`\n",
      "Evaluating: 100%|██████████| 4/4 [00:02<00:00,  1.97it/s]\n"
     ]
    },
    {
     "name": "stdout",
     "output_type": "stream",
     "text": [
      "Evaluating sample 20/39: {'answer_relevancy': 0.6403, 'faithfulness': 0.6667, 'context_recall': 1.0000, 'context_precision': 1.0000}\n"
     ]
    },
    {
     "name": "stderr",
     "output_type": "stream",
     "text": [
      "passing column names as 'ground_truths' is deprecated and will be removed in the next version, please use 'ground_truth' instead. Note that `ground_truth` should be of type string and not Sequence[string] like `ground_truths`\n",
      "Evaluating: 100%|██████████| 4/4 [00:23<00:00,  5.86s/it]\n"
     ]
    },
    {
     "name": "stdout",
     "output_type": "stream",
     "text": [
      "Evaluating sample 21/39: {'answer_relevancy': 0.2930, 'faithfulness': 0.5000, 'context_recall': 1.0000, 'context_precision': 1.0000}\n"
     ]
    },
    {
     "name": "stderr",
     "output_type": "stream",
     "text": [
      "passing column names as 'ground_truths' is deprecated and will be removed in the next version, please use 'ground_truth' instead. Note that `ground_truth` should be of type string and not Sequence[string] like `ground_truths`\n",
      "Evaluating: 100%|██████████| 4/4 [00:01<00:00,  2.21it/s]\n"
     ]
    },
    {
     "name": "stdout",
     "output_type": "stream",
     "text": [
      "Evaluating sample 22/39: {'answer_relevancy': 0.4661, 'faithfulness': 1.0000, 'context_recall': 0.0000, 'context_precision': 1.0000}\n"
     ]
    },
    {
     "name": "stderr",
     "output_type": "stream",
     "text": [
      "passing column names as 'ground_truths' is deprecated and will be removed in the next version, please use 'ground_truth' instead. Note that `ground_truth` should be of type string and not Sequence[string] like `ground_truths`\n",
      "Evaluating: 100%|██████████| 4/4 [00:02<00:00,  1.82it/s]\n"
     ]
    },
    {
     "name": "stdout",
     "output_type": "stream",
     "text": [
      "Evaluating sample 23/39: {'answer_relevancy': 0.0796, 'faithfulness': 1.0000, 'context_recall': 0.2500, 'context_precision': 1.0000}\n"
     ]
    },
    {
     "name": "stderr",
     "output_type": "stream",
     "text": [
      "passing column names as 'ground_truths' is deprecated and will be removed in the next version, please use 'ground_truth' instead. Note that `ground_truth` should be of type string and not Sequence[string] like `ground_truths`\n",
      "Evaluating: 100%|██████████| 4/4 [00:04<00:00,  1.06s/it]\n"
     ]
    },
    {
     "name": "stdout",
     "output_type": "stream",
     "text": [
      "Evaluating sample 24/39: {'answer_relevancy': 0.4315, 'faithfulness': 0.0000, 'context_recall': 1.0000, 'context_precision': 1.0000}\n"
     ]
    },
    {
     "name": "stderr",
     "output_type": "stream",
     "text": [
      "passing column names as 'ground_truths' is deprecated and will be removed in the next version, please use 'ground_truth' instead. Note that `ground_truth` should be of type string and not Sequence[string] like `ground_truths`\n",
      "Evaluating: 100%|██████████| 4/4 [00:01<00:00,  2.04it/s]\n"
     ]
    },
    {
     "name": "stdout",
     "output_type": "stream",
     "text": [
      "Evaluating sample 25/39: {'answer_relevancy': 0.3992, 'faithfulness': 1.0000, 'context_recall': 0.1667, 'context_precision': 0.0000}\n"
     ]
    },
    {
     "name": "stderr",
     "output_type": "stream",
     "text": [
      "passing column names as 'ground_truths' is deprecated and will be removed in the next version, please use 'ground_truth' instead. Note that `ground_truth` should be of type string and not Sequence[string] like `ground_truths`\n",
      "Evaluating: 100%|██████████| 4/4 [00:10<00:00,  2.61s/it]\n"
     ]
    },
    {
     "name": "stdout",
     "output_type": "stream",
     "text": [
      "Evaluating sample 26/39: {'answer_relevancy': 0.0504, 'faithfulness': 1.0000, 'context_recall': 0.0000, 'context_precision': 0.0000}\n"
     ]
    },
    {
     "name": "stderr",
     "output_type": "stream",
     "text": [
      "passing column names as 'ground_truths' is deprecated and will be removed in the next version, please use 'ground_truth' instead. Note that `ground_truth` should be of type string and not Sequence[string] like `ground_truths`\n",
      "Evaluating: 100%|██████████| 4/4 [00:02<00:00,  1.62it/s]\n"
     ]
    },
    {
     "name": "stdout",
     "output_type": "stream",
     "text": [
      "Evaluating sample 27/39: {'answer_relevancy': 0.2622, 'faithfulness': 1.0000, 'context_recall': 0.3333, 'context_precision': 1.0000}\n"
     ]
    },
    {
     "name": "stderr",
     "output_type": "stream",
     "text": [
      "passing column names as 'ground_truths' is deprecated and will be removed in the next version, please use 'ground_truth' instead. Note that `ground_truth` should be of type string and not Sequence[string] like `ground_truths`\n",
      "Evaluating: 100%|██████████| 4/4 [00:01<00:00,  2.18it/s]\n"
     ]
    },
    {
     "name": "stdout",
     "output_type": "stream",
     "text": [
      "Evaluating sample 28/39: {'answer_relevancy': 0.3234, 'faithfulness': 1.0000, 'context_recall': 0.3333, 'context_precision': 1.0000}\n"
     ]
    },
    {
     "name": "stderr",
     "output_type": "stream",
     "text": [
      "passing column names as 'ground_truths' is deprecated and will be removed in the next version, please use 'ground_truth' instead. Note that `ground_truth` should be of type string and not Sequence[string] like `ground_truths`\n",
      "Evaluating: 100%|██████████| 4/4 [00:07<00:00,  1.82s/it]\n"
     ]
    },
    {
     "name": "stdout",
     "output_type": "stream",
     "text": [
      "Evaluating sample 29/39: {'answer_relevancy': 0.1798, 'faithfulness': 1.0000, 'context_recall': 1.0000, 'context_precision': 1.0000}\n"
     ]
    },
    {
     "name": "stderr",
     "output_type": "stream",
     "text": [
      "passing column names as 'ground_truths' is deprecated and will be removed in the next version, please use 'ground_truth' instead. Note that `ground_truth` should be of type string and not Sequence[string] like `ground_truths`\n",
      "Evaluating: 100%|██████████| 4/4 [00:10<00:00,  2.71s/it]\n"
     ]
    },
    {
     "name": "stdout",
     "output_type": "stream",
     "text": [
      "Evaluating sample 30/39: {'answer_relevancy': 0.4014, 'faithfulness': 1.0000, 'context_recall': 1.0000, 'context_precision': 1.0000}\n"
     ]
    },
    {
     "name": "stderr",
     "output_type": "stream",
     "text": [
      "passing column names as 'ground_truths' is deprecated and will be removed in the next version, please use 'ground_truth' instead. Note that `ground_truth` should be of type string and not Sequence[string] like `ground_truths`\n",
      "Evaluating: 100%|██████████| 4/4 [00:02<00:00,  1.68it/s]\n"
     ]
    },
    {
     "name": "stdout",
     "output_type": "stream",
     "text": [
      "Evaluating sample 31/39: {'answer_relevancy': 0.1624, 'faithfulness': 0.5000, 'context_recall': 0.3333, 'context_precision': 1.0000}\n"
     ]
    },
    {
     "name": "stderr",
     "output_type": "stream",
     "text": [
      "passing column names as 'ground_truths' is deprecated and will be removed in the next version, please use 'ground_truth' instead. Note that `ground_truth` should be of type string and not Sequence[string] like `ground_truths`\n",
      "Evaluating: 100%|██████████| 4/4 [00:02<00:00,  1.90it/s]\n"
     ]
    },
    {
     "name": "stdout",
     "output_type": "stream",
     "text": [
      "Evaluating sample 32/39: {'answer_relevancy': 0.5075, 'faithfulness': 0.6667, 'context_recall': 0.3333, 'context_precision': 1.0000}\n"
     ]
    },
    {
     "name": "stderr",
     "output_type": "stream",
     "text": [
      "passing column names as 'ground_truths' is deprecated and will be removed in the next version, please use 'ground_truth' instead. Note that `ground_truth` should be of type string and not Sequence[string] like `ground_truths`\n",
      "Evaluating: 100%|██████████| 4/4 [00:01<00:00,  2.35it/s]\n"
     ]
    },
    {
     "name": "stdout",
     "output_type": "stream",
     "text": [
      "Evaluating sample 33/39: {'answer_relevancy': 0.3498, 'faithfulness': 1.0000, 'context_recall': 1.0000, 'context_precision': 1.0000}\n"
     ]
    },
    {
     "name": "stderr",
     "output_type": "stream",
     "text": [
      "passing column names as 'ground_truths' is deprecated and will be removed in the next version, please use 'ground_truth' instead. Note that `ground_truth` should be of type string and not Sequence[string] like `ground_truths`\n",
      "Evaluating: 100%|██████████| 4/4 [00:02<00:00,  1.87it/s]\n"
     ]
    },
    {
     "name": "stdout",
     "output_type": "stream",
     "text": [
      "Evaluating sample 34/39: {'answer_relevancy': 0.1040, 'faithfulness': 1.0000, 'context_recall': 1.0000, 'context_precision': 1.0000}\n"
     ]
    },
    {
     "name": "stderr",
     "output_type": "stream",
     "text": [
      "passing column names as 'ground_truths' is deprecated and will be removed in the next version, please use 'ground_truth' instead. Note that `ground_truth` should be of type string and not Sequence[string] like `ground_truths`\n",
      "Evaluating: 100%|██████████| 4/4 [00:17<00:00,  4.39s/it]\n"
     ]
    },
    {
     "name": "stdout",
     "output_type": "stream",
     "text": [
      "Evaluating sample 35/39: {'answer_relevancy': 0.3922, 'faithfulness': 1.0000, 'context_recall': 0.5000, 'context_precision': 1.0000}\n"
     ]
    },
    {
     "name": "stderr",
     "output_type": "stream",
     "text": [
      "passing column names as 'ground_truths' is deprecated and will be removed in the next version, please use 'ground_truth' instead. Note that `ground_truth` should be of type string and not Sequence[string] like `ground_truths`\n",
      "Evaluating: 100%|██████████| 4/4 [00:02<00:00,  1.38it/s]\n"
     ]
    },
    {
     "name": "stdout",
     "output_type": "stream",
     "text": [
      "Evaluating sample 36/39: {'answer_relevancy': 0.5795, 'faithfulness': 1.0000, 'context_recall': 1.0000, 'context_precision': 1.0000}\n"
     ]
    },
    {
     "name": "stderr",
     "output_type": "stream",
     "text": [
      "passing column names as 'ground_truths' is deprecated and will be removed in the next version, please use 'ground_truth' instead. Note that `ground_truth` should be of type string and not Sequence[string] like `ground_truths`\n",
      "Evaluating: 100%|██████████| 4/4 [00:51<00:00, 12.81s/it]\n"
     ]
    },
    {
     "name": "stdout",
     "output_type": "stream",
     "text": [
      "Evaluating sample 37/39: {'answer_relevancy': 0.6919, 'faithfulness': 1.0000, 'context_recall': 1.0000, 'context_precision': 1.0000}\n"
     ]
    },
    {
     "name": "stderr",
     "output_type": "stream",
     "text": [
      "passing column names as 'ground_truths' is deprecated and will be removed in the next version, please use 'ground_truth' instead. Note that `ground_truth` should be of type string and not Sequence[string] like `ground_truths`\n",
      "Evaluating: 100%|██████████| 4/4 [00:01<00:00,  2.83it/s]\n"
     ]
    },
    {
     "name": "stdout",
     "output_type": "stream",
     "text": [
      "Evaluating sample 38/39: {'answer_relevancy': 0.4219, 'faithfulness': 1.0000, 'context_recall': 1.0000, 'context_precision': 1.0000}\n"
     ]
    },
    {
     "name": "stderr",
     "output_type": "stream",
     "text": [
      "passing column names as 'ground_truths' is deprecated and will be removed in the next version, please use 'ground_truth' instead. Note that `ground_truth` should be of type string and not Sequence[string] like `ground_truths`\n",
      "Evaluating: 100%|██████████| 4/4 [00:02<00:00,  1.63it/s]\n"
     ]
    },
    {
     "name": "stdout",
     "output_type": "stream",
     "text": [
      "Evaluating sample 39/39: {'answer_relevancy': 0.4826, 'faithfulness': 1.0000, 'context_recall': 1.0000, 'context_precision': 1.0000}\n"
     ]
    }
   ],
   "source": [
    "# dataset_organized should be defined and filled with the required data before calling this function\n",
    "updated_dataset = evaluate_per_sample(dataset_organized)"
   ]
  },
  {
   "cell_type": "code",
   "execution_count": 8,
   "metadata": {},
   "outputs": [
    {
     "name": "stdout",
     "output_type": "stream",
     "text": [
      "Dataset organizado salvo com sucesso em ../input/Raw Text/dataset/RAG_FinalDataset_v2.json!\n"
     ]
    }
   ],
   "source": [
    "# Salvando o dataset organizado em formato JSON\n",
    "file_path = '../input/Raw Text/dataset/RAG_FinalDataset_v2.json'\n",
    "with open(file_path, 'w', encoding='utf-8') as file:\n",
    "    json.dump(updated_dataset, file, ensure_ascii=False, indent=5)\n",
    "\n",
    "print(f'Dataset organizado salvo com sucesso em {file_path}!')"
   ]
  },
  {
   "cell_type": "code",
   "execution_count": 9,
   "metadata": {},
   "outputs": [
    {
     "data": {
      "text/html": [
       "<div>\n",
       "<style scoped>\n",
       "    .dataframe tbody tr th:only-of-type {\n",
       "        vertical-align: middle;\n",
       "    }\n",
       "\n",
       "    .dataframe tbody tr th {\n",
       "        vertical-align: top;\n",
       "    }\n",
       "\n",
       "    .dataframe thead th {\n",
       "        text-align: right;\n",
       "    }\n",
       "</style>\n",
       "<table border=\"1\" class=\"dataframe\">\n",
       "  <thead>\n",
       "    <tr style=\"text-align: right;\">\n",
       "      <th></th>\n",
       "      <th>question</th>\n",
       "      <th>ground_truths</th>\n",
       "      <th>answer</th>\n",
       "      <th>contexts</th>\n",
       "      <th>answer_relevancy</th>\n",
       "      <th>faithfulness</th>\n",
       "      <th>context_recall</th>\n",
       "      <th>context_precision</th>\n",
       "    </tr>\n",
       "  </thead>\n",
       "  <tbody>\n",
       "    <tr>\n",
       "      <th>0</th>\n",
       "      <td>Em quais hipóteses a Procuradoria Geral pode e...</td>\n",
       "      <td>[A Procuradoria Geral da UNICAMP integra a Adv...</td>\n",
       "      <td>Não há resposta baseada nos documentos forneci...</td>\n",
       "      <td>[Não há menção à UNICAMP ou à Procuradoria Ger...</td>\n",
       "      <td>0.000000</td>\n",
       "      <td>1.000000</td>\n",
       "      <td>0.000000</td>\n",
       "      <td>0.0</td>\n",
       "    </tr>\n",
       "    <tr>\n",
       "      <th>1</th>\n",
       "      <td>Como ocorrem as atividades de cooperação, pesq...</td>\n",
       "      <td>[Nos termos do art. 1° da Deliberação CONSU-A-...</td>\n",
       "      <td>mediante convênios, contratos e instrumentos s...</td>\n",
       "      <td>[De acordo com o trecho 'A atuação da Universi...</td>\n",
       "      <td>0.500184</td>\n",
       "      <td>1.000000</td>\n",
       "      <td>1.000000</td>\n",
       "      <td>1.0</td>\n",
       "    </tr>\n",
       "    <tr>\n",
       "      <th>2</th>\n",
       "      <td>Qual é o procedimento para a celebração de con...</td>\n",
       "      <td>[Na Unicamp, a celebração de convênios, contra...</td>\n",
       "      <td>Abertura de processos administrativos eletrôni...</td>\n",
       "      <td>[De acordo com o trecho 'CAPÍTULO II – DA TRAM...</td>\n",
       "      <td>0.523229</td>\n",
       "      <td>1.000000</td>\n",
       "      <td>0.666667</td>\n",
       "      <td>1.0</td>\n",
       "    </tr>\n",
       "    <tr>\n",
       "      <th>3</th>\n",
       "      <td>Qual é o sistema utilizado para a tramitação d...</td>\n",
       "      <td>[Os documentos essenciais estão elencados no a...</td>\n",
       "      <td>Processos administrativos eletrônicos</td>\n",
       "      <td>[De acordo com o trecho 'As propostas de convê...</td>\n",
       "      <td>0.286637</td>\n",
       "      <td>1.000000</td>\n",
       "      <td>0.142857</td>\n",
       "      <td>1.0</td>\n",
       "    </tr>\n",
       "    <tr>\n",
       "      <th>4</th>\n",
       "      <td>O que é o Plano de Aplicação de Recursos?</td>\n",
       "      <td>[O Plano de Aplicação de Recursos é o document...</td>\n",
       "      <td>Documento que indica as rubricas de despesas.</td>\n",
       "      <td>[De acordo com o trecho 'O Plano de Aplicação ...</td>\n",
       "      <td>0.142239</td>\n",
       "      <td>1.000000</td>\n",
       "      <td>0.333333</td>\n",
       "      <td>1.0</td>\n",
       "    </tr>\n",
       "    <tr>\n",
       "      <th>5</th>\n",
       "      <td>Quem pode ser executor de um convênio e quais ...</td>\n",
       "      <td>[Nos termos do art. 18, §1° da Deliberação CON...</td>\n",
       "      <td>Servidores ativos da Unicamp que estejam diret...</td>\n",
       "      <td>[De acordo com o trecho 'Poderão figurar como ...</td>\n",
       "      <td>0.587181</td>\n",
       "      <td>1.000000</td>\n",
       "      <td>1.000000</td>\n",
       "      <td>1.0</td>\n",
       "    </tr>\n",
       "    <tr>\n",
       "      <th>6</th>\n",
       "      <td>Quem é a autoridade competente para assinatura...</td>\n",
       "      <td>[Como regra, a autoridade competente para assi...</td>\n",
       "      <td>Pró-Reitor de Graduação, Pró-Reitor de Pós-Gra...</td>\n",
       "      <td>[De acordo com o trecho 'Artigo 9º  – Fica del...</td>\n",
       "      <td>0.397156</td>\n",
       "      <td>1.000000</td>\n",
       "      <td>0.666667</td>\n",
       "      <td>0.0</td>\n",
       "    </tr>\n",
       "    <tr>\n",
       "      <th>7</th>\n",
       "      <td>Existe uma tramitação simplificada para aprova...</td>\n",
       "      <td>[Sim, o art. 7º da Deliberação CONSU-A-016/202...</td>\n",
       "      <td>sim</td>\n",
       "      <td>[De acordo com o trecho 'Ficam estabelecidas a...</td>\n",
       "      <td>0.581523</td>\n",
       "      <td>1.000000</td>\n",
       "      <td>1.000000</td>\n",
       "      <td>1.0</td>\n",
       "    </tr>\n",
       "    <tr>\n",
       "      <th>8</th>\n",
       "      <td>Quando se deve utilizar um Termo Aditivo a um ...</td>\n",
       "      <td>[Em razão da inexistência de uma única lei ou ...</td>\n",
       "      <td>Quando se deseja alterar os termos do convênio...</td>\n",
       "      <td>[De acordo com o trecho 'Em suma, independente...</td>\n",
       "      <td>0.696983</td>\n",
       "      <td>1.000000</td>\n",
       "      <td>0.333333</td>\n",
       "      <td>1.0</td>\n",
       "    </tr>\n",
       "    <tr>\n",
       "      <th>9</th>\n",
       "      <td>É possível que o convênio preveja o pagamento ...</td>\n",
       "      <td>[Sim, a concessão de bolsas estímulo à inovaçã...</td>\n",
       "      <td>sim</td>\n",
       "      <td>[De acordo com o trecho 'Artigo 1º  - A Unicam...</td>\n",
       "      <td>0.141775</td>\n",
       "      <td>1.000000</td>\n",
       "      <td>1.000000</td>\n",
       "      <td>1.0</td>\n",
       "    </tr>\n",
       "    <tr>\n",
       "      <th>10</th>\n",
       "      <td>Como ocorre a tramitação de convênio com insti...</td>\n",
       "      <td>[A tramitação de convênio que só tenha a funda...</td>\n",
       "      <td>Formalizado nos termos do artigo 2º e seguindo...</td>\n",
       "      <td>[De acordo com o trecho 'O processo de convêni...</td>\n",
       "      <td>0.339935</td>\n",
       "      <td>1.000000</td>\n",
       "      <td>0.666667</td>\n",
       "      <td>1.0</td>\n",
       "    </tr>\n",
       "    <tr>\n",
       "      <th>11</th>\n",
       "      <td>A execução foi concluída. Como se encerra o pr...</td>\n",
       "      <td>[O encerramento do processo deverá ocorrer apó...</td>\n",
       "      <td>Submissão às instâncias: Procuradoria Geral, C...</td>\n",
       "      <td>[De acordo com o trecho 'Concluída a aprovação...</td>\n",
       "      <td>0.207360</td>\n",
       "      <td>1.000000</td>\n",
       "      <td>0.000000</td>\n",
       "      <td>1.0</td>\n",
       "    </tr>\n",
       "    <tr>\n",
       "      <th>12</th>\n",
       "      <td>As manifestações emitidas por servidores, doce...</td>\n",
       "      <td>[Não. Nos termos da Deliberação CAD-A-04/2003 ...</td>\n",
       "      <td>não</td>\n",
       "      <td>[De acordo com o trecho 'O conteúdo e as concl...</td>\n",
       "      <td>0.388475</td>\n",
       "      <td>1.000000</td>\n",
       "      <td>1.000000</td>\n",
       "      <td>1.0</td>\n",
       "    </tr>\n",
       "    <tr>\n",
       "      <th>13</th>\n",
       "      <td>Qual procedimento deve ser adotado para utiliz...</td>\n",
       "      <td>[A Resolução GR-028/2004 condiciona o uso da m...</td>\n",
       "      <td>Orientação da Supervisão de Organização e Méto...</td>\n",
       "      <td>[De acordo com o trecho 'Artigo 1º - A inserçã...</td>\n",
       "      <td>0.510321</td>\n",
       "      <td>1.000000</td>\n",
       "      <td>0.000000</td>\n",
       "      <td>0.0</td>\n",
       "    </tr>\n",
       "    <tr>\n",
       "      <th>14</th>\n",
       "      <td>Quais as condições e a forma de utilização da ...</td>\n",
       "      <td>[A Portaria GR-034/1995 dispõe sobre as condiç...</td>\n",
       "      <td>Conforme Portaria GR-034/1995.</td>\n",
       "      <td>[De acordo com o trecho 'Dispõe sobre as condi...</td>\n",
       "      <td>0.387169</td>\n",
       "      <td>1.000000</td>\n",
       "      <td>1.000000</td>\n",
       "      <td>1.0</td>\n",
       "    </tr>\n",
       "    <tr>\n",
       "      <th>15</th>\n",
       "      <td>As unidades e órgãos universitários podem util...</td>\n",
       "      <td>[Nos termos do artigo 4º da Portaria GR-034/19...</td>\n",
       "      <td>Sim, com aprovação.</td>\n",
       "      <td>[De acordo com o trecho 'As unidades universit...</td>\n",
       "      <td>0.474497</td>\n",
       "      <td>0.500000</td>\n",
       "      <td>1.000000</td>\n",
       "      <td>1.0</td>\n",
       "    </tr>\n",
       "    <tr>\n",
       "      <th>16</th>\n",
       "      <td>As reuniões de órgãos colegiados da UNICAMP po...</td>\n",
       "      <td>[As gravações das reuniões de órgãos colegiado...</td>\n",
       "      <td>sim</td>\n",
       "      <td>[De acordo com o trecho 'Artigo 7º  - Os áudio...</td>\n",
       "      <td>0.226163</td>\n",
       "      <td>1.000000</td>\n",
       "      <td>0.200000</td>\n",
       "      <td>1.0</td>\n",
       "    </tr>\n",
       "    <tr>\n",
       "      <th>17</th>\n",
       "      <td>As gravações podem ser disponibilizadas a terc...</td>\n",
       "      <td>[Quanto à divulgação dos áudios e vídeos das r...</td>\n",
       "      <td>não</td>\n",
       "      <td>[De acordo com o trecho 'Cláusula 7.3 - O PESQ...</td>\n",
       "      <td>0.298002</td>\n",
       "      <td>1.000000</td>\n",
       "      <td>0.500000</td>\n",
       "      <td>0.0</td>\n",
       "    </tr>\n",
       "    <tr>\n",
       "      <th>18</th>\n",
       "      <td>As pautas, atas e deliberações dos órgãos cole...</td>\n",
       "      <td>[Nos termos da Lei Federal nº 12.527/2011, pau...</td>\n",
       "      <td>não necessariamente</td>\n",
       "      <td>[De acordo com o trecho '§ 2º.  O Plenário dec...</td>\n",
       "      <td>0.000000</td>\n",
       "      <td>1.000000</td>\n",
       "      <td>0.200000</td>\n",
       "      <td>0.0</td>\n",
       "    </tr>\n",
       "    <tr>\n",
       "      <th>19</th>\n",
       "      <td>Servidor técnico-administrativo da UNICAMP pod...</td>\n",
       "      <td>[O servidor técnico administrativo da UNICAMP ...</td>\n",
       "      <td>sim, com restrições</td>\n",
       "      <td>[De acordo com o trecho 'é proibido ao servido...</td>\n",
       "      <td>0.640302</td>\n",
       "      <td>0.666667</td>\n",
       "      <td>1.000000</td>\n",
       "      <td>1.0</td>\n",
       "    </tr>\n",
       "    <tr>\n",
       "      <th>20</th>\n",
       "      <td>Docente da UNICAMP em RDIDP ou regime de dedic...</td>\n",
       "      <td>[O docente da UNICAMP em RDIDP ou em regime de...</td>\n",
       "      <td>não</td>\n",
       "      <td>[De acordo com o trecho 'vedado o exercício de...</td>\n",
       "      <td>0.292998</td>\n",
       "      <td>0.500000</td>\n",
       "      <td>1.000000</td>\n",
       "      <td>1.0</td>\n",
       "    </tr>\n",
       "    <tr>\n",
       "      <th>21</th>\n",
       "      <td>Como tramitam as sindicâncias administrativas ...</td>\n",
       "      <td>[As sindicâncias administrativas deverão trami...</td>\n",
       "      <td>Por servidor ou comissão de servidores designa...</td>\n",
       "      <td>[De acordo com o trecho 'Artigo 18 6. A sindic...</td>\n",
       "      <td>0.466056</td>\n",
       "      <td>1.000000</td>\n",
       "      <td>0.000000</td>\n",
       "      <td>1.0</td>\n",
       "    </tr>\n",
       "    <tr>\n",
       "      <th>22</th>\n",
       "      <td>Em quais hipóteses deve ser instaurada sindicâ...</td>\n",
       "      <td>[Sindicância Administrativa é o meio de apuraç...</td>\n",
       "      <td>Quando um docente infringe disposições do RDIDP.</td>\n",
       "      <td>[De acordo com o trecho 'Artigo 20 - O docente...</td>\n",
       "      <td>0.079583</td>\n",
       "      <td>1.000000</td>\n",
       "      <td>0.250000</td>\n",
       "      <td>1.0</td>\n",
       "    </tr>\n",
       "    <tr>\n",
       "      <th>23</th>\n",
       "      <td>Quem tem competência para instaurar sindicânci...</td>\n",
       "      <td>[Podem instaurar sindicância administrativa, n...</td>\n",
       "      <td>A autoridade competente</td>\n",
       "      <td>[De acordo com o trecho 'A sindicância adminis...</td>\n",
       "      <td>0.431456</td>\n",
       "      <td>0.000000</td>\n",
       "      <td>1.000000</td>\n",
       "      <td>1.0</td>\n",
       "    </tr>\n",
       "    <tr>\n",
       "      <th>24</th>\n",
       "      <td>Como deve ser a composição da Comissão?</td>\n",
       "      <td>[A Sindicância deverá ser instaurada mediante ...</td>\n",
       "      <td>Comissão de Orçamento e Patrimônio: 09 membros...</td>\n",
       "      <td>[De acordo com o trecho 'Artigo 11 – O Conselh...</td>\n",
       "      <td>0.399230</td>\n",
       "      <td>1.000000</td>\n",
       "      <td>0.166667</td>\n",
       "      <td>0.0</td>\n",
       "    </tr>\n",
       "    <tr>\n",
       "      <th>25</th>\n",
       "      <td>Qual o prazo de funcionamento da Comissão?</td>\n",
       "      <td>[A sindicância deverá ser concluída em 30 (tri...</td>\n",
       "      <td>Não há um prazo específico.</td>\n",
       "      <td>[Não há um prazo de funcionamento específico p...</td>\n",
       "      <td>0.050450</td>\n",
       "      <td>1.000000</td>\n",
       "      <td>0.000000</td>\n",
       "      <td>0.0</td>\n",
       "    </tr>\n",
       "    <tr>\n",
       "      <th>26</th>\n",
       "      <td>Há ordem específica para oitiva dos investigad...</td>\n",
       "      <td>[Em geral, a ordem de convocação dos depoentes...</td>\n",
       "      <td>sim</td>\n",
       "      <td>[De acordo com o trecho 'no caso de sindicânci...</td>\n",
       "      <td>0.262208</td>\n",
       "      <td>1.000000</td>\n",
       "      <td>0.333333</td>\n",
       "      <td>1.0</td>\n",
       "    </tr>\n",
       "    <tr>\n",
       "      <th>27</th>\n",
       "      <td>Ao final da apuração, como deve proceder a Com...</td>\n",
       "      <td>[Ao final da apuração, a Comissão de Sindicânc...</td>\n",
       "      <td>Elaborar Relatório Final</td>\n",
       "      <td>[De acordo com o trecho 'Ao final da apuração,...</td>\n",
       "      <td>0.323391</td>\n",
       "      <td>1.000000</td>\n",
       "      <td>0.333333</td>\n",
       "      <td>1.0</td>\n",
       "    </tr>\n",
       "    <tr>\n",
       "      <th>28</th>\n",
       "      <td>Durante o período de suspensão das atividades ...</td>\n",
       "      <td>[Sim. Nesse momento de suspensão das atividade...</td>\n",
       "      <td>sim</td>\n",
       "      <td>[De acordo com o trecho 'Sim. Nesse momento de...</td>\n",
       "      <td>0.179829</td>\n",
       "      <td>1.000000</td>\n",
       "      <td>1.000000</td>\n",
       "      <td>1.0</td>\n",
       "    </tr>\n",
       "    <tr>\n",
       "      <th>29</th>\n",
       "      <td>No caso de apuração de faltas disciplinares at...</td>\n",
       "      <td>[Em se tratando de infrações disciplinares atr...</td>\n",
       "      <td>Processo Administrativo Disciplinar</td>\n",
       "      <td>[De acordo com o trecho '§ 5º. Havendo dúvida ...</td>\n",
       "      <td>0.401411</td>\n",
       "      <td>1.000000</td>\n",
       "      <td>1.000000</td>\n",
       "      <td>1.0</td>\n",
       "    </tr>\n",
       "    <tr>\n",
       "      <th>30</th>\n",
       "      <td>Como saber qual procedimento deve ser instaurado?</td>\n",
       "      <td>[Conforme previsto no artigo 235 do Regimento ...</td>\n",
       "      <td>Havendo dúvida, instaurar Processo Administrat...</td>\n",
       "      <td>[De acordo com o trecho 'Havendo dúvida quanto...</td>\n",
       "      <td>0.162360</td>\n",
       "      <td>0.500000</td>\n",
       "      <td>0.333333</td>\n",
       "      <td>1.0</td>\n",
       "    </tr>\n",
       "    <tr>\n",
       "      <th>31</th>\n",
       "      <td>Em se tratando de Sindicância Investigativa, c...</td>\n",
       "      <td>[Tratando-se de Sindicância Investigativa (art...</td>\n",
       "      <td>Mediante Portaria, com 3 membros e 30 dias úteis.</td>\n",
       "      <td>[De acordo com o trecho 'A Sindicância Investi...</td>\n",
       "      <td>0.507522</td>\n",
       "      <td>0.666667</td>\n",
       "      <td>0.333333</td>\n",
       "      <td>1.0</td>\n",
       "    </tr>\n",
       "    <tr>\n",
       "      <th>32</th>\n",
       "      <td>Quem coordenará o Grupo de Trabalho responsáve...</td>\n",
       "      <td>[O coordenador do Grupo de Trabalho designado ...</td>\n",
       "      <td>Prof. Drª. Emília Wanda Rutkowski</td>\n",
       "      <td>[De acordo com o trecho 'Fica constituído o Gr...</td>\n",
       "      <td>0.349767</td>\n",
       "      <td>1.000000</td>\n",
       "      <td>1.000000</td>\n",
       "      <td>1.0</td>\n",
       "    </tr>\n",
       "    <tr>\n",
       "      <th>33</th>\n",
       "      <td>Quem é o responsável por decidir os recursos i...</td>\n",
       "      <td>[Baseado na informação retirada do Resolução G...</td>\n",
       "      <td>Diretor Executivo de Administração</td>\n",
       "      <td>[De acordo com o trecho 'j) conhecer e decidir...</td>\n",
       "      <td>0.103951</td>\n",
       "      <td>1.000000</td>\n",
       "      <td>1.000000</td>\n",
       "      <td>1.0</td>\n",
       "    </tr>\n",
       "    <tr>\n",
       "      <th>34</th>\n",
       "      <td>Quem são os responsáveis pela coordenação das ...</td>\n",
       "      <td>[O documento [Deliberação CAD-A-005/2023] menc...</td>\n",
       "      <td>Presidente da Comissão de Graduação, Coordenad...</td>\n",
       "      <td>[De acordo com o trecho 'Artigo 1º  - Fica alt...</td>\n",
       "      <td>0.392205</td>\n",
       "      <td>1.000000</td>\n",
       "      <td>0.500000</td>\n",
       "      <td>1.0</td>\n",
       "    </tr>\n",
       "    <tr>\n",
       "      <th>35</th>\n",
       "      <td>Qual é o objetivo principal do 'Prêmio Tese De...</td>\n",
       "      <td>[O objetivo principal do 'Prêmio Tese Destaque...</td>\n",
       "      <td>Reconhecer e premiar teses de destaque e estim...</td>\n",
       "      <td>[De acordo com o trecho 'Artigo 1º  – Fica ins...</td>\n",
       "      <td>0.579451</td>\n",
       "      <td>1.000000</td>\n",
       "      <td>1.000000</td>\n",
       "      <td>1.0</td>\n",
       "    </tr>\n",
       "    <tr>\n",
       "      <th>36</th>\n",
       "      <td>Quais são as competências atribuídas ao Escrit...</td>\n",
       "      <td>[Regulação, manutenção de licenças, normatizaç...</td>\n",
       "      <td>I - Regular internamente o processo de solicit...</td>\n",
       "      <td>[De acordo com o trecho 'Artigo 1º  - Fica cri...</td>\n",
       "      <td>0.691915</td>\n",
       "      <td>1.000000</td>\n",
       "      <td>1.000000</td>\n",
       "      <td>1.0</td>\n",
       "    </tr>\n",
       "    <tr>\n",
       "      <th>37</th>\n",
       "      <td>Quem pode admitir servidores na UNICAMP?</td>\n",
       "      <td>[As admissões, dispensas e demais atos referen...</td>\n",
       "      <td>O Reitor da UNICAMP</td>\n",
       "      <td>[De acordo com o trecho 'Artigo 1º - A Univers...</td>\n",
       "      <td>0.421949</td>\n",
       "      <td>1.000000</td>\n",
       "      <td>1.000000</td>\n",
       "      <td>1.0</td>\n",
       "    </tr>\n",
       "    <tr>\n",
       "      <th>38</th>\n",
       "      <td>Quem são os novos membros designados para a Co...</td>\n",
       "      <td>[De acordo com a [Portaria GR-027/2021], 'o Re...</td>\n",
       "      <td>Dra. Patrícia Regina Kitaka e outros</td>\n",
       "      <td>[De acordo com o trecho 'Artigo 1º - Ficam des...</td>\n",
       "      <td>0.482630</td>\n",
       "      <td>1.000000</td>\n",
       "      <td>1.000000</td>\n",
       "      <td>1.0</td>\n",
       "    </tr>\n",
       "  </tbody>\n",
       "</table>\n",
       "</div>"
      ],
      "text/plain": [
       "                                             question  \\\n",
       "0   Em quais hipóteses a Procuradoria Geral pode e...   \n",
       "1   Como ocorrem as atividades de cooperação, pesq...   \n",
       "2   Qual é o procedimento para a celebração de con...   \n",
       "3   Qual é o sistema utilizado para a tramitação d...   \n",
       "4           O que é o Plano de Aplicação de Recursos?   \n",
       "5   Quem pode ser executor de um convênio e quais ...   \n",
       "6   Quem é a autoridade competente para assinatura...   \n",
       "7   Existe uma tramitação simplificada para aprova...   \n",
       "8   Quando se deve utilizar um Termo Aditivo a um ...   \n",
       "9   É possível que o convênio preveja o pagamento ...   \n",
       "10  Como ocorre a tramitação de convênio com insti...   \n",
       "11  A execução foi concluída. Como se encerra o pr...   \n",
       "12  As manifestações emitidas por servidores, doce...   \n",
       "13  Qual procedimento deve ser adotado para utiliz...   \n",
       "14  Quais as condições e a forma de utilização da ...   \n",
       "15  As unidades e órgãos universitários podem util...   \n",
       "16  As reuniões de órgãos colegiados da UNICAMP po...   \n",
       "17  As gravações podem ser disponibilizadas a terc...   \n",
       "18  As pautas, atas e deliberações dos órgãos cole...   \n",
       "19  Servidor técnico-administrativo da UNICAMP pod...   \n",
       "20  Docente da UNICAMP em RDIDP ou regime de dedic...   \n",
       "21  Como tramitam as sindicâncias administrativas ...   \n",
       "22  Em quais hipóteses deve ser instaurada sindicâ...   \n",
       "23  Quem tem competência para instaurar sindicânci...   \n",
       "24            Como deve ser a composição da Comissão?   \n",
       "25         Qual o prazo de funcionamento da Comissão?   \n",
       "26  Há ordem específica para oitiva dos investigad...   \n",
       "27  Ao final da apuração, como deve proceder a Com...   \n",
       "28  Durante o período de suspensão das atividades ...   \n",
       "29  No caso de apuração de faltas disciplinares at...   \n",
       "30  Como saber qual procedimento deve ser instaurado?   \n",
       "31  Em se tratando de Sindicância Investigativa, c...   \n",
       "32  Quem coordenará o Grupo de Trabalho responsáve...   \n",
       "33  Quem é o responsável por decidir os recursos i...   \n",
       "34  Quem são os responsáveis pela coordenação das ...   \n",
       "35  Qual é o objetivo principal do 'Prêmio Tese De...   \n",
       "36  Quais são as competências atribuídas ao Escrit...   \n",
       "37           Quem pode admitir servidores na UNICAMP?   \n",
       "38  Quem são os novos membros designados para a Co...   \n",
       "\n",
       "                                        ground_truths  \\\n",
       "0   [A Procuradoria Geral da UNICAMP integra a Adv...   \n",
       "1   [Nos termos do art. 1° da Deliberação CONSU-A-...   \n",
       "2   [Na Unicamp, a celebração de convênios, contra...   \n",
       "3   [Os documentos essenciais estão elencados no a...   \n",
       "4   [O Plano de Aplicação de Recursos é o document...   \n",
       "5   [Nos termos do art. 18, §1° da Deliberação CON...   \n",
       "6   [Como regra, a autoridade competente para assi...   \n",
       "7   [Sim, o art. 7º da Deliberação CONSU-A-016/202...   \n",
       "8   [Em razão da inexistência de uma única lei ou ...   \n",
       "9   [Sim, a concessão de bolsas estímulo à inovaçã...   \n",
       "10  [A tramitação de convênio que só tenha a funda...   \n",
       "11  [O encerramento do processo deverá ocorrer apó...   \n",
       "12  [Não. Nos termos da Deliberação CAD-A-04/2003 ...   \n",
       "13  [A Resolução GR-028/2004 condiciona o uso da m...   \n",
       "14  [A Portaria GR-034/1995 dispõe sobre as condiç...   \n",
       "15  [Nos termos do artigo 4º da Portaria GR-034/19...   \n",
       "16  [As gravações das reuniões de órgãos colegiado...   \n",
       "17  [Quanto à divulgação dos áudios e vídeos das r...   \n",
       "18  [Nos termos da Lei Federal nº 12.527/2011, pau...   \n",
       "19  [O servidor técnico administrativo da UNICAMP ...   \n",
       "20  [O docente da UNICAMP em RDIDP ou em regime de...   \n",
       "21  [As sindicâncias administrativas deverão trami...   \n",
       "22  [Sindicância Administrativa é o meio de apuraç...   \n",
       "23  [Podem instaurar sindicância administrativa, n...   \n",
       "24  [A Sindicância deverá ser instaurada mediante ...   \n",
       "25  [A sindicância deverá ser concluída em 30 (tri...   \n",
       "26  [Em geral, a ordem de convocação dos depoentes...   \n",
       "27  [Ao final da apuração, a Comissão de Sindicânc...   \n",
       "28  [Sim. Nesse momento de suspensão das atividade...   \n",
       "29  [Em se tratando de infrações disciplinares atr...   \n",
       "30  [Conforme previsto no artigo 235 do Regimento ...   \n",
       "31  [Tratando-se de Sindicância Investigativa (art...   \n",
       "32  [O coordenador do Grupo de Trabalho designado ...   \n",
       "33  [Baseado na informação retirada do Resolução G...   \n",
       "34  [O documento [Deliberação CAD-A-005/2023] menc...   \n",
       "35  [O objetivo principal do 'Prêmio Tese Destaque...   \n",
       "36  [Regulação, manutenção de licenças, normatizaç...   \n",
       "37  [As admissões, dispensas e demais atos referen...   \n",
       "38  [De acordo com a [Portaria GR-027/2021], 'o Re...   \n",
       "\n",
       "                                               answer  \\\n",
       "0   Não há resposta baseada nos documentos forneci...   \n",
       "1   mediante convênios, contratos e instrumentos s...   \n",
       "2   Abertura de processos administrativos eletrôni...   \n",
       "3               Processos administrativos eletrônicos   \n",
       "4       Documento que indica as rubricas de despesas.   \n",
       "5   Servidores ativos da Unicamp que estejam diret...   \n",
       "6   Pró-Reitor de Graduação, Pró-Reitor de Pós-Gra...   \n",
       "7                                                 sim   \n",
       "8   Quando se deseja alterar os termos do convênio...   \n",
       "9                                                 sim   \n",
       "10  Formalizado nos termos do artigo 2º e seguindo...   \n",
       "11  Submissão às instâncias: Procuradoria Geral, C...   \n",
       "12                                                não   \n",
       "13  Orientação da Supervisão de Organização e Méto...   \n",
       "14                     Conforme Portaria GR-034/1995.   \n",
       "15                                Sim, com aprovação.   \n",
       "16                                                sim   \n",
       "17                                                não   \n",
       "18                                não necessariamente   \n",
       "19                                sim, com restrições   \n",
       "20                                                não   \n",
       "21  Por servidor ou comissão de servidores designa...   \n",
       "22   Quando um docente infringe disposições do RDIDP.   \n",
       "23                            A autoridade competente   \n",
       "24  Comissão de Orçamento e Patrimônio: 09 membros...   \n",
       "25                        Não há um prazo específico.   \n",
       "26                                                sim   \n",
       "27                           Elaborar Relatório Final   \n",
       "28                                                sim   \n",
       "29                Processo Administrativo Disciplinar   \n",
       "30  Havendo dúvida, instaurar Processo Administrat...   \n",
       "31  Mediante Portaria, com 3 membros e 30 dias úteis.   \n",
       "32                  Prof. Drª. Emília Wanda Rutkowski   \n",
       "33                 Diretor Executivo de Administração   \n",
       "34  Presidente da Comissão de Graduação, Coordenad...   \n",
       "35  Reconhecer e premiar teses de destaque e estim...   \n",
       "36  I - Regular internamente o processo de solicit...   \n",
       "37                                O Reitor da UNICAMP   \n",
       "38               Dra. Patrícia Regina Kitaka e outros   \n",
       "\n",
       "                                             contexts  answer_relevancy  \\\n",
       "0   [Não há menção à UNICAMP ou à Procuradoria Ger...          0.000000   \n",
       "1   [De acordo com o trecho 'A atuação da Universi...          0.500184   \n",
       "2   [De acordo com o trecho 'CAPÍTULO II – DA TRAM...          0.523229   \n",
       "3   [De acordo com o trecho 'As propostas de convê...          0.286637   \n",
       "4   [De acordo com o trecho 'O Plano de Aplicação ...          0.142239   \n",
       "5   [De acordo com o trecho 'Poderão figurar como ...          0.587181   \n",
       "6   [De acordo com o trecho 'Artigo 9º  – Fica del...          0.397156   \n",
       "7   [De acordo com o trecho 'Ficam estabelecidas a...          0.581523   \n",
       "8   [De acordo com o trecho 'Em suma, independente...          0.696983   \n",
       "9   [De acordo com o trecho 'Artigo 1º  - A Unicam...          0.141775   \n",
       "10  [De acordo com o trecho 'O processo de convêni...          0.339935   \n",
       "11  [De acordo com o trecho 'Concluída a aprovação...          0.207360   \n",
       "12  [De acordo com o trecho 'O conteúdo e as concl...          0.388475   \n",
       "13  [De acordo com o trecho 'Artigo 1º - A inserçã...          0.510321   \n",
       "14  [De acordo com o trecho 'Dispõe sobre as condi...          0.387169   \n",
       "15  [De acordo com o trecho 'As unidades universit...          0.474497   \n",
       "16  [De acordo com o trecho 'Artigo 7º  - Os áudio...          0.226163   \n",
       "17  [De acordo com o trecho 'Cláusula 7.3 - O PESQ...          0.298002   \n",
       "18  [De acordo com o trecho '§ 2º.  O Plenário dec...          0.000000   \n",
       "19  [De acordo com o trecho 'é proibido ao servido...          0.640302   \n",
       "20  [De acordo com o trecho 'vedado o exercício de...          0.292998   \n",
       "21  [De acordo com o trecho 'Artigo 18 6. A sindic...          0.466056   \n",
       "22  [De acordo com o trecho 'Artigo 20 - O docente...          0.079583   \n",
       "23  [De acordo com o trecho 'A sindicância adminis...          0.431456   \n",
       "24  [De acordo com o trecho 'Artigo 11 – O Conselh...          0.399230   \n",
       "25  [Não há um prazo de funcionamento específico p...          0.050450   \n",
       "26  [De acordo com o trecho 'no caso de sindicânci...          0.262208   \n",
       "27  [De acordo com o trecho 'Ao final da apuração,...          0.323391   \n",
       "28  [De acordo com o trecho 'Sim. Nesse momento de...          0.179829   \n",
       "29  [De acordo com o trecho '§ 5º. Havendo dúvida ...          0.401411   \n",
       "30  [De acordo com o trecho 'Havendo dúvida quanto...          0.162360   \n",
       "31  [De acordo com o trecho 'A Sindicância Investi...          0.507522   \n",
       "32  [De acordo com o trecho 'Fica constituído o Gr...          0.349767   \n",
       "33  [De acordo com o trecho 'j) conhecer e decidir...          0.103951   \n",
       "34  [De acordo com o trecho 'Artigo 1º  - Fica alt...          0.392205   \n",
       "35  [De acordo com o trecho 'Artigo 1º  – Fica ins...          0.579451   \n",
       "36  [De acordo com o trecho 'Artigo 1º  - Fica cri...          0.691915   \n",
       "37  [De acordo com o trecho 'Artigo 1º - A Univers...          0.421949   \n",
       "38  [De acordo com o trecho 'Artigo 1º - Ficam des...          0.482630   \n",
       "\n",
       "    faithfulness  context_recall  context_precision  \n",
       "0       1.000000        0.000000                0.0  \n",
       "1       1.000000        1.000000                1.0  \n",
       "2       1.000000        0.666667                1.0  \n",
       "3       1.000000        0.142857                1.0  \n",
       "4       1.000000        0.333333                1.0  \n",
       "5       1.000000        1.000000                1.0  \n",
       "6       1.000000        0.666667                0.0  \n",
       "7       1.000000        1.000000                1.0  \n",
       "8       1.000000        0.333333                1.0  \n",
       "9       1.000000        1.000000                1.0  \n",
       "10      1.000000        0.666667                1.0  \n",
       "11      1.000000        0.000000                1.0  \n",
       "12      1.000000        1.000000                1.0  \n",
       "13      1.000000        0.000000                0.0  \n",
       "14      1.000000        1.000000                1.0  \n",
       "15      0.500000        1.000000                1.0  \n",
       "16      1.000000        0.200000                1.0  \n",
       "17      1.000000        0.500000                0.0  \n",
       "18      1.000000        0.200000                0.0  \n",
       "19      0.666667        1.000000                1.0  \n",
       "20      0.500000        1.000000                1.0  \n",
       "21      1.000000        0.000000                1.0  \n",
       "22      1.000000        0.250000                1.0  \n",
       "23      0.000000        1.000000                1.0  \n",
       "24      1.000000        0.166667                0.0  \n",
       "25      1.000000        0.000000                0.0  \n",
       "26      1.000000        0.333333                1.0  \n",
       "27      1.000000        0.333333                1.0  \n",
       "28      1.000000        1.000000                1.0  \n",
       "29      1.000000        1.000000                1.0  \n",
       "30      0.500000        0.333333                1.0  \n",
       "31      0.666667        0.333333                1.0  \n",
       "32      1.000000        1.000000                1.0  \n",
       "33      1.000000        1.000000                1.0  \n",
       "34      1.000000        0.500000                1.0  \n",
       "35      1.000000        1.000000                1.0  \n",
       "36      1.000000        1.000000                1.0  \n",
       "37      1.000000        1.000000                1.0  \n",
       "38      1.000000        1.000000                1.0  "
      ]
     },
     "execution_count": 9,
     "metadata": {},
     "output_type": "execute_result"
    }
   ],
   "source": [
    "import pandas as pd\n",
    "df = pd.read_json(file_path)\n",
    "df"
   ]
  },
  {
   "cell_type": "code",
   "execution_count": 10,
   "metadata": {},
   "outputs": [
    {
     "name": "stdout",
     "output_type": "stream",
     "text": [
      "0.35660235938907325\n",
      "0.9188034188034186\n",
      "0.6143467643467642\n",
      "0.8205128204307689\n"
     ]
    }
   ],
   "source": [
    "print(df['answer_relevancy'].mean())\n",
    "print(df['faithfulness'].mean())\n",
    "print(df['context_recall'].mean())\n",
    "print(df['context_precision'].mean())"
   ]
  },
  {
   "cell_type": "code",
   "execution_count": null,
   "metadata": {},
   "outputs": [],
   "source": []
  }
 ],
 "metadata": {
  "kernelspec": {
   "display_name": "ia024_kernel",
   "language": "python",
   "name": "ia024_kernel"
  },
  "language_info": {
   "codemirror_mode": {
    "name": "ipython",
    "version": 3
   },
   "file_extension": ".py",
   "mimetype": "text/x-python",
   "name": "python",
   "nbconvert_exporter": "python",
   "pygments_lexer": "ipython3",
   "version": "3.12.2"
  }
 },
 "nbformat": 4,
 "nbformat_minor": 2
}
